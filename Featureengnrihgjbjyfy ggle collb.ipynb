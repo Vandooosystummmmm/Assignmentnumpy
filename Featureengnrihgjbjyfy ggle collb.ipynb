{
  "nbformat": 4,
  "nbformat_minor": 0,
  "metadata": {
    "colab": {
      "private_outputs": true,
      "provenance": []
    },
    "kernelspec": {
      "name": "python3",
      "display_name": "Python 3"
    },
    "language_info": {
      "name": "python"
    }
  },
  "cells": [
    {
      "cell_type": "markdown",
      "source": [
        " **Feature** **Engineering** **Assignment**"
      ],
      "metadata": {
        "id": "z3JidkO84uDs"
      }
    },
    {
      "cell_type": "markdown",
      "source": [
        "1.What is a parameter?\n",
        "Ans:-  A parameter is a measurable factor that defines a system or sets the conditions of an operation. In machine learning, parameters are the internal variables of the model, such as weights and biases in a neural network, which are adjusted during training."
      ],
      "metadata": {
        "id": "te5sZ_IG5Ce0"
      }
    },
    {
      "cell_type": "markdown",
      "source": [
        "2. What is correlation? What does negative correlation mean?\n",
        "ans:-  Correlation measures the relationship between two variables, indicating how one variable changes as the other variable changes. Negative correlation means that as one variable increases, the other variable decreases.\n",
        "\n",
        "3. Define Machine Learning. What are the main components in Machine Learning?\n",
        "Ans -Machine learning is a subset of artificial intelligence that involves training algorithms to make predictions or decisions based on data. The main components include:\n",
        "\n",
        "1. Data\n",
        "\n",
        "2. Model\n",
        "\n",
        "3. Training Process\n",
        "\n",
        "4. Evaluation Metrics\n",
        "\n",
        "Q.4 How does loss value help in determining whether the model is good or not?\n",
        "Ans:- The loss value quantifies the difference between the predicted output and the actual output. A lower loss value indicates better model performance, while a higher loss value suggests that the model needs improvement.\n",
        "\n",
        "5. What are continuous and categorical variables?\n",
        "\n",
        "Ans.5 Continuous variables are numerical values that can take any value within a range (e.g., height, weight).\n",
        "\n",
        "Categorical variables represent discrete categories or groups (e.g., gender, colors).\n",
        "\n",
        "6. How do we handle categorical variables in Machine Learning? What are the common techniques? Common techniques include:\n",
        "\n",
        "1. One-Hot Encoding\n",
        "\n",
        "2.Label Encoding\n",
        "\n",
        "3.Binary Encoding\n",
        "\n",
        "4.Target Encoding\n",
        "\n",
        "7. What do you mean by training and testing a dataset?  \n",
        "ans :- Training a dataset involves using it to train the machine learning model. Testing a dataset involves evaluating the trained model's performance on unseen data to gauge its accuracy.\n",
        "\n",
        "8.What is sklearn.preprocessing?\n",
        "Ans:- sklearn.preprocessing is a module in the scikit-learn library that provides various functions to preprocess data, such as scaling, encoding, and normalizing.\n",
        "\n",
        "9. What is a Test set?\n",
        "Ans:- A test set is a portion of the dataset used to evaluate the performance of a trained model. It is not used during the training process."
      ],
      "metadata": {
        "id": "LKqRFR7yH1AQ"
      }
    },
    {
      "cell_type": "markdown",
      "source": [
        "How do we split data for model fitting (training and testing) in Python?\n",
        "Ans:- You can use the train_test_split function from sklearn.model_selection to split data:"
      ],
      "metadata": {
        "id": "aecEgtTvKoRO"
      }
    },
    {
      "cell_type": "code",
      "source": [
        "from sklearn.model_selection import train_test_split\n",
        "X_train, X_test, y_train, y_test = train_test_split(X, y, test_size=0.2, random_state=42)\n"
      ],
      "metadata": {
        "id": "WQEZ-0cRK53R"
      },
      "execution_count": null,
      "outputs": []
    },
    {
      "cell_type": "code",
      "source": [
        "from sklearn.model_selection import train_test_split\n",
        "X_train, X_test, y_train, y_test = train_test_split(X, y, test_size=0.2, random_state=42)\n"
      ],
      "metadata": {
        "id": "B6Bcdz_5LGDx"
      },
      "execution_count": null,
      "outputs": []
    },
    {
      "cell_type": "markdown",
      "source": [
        "11. Why do we have to perform EDA before fitting a model to the data?\n",
        "ans:-  Exploratory Data Analysis (EDA) helps in understanding the data, detecting patterns, identifying anomalies, and selecting relevant features, which improves the accuracy and efficiency of the model.\n",
        "\n"
      ],
      "metadata": {
        "id": "GgQ9Vkt1LMKf"
      }
    },
    {
      "cell_type": "markdown",
      "source": [
        "14. How can you find correlation between variables in Python? You can use the corr() method in pandas:"
      ],
      "metadata": {
        "id": "Nfb3cb8NL9iW"
      }
    },
    {
      "cell_type": "code",
      "source": [
        "import pandas as pd\n",
        "correlation_matrix = df.corr()\n"
      ],
      "metadata": {
        "id": "ucM20nLlMCRh"
      },
      "execution_count": null,
      "outputs": []
    },
    {
      "cell_type": "markdown",
      "source": [
        "15. What is causation? Explain the difference between correlation and causation with an example.\n",
        " Ans. Causation indicates that one event causes another event to happen. Correlation, on the other hand, only indicates a relationship between two variables. Example: Ice cream sales and drowning incidents are correlated (both increase in summer), but eating ice cream does not cause drowning (causation).\n",
        "\n",
        "16. What is an Optimizer? What are different types of optimizers? Explain each with an example.  \n",
        "ans:- An optimizer is an algorithm that adjusts the model parameters to minimize the loss function. Common types include:\n",
        "\n",
        "Gradient Descent\n",
        "Adam\n",
        "RMSprop\n",
        "SGD\n",
        "\n",
        "17. What is sklearn.linear_model?\n",
        "Ans;- sklearn.linear_model is a module in scikit-learn that provides linear models for regression and classification tasks.\n",
        "\n",
        "18. What does model.fit() do? What arguments must be given?\n",
        "ans;- model.fit() trains the model on the provided data. It requires:\n",
        "\n",
        "X_train: Features\n",
        "\n",
        "y_train: Target labels\n",
        "\n",
        "19. What does model.predict() do? What arguments must be given? model.predict() makes predictions using the trained model. It requires:\n",
        "\n",
        "X_test: Features for prediction\n",
        "\n",
        " 20. What are continuous and categorical variables?\n",
        " Ans;- Continuous variables are numerical values that can take any value within a range (e.g., height, weight).\n",
        "\n",
        "Categorical variables represent discrete categories or groups (e.g., gender, colors).\n",
        "\n",
        "21. What is feature scaling? How does it help in Machine Learning?  \n",
        "Ans- Feature scaling transforms data to a common scale, improving the model's performance and convergence. Techniques include normalization and standardization.\n",
        "\n",
        "22. How do we perform scaling in Python? Using StandardScaler from sklearn.preprocessing:"
      ],
      "metadata": {
        "id": "QUUYsAGlMN-c"
      }
    },
    {
      "cell_type": "code",
      "source": [
        "from sklearn.preprocessing import StandardScaler\n",
        "scaler = StandardScaler()\n",
        "X_scaled = scaler.fit_transform(X)\n"
      ],
      "metadata": {
        "id": "KOecWhH1OKS4"
      },
      "execution_count": null,
      "outputs": []
    },
    {
      "cell_type": "markdown",
      "source": [
        "What is sklearn.preprocessing?\n",
        "\n",
        "sklearn.preprocessing is a module in the scikit-learn library that provides various functions to preprocess data, such as scaling, encoding, and normalizing.\n",
        "\n",
        "\n"
      ],
      "metadata": {
        "id": "TMU7sgEUOPXM"
      }
    },
    {
      "cell_type": "markdown",
      "source": [
        "How do we split data for model fitting (training and testing) in Python?"
      ],
      "metadata": {
        "id": "lBjZRD3COowl"
      }
    },
    {
      "cell_type": "code",
      "source": [
        "How do we split data for model fitting (training and testing) in Python? You can use the train_test_split function from sklearn.model_selection to split data:"
      ],
      "metadata": {
        "id": "G28ml5ewOvLh"
      },
      "execution_count": null,
      "outputs": []
    },
    {
      "cell_type": "markdown",
      "source": [
        "Explain data encoding. Data encoding involves converting categorical data into numerical format for machine learning algorithms. Techniques include:\n",
        "\n",
        "One-Hot Encoding\n",
        "\n",
        "Label Encoding"
      ],
      "metadata": {
        "id": "kftjznDMO8J0"
      }
    },
    {
      "cell_type": "code",
      "execution_count": null,
      "metadata": {
        "id": "1dIBni594fzy"
      },
      "outputs": [],
      "source": []
    }
  ]
}