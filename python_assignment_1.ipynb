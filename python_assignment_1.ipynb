{
  "nbformat": 4,
  "nbformat_minor": 0,
  "metadata": {
    "colab": {
      "private_outputs": true,
      "provenance": [],
      "history_visible": true
    },
    "kernelspec": {
      "name": "python3",
      "display_name": "Python 3"
    },
    "language_info": {
      "name": "python"
    }
  },
  "cells": [
    {
      "cell_type": "markdown",
      "source": [
        "##Python_assignment\n"
      ],
      "metadata": {
        "id": "-W8JbGVmf_bI"
      }
    },
    {
      "cell_type": "markdown",
      "source": [
        "1. Explain the key features of Python that make it a popular choice for programming"
      ],
      "metadata": {
        "id": "JY1f-EyugryT"
      }
    },
    {
      "cell_type": "markdown",
      "source": [
        "Answer1:- Key Features of Python\n",
        "Python is a popular programming language because of its:\n",
        "\n",
        "Simplicity: Its syntax is clear and easy to read, making it accessible to beginners.\n",
        "\n",
        "Versatility: Python supports various programming paradigms (procedural, object-oriented, functional).\n",
        "\n",
        "Extensive Libraries: Python has a vast standard library and a robust ecosystem of third-party libraries for diverse applications.\n",
        "\n",
        "Interpreted Language: Python is interpreted, meaning it executes code line by line, facilitating easier debugging and development.\n",
        "\n",
        "Cross-Platform: It runs on various operating systems like Windows, MacOS, and Linux.\n",
        "\n",
        "Community Support: A large, active community provides extensive documentation and support."
      ],
      "metadata": {
        "id": "NQLg9fS5hBEz"
      }
    },
    {
      "cell_type": "markdown",
      "source": [
        "2. Describe the role of predefined keywords in Python and provide examples of how they are used in a program?\n",
        "Answer2:- Predefined Keywords in Python\n",
        "Predefined keywords are reserved words that have special meaning in Python. Examples include:\n",
        "\n",
        "def: Used to define a function.\n",
        "\n",
        "if, else, elif: Used for conditional statements.\n",
        "\n",
        "for, while: Used for loops.\n",
        "\n",
        "return: Used to return a value from a function.\n",
        "\n",
        "class: Used to define a class."
      ],
      "metadata": {
        "id": "e-3ljWBPhMsX"
      }
    },
    {
      "cell_type": "code",
      "source": [
        "def greet(name):\n",
        "    if name:\n",
        "        return f\"Hello, {name}!\"\n",
        "    else:\n",
        "        return \"Hello, World!\"\n"
      ],
      "metadata": {
        "id": "dhtmTccOg1yD"
      },
      "execution_count": null,
      "outputs": []
    },
    {
      "cell_type": "markdown",
      "source": [
        "3.Compare and contrast mutable and immutable objects in Python with examples?"
      ],
      "metadata": {
        "id": "nJ70rdA2iC-r"
      }
    },
    {
      "cell_type": "markdown",
      "source": [
        "Answer3:- Mutable vs Immutable Objects in Python\n",
        "Mutable Objects: Can be changed after creation (e.g., lists, dictionaries).\n",
        "\n",
        "Immutable Objects: Cannot be changed after creation (e.g., strings, tuples)."
      ],
      "metadata": {
        "id": "s3oyrH-iiOOV"
      }
    },
    {
      "cell_type": "code",
      "source": [
        "my_list = [1, 2, 3]\n",
        "my_list.append(4)  # my_list is now [1, 2, 3, 4]\n"
      ],
      "metadata": {
        "id": "n5PKQYfyiNRN"
      },
      "execution_count": null,
      "outputs": []
    },
    {
      "cell_type": "code",
      "source": [
        "my_string = \"Hello\"\n",
        "my_string += \" World\"  # my_string is now a new string \"Hello World\"\n"
      ],
      "metadata": {
        "id": "7KcjaMCcii-w"
      },
      "execution_count": null,
      "outputs": []
    },
    {
      "cell_type": "markdown",
      "source": [
        "4.Discuss the different types of operators in Python and provide examples of how they are used?"
      ],
      "metadata": {
        "id": "KXc1z7WOhzzX"
      }
    },
    {
      "cell_type": "markdown",
      "source": [
        "answer4:- . Types of Operators in Python\n",
        "Arithmetic Operators: +, -, *, /, %, //, **\n",
        "\n",
        "Comparison Operators: ==, !=, >, <, >=, <=\n",
        "\n",
        "Logical Operators: and, or, not\n",
        "\n",
        "Assignment Operators: =, +=, -=, *=, /=, %=\n",
        "\n",
        "Bitwise Operators: &, |, ^, ~, <<, >>\n",
        "\n",
        "Membership Operators: in, not in\n",
        "\n",
        "Identity Operators: is, is not\n",
        "\n"
      ],
      "metadata": {
        "id": "lEtmTxLMf8Yi"
      }
    },
    {
      "cell_type": "code",
      "source": [
        "a = 10\n",
        "b = 20\n",
        "print(a + b)         # Arithmetic Operator\n",
        "print(a > b)         # Comparison Operator\n",
        "print(a and b)       # Logical Operator\n",
        "a += 5\n",
        "print(a)             # Assignment Operator\n",
        "print(a & b)         # Bitwise Operator\n",
        "print(10 in [10, 20])  # Membership Operator\n",
        "print(a is b)         # Identity Operator\n"
      ],
      "metadata": {
        "id": "UQ2jjFrXi9VV"
      },
      "execution_count": null,
      "outputs": []
    },
    {
      "cell_type": "markdown",
      "source": [
        "5. Explain the concept of type casting in Python with examples?"
      ],
      "metadata": {
        "id": "yN1qbacUjFu3"
      }
    },
    {
      "cell_type": "markdown",
      "source": [
        "Answer5:- Type casting is converting one data type to another. It’s useful for data manipulation and interoperability."
      ],
      "metadata": {
        "id": "TSnukmCqjaRc"
      }
    },
    {
      "cell_type": "code",
      "source": [
        "# Integer to String\n",
        "num = 123\n",
        "num_str = str(num)  # \"123\"\n",
        "\n",
        "# String to Integer\n",
        "num_str = \"123\"\n",
        "num = int(num_str)  # 123\n",
        "\n",
        "# Float to Integer\n",
        "num_float = 123.45\n",
        "num_int = int(num_float)  # 123\n",
        "\n",
        "# List to Tuple\n",
        "my_list = [1, 2, 3]\n",
        "my_tuple = tuple(my_list)  # (1, 2, 3)\n"
      ],
      "metadata": {
        "id": "pm5emuwti76I"
      },
      "execution_count": null,
      "outputs": []
    },
    {
      "cell_type": "markdown",
      "source": [
        "6.6 How do conditional statements work in Python? Illustrate with examples?"
      ],
      "metadata": {
        "id": "MVjzOTNQjp01"
      }
    },
    {
      "cell_type": "markdown",
      "source": [
        "answer6:- onditional Statements in Python\n",
        "Conditional statements execute different code blocks based on certain conditions using if, elif, and else."
      ],
      "metadata": {
        "id": "ISsTQBx0j_9g"
      }
    },
    {
      "cell_type": "code",
      "source": [
        "x = 10\n",
        "if x > 0:\n",
        "    print(\"x is positive\")\n",
        "elif x == 0:\n",
        "    print(\"x is zero\")\n",
        "else:\n",
        "    print(\"x is negative\")\n"
      ],
      "metadata": {
        "id": "QgaBKSAyjldp"
      },
      "execution_count": null,
      "outputs": []
    },
    {
      "cell_type": "markdown",
      "source": [
        "7. Describe the different types of loops in Python and their use cases with examples?"
      ],
      "metadata": {
        "id": "2D4rDodAkMh6"
      }
    },
    {
      "cell_type": "markdown",
      "source": [
        "answer7:- Types of Loops in Python\n",
        "for Loop: Iterates over a sequence.\n",
        "\n",
        "while Loop: Repeats as long as a condition is true.\n",
        "\n",
        "Example of for Loop:"
      ],
      "metadata": {
        "id": "jV7gXCK7kXXp"
      }
    },
    {
      "cell_type": "code",
      "source": [
        "for i in range(5):\n",
        "    print(i)  # Output: 0 1 2 3 4\n"
      ],
      "metadata": {
        "id": "BdZMRa_DkHBW"
      },
      "execution_count": null,
      "outputs": []
    },
    {
      "cell_type": "code",
      "source": [
        "count = 0\n",
        "while count < 5:\n",
        "    print(count)\n",
        "    count += 1  # Output: 0 1 2 3 4\n"
      ],
      "metadata": {
        "id": "xO-blaxrkdPP"
      },
      "execution_count": null,
      "outputs": []
    },
    {
      "cell_type": "code",
      "source": [],
      "metadata": {
        "id": "FpzgqedekhUc"
      },
      "execution_count": null,
      "outputs": []
    }
  ]
}