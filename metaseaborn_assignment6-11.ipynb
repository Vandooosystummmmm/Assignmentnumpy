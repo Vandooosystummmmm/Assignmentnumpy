{
  "nbformat": 4,
  "nbformat_minor": 0,
  "metadata": {
    "colab": {
      "private_outputs": true,
      "provenance": []
    },
    "kernelspec": {
      "name": "python3",
      "display_name": "Python 3"
    },
    "language_info": {
      "name": "python"
    }
  },
  "cells": [
    {
      "cell_type": "markdown",
      "source": [
        "**MATPLOTLIB ASSIGNMENT**"
      ],
      "metadata": {
        "id": "7WkDvB6RDAzv"
      }
    },
    {
      "cell_type": "markdown",
      "source": [
        "1.Create a scatter plot using Matplotlib to visualize the relationship between two array,x and y for the given data.\n",
        "x=[1,2,3,4,5,6,7,8,9,10]\n",
        "y=[2,4,5,7,6,8,9,10,12,13]"
      ],
      "metadata": {
        "id": "yIIa3wC5DZsT"
      }
    },
    {
      "cell_type": "code",
      "execution_count": null,
      "metadata": {
        "id": "F90Vb8W4tTUO"
      },
      "outputs": [],
      "source": [
        "import matplotlib.pyplot as plt\n",
        "\n",
        "x = [1, 2, 3, 4, 5, 6, 7, 8, 9, 10]\n",
        "y = [2, 4, 5, 7, 6, 8, 9, 10, 12, 13]\n",
        "\n",
        "plt.scatter(x, y)\n",
        "plt.title('Scatter Plot')\n",
        "plt.xlabel('X values')\n",
        "plt.ylabel('Y values')\n",
        "plt.show()\n"
      ]
    },
    {
      "cell_type": "markdown",
      "source": [
        "2. Generate a line plot to visualize the trend of values for the given data.\n",
        "data = np.array([3, 7, 9, 15, 22, 29, 35])\n"
      ],
      "metadata": {
        "id": "r9mZyyZUElgZ"
      }
    },
    {
      "cell_type": "code",
      "source": [
        "import matplotlib.pyplot as plt\n",
        "import numpy as np # Import the numpy library and assign it the alias 'np'\n",
        "\n",
        "data = np.array([3, 7, 9, 15, 22, 29, 35])\n",
        "\n",
        "plt.plot(data)\n",
        "plt.title('Line Plot')\n",
        "plt.xlabel('Index')\n",
        "plt.ylabel('Values')\n",
        "plt.show()"
      ],
      "metadata": {
        "id": "kSnK8dArFLZ3"
      },
      "execution_count": null,
      "outputs": []
    },
    {
      "cell_type": "markdown",
      "source": [
        "3.Display a bar chart to represent the frequency of each item in the given array categories                              categories = ['A', 'B', 'C', 'D', 'E']\n",
        "values = [25, 40, 30, 35, 20]"
      ],
      "metadata": {
        "id": "2DAR2sh8FX-o"
      }
    },
    {
      "cell_type": "code",
      "source": [
        "categories = ['A', 'B', 'C', 'D', 'E']\n",
        "values = [25, 40, 30, 35, 20]\n",
        "\n",
        "plt.bar(categories, values)\n",
        "plt.title('Bar Chart')\n",
        "plt.xlabel('Categories')\n",
        "plt.ylabel('Frequency')\n",
        "plt.show()\n"
      ],
      "metadata": {
        "id": "NI2ELm-WFTXe"
      },
      "execution_count": null,
      "outputs": []
    },
    {
      "cell_type": "markdown",
      "source": [
        "4.4. Create a histogram to visualize the distribution of values in the array data.\n"
      ],
      "metadata": {
        "id": "3oDvirulGx2A"
      }
    },
    {
      "cell_type": "markdown",
      "source": [
        "data = np.random.normal(0, 1, 1000)"
      ],
      "metadata": {
        "id": "oxGMBA-aHG1O"
      }
    },
    {
      "cell_type": "code",
      "source": [
        "data = np.random.normal(0, 1, 1000)\n",
        "\n",
        "plt.hist(data, bins=30)\n",
        "plt.title('Histogram')\n",
        "plt.xlabel('Value')\n",
        "plt.ylabel('Frequency')\n",
        "plt.show()\n"
      ],
      "metadata": {
        "id": "OBZ6EmrPGutM"
      },
      "execution_count": null,
      "outputs": []
    },
    {
      "cell_type": "markdown",
      "source": [
        "5. Show a pie chart to represent the percentage distribution of different sections in the array `sections`.\n",
        "sections = ['Section A', 'Section B', 'Section C', 'Section D'] sizes=[25,30,15,30]"
      ],
      "metadata": {
        "id": "AvqRSlVNHSaQ"
      }
    },
    {
      "cell_type": "code",
      "source": [
        "sections = ['Section A', 'Section B', 'Section C', 'Section D']\n",
        "sizes = [25, 30, 15, 30]\n",
        "\n",
        "plt.pie(sizes, labels=sections, autopct='%1.1f%%')\n",
        "plt.title('Pie Chart')\n",
        "plt.show()\n"
      ],
      "metadata": {
        "id": "bRT3HEE8HRBX"
      },
      "execution_count": null,
      "outputs": []
    },
    {
      "cell_type": "markdown",
      "source": [
        "**SEABORN ASSIGNMENT**"
      ],
      "metadata": {
        "id": "jiff7RqSH9Qa"
      }
    },
    {
      "cell_type": "markdown",
      "source": [
        "1.Create a scatter plot to visualize the relationship between two variables, by generating a synthetic\n",
        "dataset."
      ],
      "metadata": {
        "id": "JykVO0goIELX"
      }
    },
    {
      "cell_type": "code",
      "source": [
        "import seaborn as sns\n",
        "import numpy as np\n",
        "import pandas as pd\n",
        "\n",
        "# Generating synthetic dataset\n",
        "np.random.seed(42)\n",
        "x_syn = np.random.rand(100)\n",
        "y_syn = 2 * x_syn + np.random.normal(0, 0.1, 100)\n",
        "df_syn = pd.DataFrame({'X': x_syn, 'Y': y_syn})\n",
        "\n",
        "sns.scatterplot(x='X', y='Y', data=df_syn)\n",
        "plt.title('Scatter Plot of Synthetic Dataset')\n",
        "plt.show()\n"
      ],
      "metadata": {
        "id": "X-E3PobKHyhx"
      },
      "execution_count": null,
      "outputs": []
    },
    {
      "cell_type": "markdown",
      "source": [
        "2. Generate a dataset of random numbers. Visualize the distribution of a numerical variable.\n"
      ],
      "metadata": {
        "id": "WT-S3jKLnxpK"
      }
    },
    {
      "cell_type": "code",
      "source": [
        "import seaborn as sns\n",
        "import numpy as np # Add this line to import numpy and assign it to the alias np.\n",
        "import pandas as pd\n",
        "\n",
        "\n",
        "random_data = np.random.randn(1000)\n",
        "\n",
        "sns.histplot(random_data, bins=30, kde=True)\n",
        "plt.title('Histogram of Random Numbers')\n",
        "plt.xlabel('Value')\n",
        "plt.ylabel('Frequency')\n",
        "plt.show()"
      ],
      "metadata": {
        "id": "kBJu3AvKoQYO"
      },
      "execution_count": null,
      "outputs": []
    },
    {
      "cell_type": "markdown",
      "source": [
        "3. Create a dataset representing categories and their corresponding values. Compare different categories\n",
        "based on numerical value."
      ],
      "metadata": {
        "id": "f5-MMdOqokJy"
      }
    },
    {
      "cell_type": "code",
      "source": [
        "categories = ['A', 'B', 'C', 'D', 'E']\n",
        "values = [25, 40, 30, 35, 20]\n",
        "df_categories = pd.DataFrame({'Category': categories, 'Value': values})\n",
        "\n",
        "sns.barplot(x='Category', y='Value', data=df_categories)\n",
        "plt.title('Comparison of Categories')\n",
        "plt.show()\n"
      ],
      "metadata": {
        "id": "dfQwUChYocCX"
      },
      "execution_count": null,
      "outputs": []
    },
    {
      "cell_type": "markdown",
      "source": [
        "4.4. Generate a dataset with categories and numerical values. Visualize the distribution of a numerical\n",
        "variable across different categories."
      ],
      "metadata": {
        "id": "oAtyWsKBpHtf"
      }
    },
    {
      "cell_type": "code",
      "source": [
        "# Generating dataset\n",
        "np.random.seed(42)\n",
        "category_data = np.random.choice(['A', 'B', 'C', 'D', 'E'], 100)\n",
        "values_data = np.random.randn(100)\n",
        "df_dist = pd.DataFrame({'Category': category_data, 'Value': values_data})\n",
        "\n",
        "sns.boxplot(x='Category', y='Value', data=df_dist)\n",
        "plt.title('Distribution Across Different Categories')\n",
        "plt.show()\n"
      ],
      "metadata": {
        "id": "uxkBQQLXouks"
      },
      "execution_count": null,
      "outputs": []
    },
    {
      "cell_type": "markdown",
      "source": [
        "5. Generate a synthetic dataset with correlated features. Visualize the correlation matrix of a dataset using a\n",
        "heatmap."
      ],
      "metadata": {
        "id": "Krz4nfE2piiy"
      }
    },
    {
      "cell_type": "code",
      "source": [
        "# Generating synthetic dataset with correlated features\n",
        "np.random.seed(42)\n",
        "data = {\n",
        "    'Feature1': np.random.rand(100),\n",
        "    'Feature2': np.random.rand(100) * 0.5,\n",
        "    'Feature3': np.random.rand(100) * 2,\n",
        "    'Feature4': np.random.rand(100) * 1.5\n",
        "}\n",
        "df_corr = pd.DataFrame(data)\n",
        "corr = df_corr.corr()\n",
        "\n",
        "sns.heatmap(corr, annot=True, cmap='coolwarm')\n",
        "plt.title('Correlation Matrix Heatmap')\n",
        "plt.show()\n"
      ],
      "metadata": {
        "id": "4s1_A-LIpffz"
      },
      "execution_count": null,
      "outputs": []
    },
    {
      "cell_type": "markdown",
      "source": [
        "**##PLOTLY ASSIGNMENT**"
      ],
      "metadata": {
        "id": "1qEDVvCppwFQ"
      }
    },
    {
      "cell_type": "markdown",
      "source": [
        " 1. Using the given dataset, to generate a 3D scatter plot to visualize the distribution of data points in a three dimenensions."
      ],
      "metadata": {
        "id": "jkmpnAcptozQ"
      }
    },
    {
      "cell_type": "markdown",
      "source": [
        "PLOTLY ASSIGNMENT:\n",
        "(Use Plotly for the visualization of the given questions)\n",
        "\n",
        "1. Using the given dataset, to generate a 3D scatter plot to visualize the distribution of data points in a three-\n",
        "dimensional space.\n",
        "\n",
        "np.random.seed(30)\n",
        "data = {\n",
        "'X': np.random.uniform(-10, 10, 300),\n",
        "'Y': np.random.uniform(-10, 10, 300),\n",
        "'Z': np.random.uniform(-10, 10, 300)\n",
        "\n",
        "df = pd.DataFrame(data)\n"
      ],
      "metadata": {
        "id": "nZot8OZyyuRA"
      }
    },
    {
      "cell_type": "code",
      "source": [
        "import plotly.express as px\n",
        "import numpy as np\n",
        "import pandas as pd\n",
        "\n",
        "np.random.seed(30)\n",
        "data = {\n",
        "    'X': np.random.uniform(-10, 10, 300),\n",
        "    'Y': np.random.uniform(-10, 10, 300),\n",
        "    'Z': np.random.uniform(-10, 10, 300)\n",
        "}\n",
        "df = pd.DataFrame(data)\n",
        "\n",
        "fig = px.scatter_3d(df, x='X', y='Y', z='Z', title='3D Scatter Plot')\n",
        "fig.show()\n"
      ],
      "metadata": {
        "id": "kXV3Bna-prcE"
      },
      "execution_count": null,
      "outputs": []
    },
    {
      "cell_type": "markdown",
      "source": [
        "2. Using the Student Grades, create a violin plot to display the distribution of scores across different grade\n",
        "categories.\n",
        "\n",
        "np.random.seed(15)\n",
        "data = {\n",
        "'Grade': np.random.choice(['A', 'B', 'C', 'D', 'F'], 200),\n",
        "'Score': np.random.randint(50, 100, 200)\n",
        "\n",
        "df = pd.DataFrame(data)\n",
        "\n",
        "1. Using the sales data, generate a heatmap to visualize the variation in sales across\n",
        "different months and days.\n",
        "np.random.seed(20)\n",
        "data = {\n",
        "'Month': np.random.choice(['Jan', 'Feb', 'Mar', 'Apr', 'May' ], 100),\n",
        "'Day': np.random.choice(range(1, 31), 100),\n",
        "'Sales': np.random.randint(1000, 5000, 100)\n",
        "\n",
        "df = pd. DataFrame(data)"
      ],
      "metadata": {
        "id": "LQ7sNg02zeOA"
      }
    },
    {
      "cell_type": "code",
      "source": [
        "import plotly.express as px\n",
        "\n",
        "np.random.seed(15)\n",
        "data = {\n",
        "    'Grade': np.random.choice(['A', 'B', 'C', 'D', 'F'], 200),\n",
        "    'Score': np.random.randint(50, 100, 200)\n",
        "}\n",
        "df = pd.DataFrame(data)\n",
        "\n",
        "fig = px.violin(df, x='Grade', y='Score', box=True, points='all', title='Violin Plot of Student Grades')\n",
        "fig.show()\n"
      ],
      "metadata": {
        "id": "Gb67od5hzY6U"
      },
      "execution_count": null,
      "outputs": []
    },
    {
      "cell_type": "markdown",
      "source": [
        "3. Using the sales data, generate a heatmap to visualize the variation in sales across different months and\n",
        "days.\n",
        "\n",
        "np.random.seed(20)\n",
        "data = {\n",
        "'Month': np.random.choice(['Jan', 'Feb', 'Mar', 'Apr', 'May' ], 100),\n",
        "'Day': np.random.choice(range(1, 31), 100),\n",
        "Sales': np.random.randint(1000, 5000, 100)\n",
        "\n",
        "df = pd. DataFrame(data)"
      ],
      "metadata": {
        "id": "vvKXyb0cz5iC"
      }
    },
    {
      "cell_type": "code",
      "source": [
        "import plotly.express as px\n",
        "\n",
        "np.random.seed(20)\n",
        "data = {\n",
        "    'Month': np.random.choice(['Jan', 'Feb', 'Mar', 'Apr', 'May'], 100),\n",
        "    'Day': np.random.choice(range(1, 31), 100),\n",
        "    'Sales': np.random.randint(1000, 5000, 100)\n",
        "}\n",
        "df = pd.DataFrame(data)\n",
        "\n",
        "# Pivot the data for heatmap\n",
        "pivot_table = df.pivot_table(values='Sales', index='Month', columns='Day', aggfunc='sum', fill_value=0)\n",
        "\n",
        "fig = px.imshow(pivot_table, aspect='auto', title='Heatmap of Sales Data')\n",
        "fig.update_layout(xaxis_title='Day', yaxis_title='Month')\n",
        "fig.show()\n"
      ],
      "metadata": {
        "id": "n8NiSXR6zuVn"
      },
      "execution_count": null,
      "outputs": []
    },
    {
      "cell_type": "markdown",
      "source": [
        "4. 4. Using the given x and y data, generate a 3D surface plot to visualize the function z = sin(Vx2 + y3)\n",
        "\n",
        "x = np.linspace(-5, 5, 100)\n",
        "y = np.linspace(-5, 5, 100)\n",
        "x, y = np.meshgrid(x, y)\n",
        "z = np.sin(np.sqrt(x ** 2 + y ** 2))\n",
        "\n",
        "data = {\n",
        "'X': x.flatten(),\n",
        "'Y': y. flatten(),\n",
        "'Z': z.flatten()\n",
        "\n",
        "df = pd. DataFrame(data)"
      ],
      "metadata": {
        "id": "R5f-d8hY0FxR"
      }
    },
    {
      "cell_type": "code",
      "source": [
        "import plotly.graph_objects as go\n",
        "import numpy as np\n",
        "import pandas as pd\n",
        "\n",
        "x = np.linspace(-5, 5, 100)\n",
        "y = np.linspace(-5, 5, 100)\n",
        "x, y = np.meshgrid(x, y)\n",
        "z = np.sin(np.sqrt(x**2 + y**2))\n",
        "\n",
        "data = {\n",
        "    'X': x.flatten(),\n",
        "    'Y': y.flatten(),\n",
        "    'Z': z.flatten()\n",
        "}\n",
        "df = pd.DataFrame(data)\n",
        "\n",
        "fig = go.Figure(data=[go.Surface(z=z, x=x, y=y)])\n",
        "fig.update_layout(title='3D Surface Plot', scene=dict(\n",
        "                    xaxis_title='X',\n",
        "                    yaxis_title='Y',\n",
        "                    zaxis_title='Z'))\n",
        "fig.show()\n"
      ],
      "metadata": {
        "id": "6he3xZPz2bHr"
      },
      "execution_count": null,
      "outputs": []
    },
    {
      "cell_type": "markdown",
      "source": [
        "5. Using the given dataset, create a bubble chart to represent each country's population (y-axis), GDP (x axis), and bubble size prop\n",
        " np.random.seed(25)\n",
        "data = {\n",
        "    'Country': ['USA', 'Canada', 'UK',\n",
        "'Germany', 'France'],\n",
        "    'Population':\n",
        "np.random.randint(100, 1000, 5),\n",
        "    'GDP': np.random.randint(500, 2000,\n",
        "5)\n",
        "}\n",
        "df = pd.DataFrame(data)"
      ],
      "metadata": {
        "id": "_u5qtj_t3I3p"
      }
    },
    {
      "cell_type": "code",
      "source": [
        "import plotly.express as px\n",
        "import pandas as pd\n",
        "import numpy as np\n",
        "\n",
        "np.random.seed(25)\n",
        "data = {\n",
        "    'Country': ['USA', 'Canada', 'UK', 'Germany', 'France'],\n",
        "    'Population': np.random.randint(100, 1000, 5),\n",
        "    'GDP': np.random.randint(500, 2000, 5)\n",
        "}\n",
        "df = pd.DataFrame(data)\n",
        "\n",
        "fig = px.scatter(df, x='GDP', y='Population', size='Population', hover_name='Country', title='Bubble Chart')\n",
        "fig.update_layout(xaxis_title='GDP (in billions)', yaxis_title='Population (in millions)')\n",
        "fig.show()\n"
      ],
      "metadata": {
        "id": "aslJ07tU0CtL"
      },
      "execution_count": null,
      "outputs": []
    },
    {
      "cell_type": "markdown",
      "source": [
        "**BOKEH ASSIGNMENT**"
      ],
      "metadata": {
        "id": "NVEn0GCm39xZ"
      }
    },
    {
      "cell_type": "markdown",
      "source": [
        "1.Create a Bokeh plot displaying a sine wave. Set x-values from 0 to 10 and y-values as the sine of x."
      ],
      "metadata": {
        "id": "_rxbt1HW4UM_"
      }
    },
    {
      "cell_type": "code",
      "source": [
        "from bokeh.plotting import figure, show\n",
        "from bokeh.io import output_notebook\n",
        "import numpy as np\n",
        "\n",
        "output_notebook()\n",
        "\n",
        "x = np.linspace(0, 10, 100)\n",
        "y = np.sin(x)\n",
        "\n",
        "p = figure(title=\"Sine Wave\", x_axis_label='x', y_axis_label='y')\n",
        "p.line(x, y, legend_label=\"Sine\", line_width=2)\n",
        "\n",
        "show(p)\n"
      ],
      "metadata": {
        "id": "WVpqktKz37Mt"
      },
      "execution_count": null,
      "outputs": []
    },
    {
      "cell_type": "markdown",
      "source": [
        "2.Create a Bokeh scatter plot using randomly generated x and y values. use diffrent sizes and colorsfor the markers\n",
        " based on the 'sizes' and 'colors' columns."
      ],
      "metadata": {
        "id": "LKmUytNo4jT1"
      }
    },
    {
      "cell_type": "code",
      "source": [
        "from bokeh.plotting import figure, show\n",
        "from bokeh.io import output_notebook\n",
        "import numpy as np\n",
        "\n",
        "output_notebook()\n",
        "\n",
        "x = np.random.rand(100) * 10\n",
        "y = np.random.rand(100) * 10\n",
        "sizes = np.random.rand(100) * 20 + 10\n",
        "colors = np.random.rand(100) * 10\n",
        "\n",
        "p = figure(title=\"Scatter Plot\", x_axis_label='x', y_axis_label='y')\n",
        "p.scatter(x, y, size=sizes, color=colors, alpha=0.5)\n",
        "\n",
        "show(p)\n"
      ],
      "metadata": {
        "id": "40Jluy9t4hDU"
      },
      "execution_count": null,
      "outputs": []
    },
    {
      "cell_type": "markdown",
      "source": [
        "3. Generate a Bokeh bar chart representing the counts of different fruits using the following dataset.\n",
        " fruits = ['Apples', 'Oranges', 'Bananas', 'Pears']\n",
        "counts = [20, 25, 30, 35]\n"
      ],
      "metadata": {
        "id": "bSD8jVIT5TiN"
      }
    },
    {
      "cell_type": "code",
      "source": [
        "from bokeh.plotting import figure, show\n",
        "from bokeh.io import output_notebook\n",
        "from bokeh.transform import factor_cmap\n",
        "from bokeh.models import ColumnDataSource\n",
        "import pandas as pd\n",
        "\n",
        "output_notebook()\n",
        "\n",
        "fruits = ['Apples', 'Oranges', 'Bananas', 'Pears']\n",
        "counts = [20, 25, 30, 35]\n",
        "\n",
        "source = ColumnDataSource(data=dict(fruits=fruits, counts=counts))\n",
        "p = figure(x_range=fruits, title=\"Fruit Counts\", x_axis_label='Fruit', y_axis_label='Count')\n",
        "p.vbar(x='fruits', top='counts', width=0.9, source=source, legend_label=\"Counts\", line_color='white', fill_color=factor_cmap('fruits', palette='Spectral6', factors=fruits))\n",
        "\n",
        "show(p)\n"
      ],
      "metadata": {
        "id": "BsyKbM475QyB"
      },
      "execution_count": null,
      "outputs": []
    },
    {
      "cell_type": "markdown",
      "source": [
        "4.. Create a Bokeh histogram to visualize the distribution of the given data.\n",
        "\n",
        "data_hist = np.random.randn(1000)\n",
        "hist, edges = np.histogram(data_hist, bins=30)"
      ],
      "metadata": {
        "id": "ggIe5K5q7hAq"
      }
    },
    {
      "cell_type": "code",
      "source": [
        "from bokeh.plotting import figure, show\n",
        "from bokeh.io import output_notebook\n",
        "import numpy as np\n",
        "\n",
        "output_notebook()\n",
        "\n",
        "data_hist = np.random.randn(1000)\n",
        "hist, edges = np.histogram(data_hist, bins=30)\n",
        "\n",
        "p = figure(title=\"Histogram\", x_axis_label='Value', y_axis_label='Frequency')\n",
        "p.quad(top=hist, bottom=0, left=edges[:-1], right=edges[1:], fill_color=\"blue\", line_color=\"white\", alpha=0.7)\n",
        "\n",
        "show(p)\n"
      ],
      "metadata": {
        "id": "g4S4Xzjd50Mw"
      },
      "execution_count": null,
      "outputs": []
    },
    {
      "cell_type": "markdown",
      "source": [
        "5.5. Create a Bokeh heatmap using the provided dataset.\n",
        "\n",
        "data_heatmap = np.random.rand(10, 10)\n",
        "x = np.linspace(0, 1, 10)\n",
        "y = np.linspace(0, 1, 10)\n",
        "xx, yy = np.meshgrid(x, y)"
      ],
      "metadata": {
        "id": "KiQcvYv088Cv"
      }
    },
    {
      "cell_type": "code",
      "source": [
        "from bokeh.plotting import figure, show\n",
        "from bokeh.io import output_notebook\n",
        "from bokeh.models import LinearColorMapper, ColorBar\n",
        "import numpy as np\n",
        "\n",
        "output_notebook()\n",
        "\n",
        "data_heatmap = np.random.rand(10, 10)\n",
        "x = np.linspace(0, 1, 10)\n",
        "y = np.linspace(0, 1, 10)\n",
        "xx, yy = np.meshgrid(x, y)\n",
        "\n",
        "p = figure(title=\"Heatmap\", x_axis_label='X', y_axis_label='Y', tools=\"hover\", tooltips=\"@image\")\n",
        "mapper = LinearColorMapper(palette=\"Viridis256\", low=data_heatmap.min(), high=data_heatmap.max())\n",
        "p.image(image=[data_heatmap], x=0, y=0, dw=1, dh=1, color_mapper=mapper)\n",
        "color_bar = ColorBar(color_mapper=mapper, location=(0, 0))\n",
        "p.add_layout(color_bar, 'right')\n",
        "\n",
        "show(p)\n"
      ],
      "metadata": {
        "id": "Qqq6ribM6pRs"
      },
      "execution_count": null,
      "outputs": []
    },
    {
      "cell_type": "code",
      "source": [],
      "metadata": {
        "id": "W-RGXyl_6tMJ"
      },
      "execution_count": null,
      "outputs": []
    }
  ]
}