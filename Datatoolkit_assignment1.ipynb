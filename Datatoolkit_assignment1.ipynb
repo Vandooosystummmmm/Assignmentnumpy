{
  "nbformat": 4,
  "nbformat_minor": 0,
  "metadata": {
    "colab": {
      "private_outputs": true,
      "provenance": []
    },
    "kernelspec": {
      "name": "python3",
      "display_name": "Python 3"
    },
    "language_info": {
      "name": "python"
    }
  },
  "cells": [
    {
      "cell_type": "markdown",
      "source": [
        "**DATA TOOLKIT**\n",
        "PRACTICE QUESTIONS ANSWER"
      ],
      "metadata": {
        "id": "dI_Oi_hCcu1Y"
      }
    },
    {
      "cell_type": "markdown",
      "source": [
        "People Dataset :-\n",
        "\n",
        "https://drive.google.com/file/d/13x8f8HNKieSRAzxTIzAojaYp8Up8cefk/view?usp=sharing\n"
      ],
      "metadata": {
        "id": "cRFN3B7Bdeu9"
      }
    },
    {
      "cell_type": "markdown",
      "source": [
        "People Dataset :-\n",
        "\n",
        "https://drive.google.com/file/d/13x8f8HNKieSRAzxTIzAojaYp8Up8cefk/view?usp=sharing\n",
        "\n",
        "\n",
        "\n",
        "Demonstrate three different methods for creating identical 2D arrays in NumPy. Provide the code for each\n",
        "method and the final output after each method"
      ],
      "metadata": {
        "id": "o_mNf1iGdl7B"
      }
    },
    {
      "cell_type": "markdown",
      "source": [
        "method1"
      ],
      "metadata": {
        "id": "Ti7zMhdld-g1"
      }
    },
    {
      "cell_type": "code",
      "execution_count": null,
      "metadata": {
        "id": "fMb2GUrrcoWK"
      },
      "outputs": [],
      "source": [
        "import numpy as np\n",
        "\n",
        "array_1 = np.array([[1, 2, 3], [4, 5, 6]])\n",
        "print(\"Array using np.array():\\n\", array_1)\n"
      ]
    },
    {
      "cell_type": "markdown",
      "source": [
        "method 2"
      ],
      "metadata": {
        "id": "aIWnIYZ_d1AU"
      }
    },
    {
      "cell_type": "code",
      "source": [
        "array_2 = np.zeros((2, 3))\n",
        "array_2[0, :] = [1, 2, 3]\n",
        "array_2[1, :] = [4, 5, 6]\n",
        "print(\"Array using np.zeros() and filling values:\\n\", array_2)\n"
      ],
      "metadata": {
        "id": "z-4cFhW1dzrY"
      },
      "execution_count": null,
      "outputs": []
    },
    {
      "cell_type": "markdown",
      "source": [
        "method3\n"
      ],
      "metadata": {
        "id": "1oCYgD5ieDJ-"
      }
    },
    {
      "cell_type": "code",
      "source": [
        "array_3 = np.full((2, 3), 1)\n",
        "array_3[0, 1] = 2\n",
        "array_3[0, 2] = 3\n",
        "array_3[1, 0] = 4\n",
        "array_3[1, 1] = 5\n",
        "array_3[1, 2] = 6\n",
        "print(\"Array using np.full():\\n\", array_3)\n"
      ],
      "metadata": {
        "id": "uFpFE-jGd4wS"
      },
      "execution_count": null,
      "outputs": []
    },
    {
      "cell_type": "markdown",
      "source": [
        "2.Using the Numpy function, generate an array of 100 evenly spaced numbers between 1 and 10 and\n",
        "Reshape that 1D array into a 2D array."
      ],
      "metadata": {
        "id": "O2PcREk2eKK1"
      }
    },
    {
      "cell_type": "code",
      "source": [
        "array_1d = np.linspace(1, 10, 100)\n",
        "array_2d = array_1d.reshape((10, 10))\n",
        "print(\"2D Array:\\n\", array_2d)\n"
      ],
      "metadata": {
        "id": "jHqhZ_jHeH4y"
      },
      "execution_count": null,
      "outputs": []
    },
    {
      "cell_type": "markdown",
      "source": [
        "3.Explain the following terms  \n",
        "\n",
        "1 The difference in np.array, np.asarray and np.asanyarray.\n",
        "2 The difference between Deep copy and shallow copy."
      ],
      "metadata": {
        "id": "As9qiQcSeqyK"
      }
    },
    {
      "cell_type": "markdown",
      "source": [
        "np.array, np.asarray, np.asanyarray:\n",
        "np.array: Always creates a new array.\n",
        "\n",
        "np.asarray: Converts the input to an array but doesn’t create a copy if the input is already an array.\n",
        "\n",
        "np.asanyarray: Similar to np.asarray but passes sub-classes of ndarray.\n"
      ],
      "metadata": {
        "id": "Ia6ga67nfT6Z"
      }
    },
    {
      "cell_type": "code",
      "source": [
        "a = [1, 2, 3]\n",
        "arr = np.array(a)\n",
        "print(arr)\n",
        "\n",
        "arr2 = np.asarray(arr)\n",
        "print(arr2 is arr)  # Output: True\n",
        "\n",
        "arr3 = np.asanyarray(arr)\n",
        "print(arr3 is arr)  # Output: True\n"
      ],
      "metadata": {
        "id": "cnMwfOjReYkx"
      },
      "execution_count": null,
      "outputs": []
    },
    {
      "cell_type": "markdown",
      "source": [
        "4.O Generate a 3x3 array with random floating-point numbers between 5 and 20. Then, round each number in\n",
        "the array to 2 decimal places."
      ],
      "metadata": {
        "id": "Y7eKx_Dqe07d"
      }
    },
    {
      "cell_type": "code",
      "source": [
        "array_rand = np.random.uniform(5, 20, (3, 3))\n",
        "array_rounded = np.round(array_rand, 2)\n",
        "print(\"Rounded Array:\\n\", array_rounded)\n"
      ],
      "metadata": {
        "id": "0LGBWYqgf8w7"
      },
      "execution_count": null,
      "outputs": []
    },
    {
      "cell_type": "markdown",
      "source": [
        "5. - Create a NumPy array with random integers between 1 and 10 of shape (5, 6). After creating the array\n",
        "perform the following operations:\n",
        "\n",
        " a)Extract all even integers from array.\n",
        "\n",
        " b)Extract all odd integers from array"
      ],
      "metadata": {
        "id": "9_VrKNmugEfa"
      }
    },
    {
      "cell_type": "code",
      "source": [
        "array_rand_int = np.random.randint(1, 11, (5, 6))\n",
        "print(\"Random Array:\\n\", array_rand_int)\n",
        "\n",
        "# Extract even integers\n",
        "even_integers = array_rand_int[array_rand_int % 2 == 0]\n",
        "print(\"Even Integers:\\n\", even_integers)\n",
        "\n",
        "# Extract odd integers\n",
        "odd_integers = array_rand_int[array_rand_int % 2 != 0]\n",
        "print(\"Odd Integers:\\n\", odd_integers)\n"
      ],
      "metadata": {
        "id": "kxf8USwSf_ZL"
      },
      "execution_count": null,
      "outputs": []
    },
    {
      "cell_type": "markdown",
      "source": [
        "6. Create a 3D NumPy array of shape (3, 3, 3) containing random integers between 1 and 10. Perform the\n",
        "following operations:\n",
        "\n",
        " a) Find the indices of the maximum values along each depth level (third axis).\n",
        "\n",
        " b) Perform element-wise multiplication of between both array."
      ],
      "metadata": {
        "id": "9Kf7QrYXgMSF"
      }
    },
    {
      "cell_type": "code",
      "source": [
        "array_3d = np.random.randint(1, 11, (3, 3, 3))\n",
        "print(\"3D Array:\\n\", array_3d)\n",
        "\n",
        "# Indices of the maximum values along each depth level\n",
        "max_indices = np.argmax(array_3d, axis=2)\n",
        "print(\"Indices of max values:\\n\", max_indices)\n",
        "\n",
        "# Element-wise multiplication (example)\n",
        "array_3d_multiplied = array_3d * 2\n",
        "print(\"Element-wise multiplication result:\\n\", array_3d_multiplied)\n"
      ],
      "metadata": {
        "id": "NvOAdRFmgJ1Y"
      },
      "execution_count": null,
      "outputs": []
    },
    {
      "cell_type": "markdown",
      "source": [
        "Pandas Tasks with People Dataset\n",
        "Assuming you have a CSV file named 'data.csv':\n",
        "\n",
        "a) Read the 'data.csv' file, skipping the first 50 rows\n",
        "python"
      ],
      "metadata": {
        "id": "nKJ0-MBzgrli"
      }
    },
    {
      "cell_type": "code",
      "source": [
        "import pandas as pd\n",
        "\n",
        "df = pd.read_csv('data.csv', skiprows=50)\n"
      ],
      "metadata": {
        "id": "F6q8M_Zegii5"
      },
      "execution_count": null,
      "outputs": []
    },
    {
      "cell_type": "markdown",
      "source": [
        "2 method"
      ],
      "metadata": {
        "id": "sv_ICi3zg7f7"
      }
    },
    {
      "cell_type": "code",
      "source": [
        "df = pd.read_csv('data.csv', skiprows=50, usecols=['Last Name', 'Gender', 'Email', 'Phone', 'Salary'])\n"
      ],
      "metadata": {
        "id": "gtUBNjitgzwE"
      },
      "execution_count": null,
      "outputs": []
    },
    {
      "cell_type": "markdown",
      "source": [
        "c) Display the first 10 rows of the filtered dataset .\n"
      ],
      "metadata": {
        "id": "uJIihkc9hAEx"
      }
    },
    {
      "cell_type": "code",
      "source": [
        "print(df.head(10))\n"
      ],
      "metadata": {
        "id": "876RRnl3hPB0"
      },
      "execution_count": null,
      "outputs": []
    },
    {
      "cell_type": "code",
      "source": [
        "salary_series = df['Salary']\n",
        "print(salary_series.tail(5))\n"
      ],
      "metadata": {
        "id": "eJyxP0EKhR8n"
      },
      "execution_count": null,
      "outputs": []
    },
    {
      "cell_type": "markdown",
      "source": [
        "7.Clean and transform the 'Phone' column in the sample dataset to remove non-numeric characters and\n",
        "convert it to a numeric data type. Also display the table attributes and data types of each column."
      ],
      "metadata": {
        "id": "WKNDIuvnhZd2"
      }
    },
    {
      "cell_type": "code",
      "source": [
        "# Clean 'Phone' column\n",
        "df['Phone'] = df['Phone'].str.replace(r'\\D', '', regex=True).astype(float)\n",
        "print(\"Cleaned 'Phone' column:\\n\", df['Phone'])\n",
        "\n",
        "# Display table attributes and data types\n",
        "print(\"Attributes and Data Types:\\n\", df.dtypes)\n"
      ],
      "metadata": {
        "id": "GRpDy0NBhVWQ"
      },
      "execution_count": null,
      "outputs": []
    },
    {
      "cell_type": "markdown",
      "source": [
        "8. Perform the following tasks using people dataset:\n",
        "\n",
        " a) Read the 'data.csv' file using pandas, skipping the first 50 rows.\n",
        "\n",
        " b) Only read the columns: 'Last Name', ‘Gender’,’Email’,‘Phone’ and ‘Salary’ from the file.\n",
        "\n",
        " c) Display the first 10 rows of the filtered dataset.\n",
        "\n",
        " d) Extract the ‘Salary’' column as a Series and display its last 5 values"
      ],
      "metadata": {
        "id": "-MsLRUFghxhW"
      }
    },
    {
      "cell_type": "code",
      "source": [
        "import pandas as pd\n",
        "# Assuming your data is in a CSV file named 'your_data.csv'\n",
        "df = pd.read_csv('your_data.csv')\n",
        "\n",
        "filtered_df = df[(df['Last Name'].str.contains('Duke')) & (df['Gender'] == 'Female') & (df['Salary'] < 85000)]\n",
        "print(filtered_df)"
      ],
      "metadata": {
        "id": "K0z3o_eYicyc"
      },
      "execution_count": null,
      "outputs": []
    },
    {
      "cell_type": "markdown",
      "source": [
        "9. Filter and select rows from the People_Dataset, where the “Last Name' column contains the name 'Duke',  \n",
        "'Gender' column contains the word Female and ‘Salary’ should be less than 85000"
      ],
      "metadata": {
        "id": "vqZ-2mONiF8E"
      }
    },
    {
      "cell_type": "code",
      "source": [
        "random_data = np.random.randint(1, 7, 35).reshape(7, 5)\n",
        "df_random = pd.DataFrame(random_data, columns=['A', 'B', 'C', 'D', 'E'])\n",
        "print(df_random)\n"
      ],
      "metadata": {
        "id": "h_8AlxBTiAIs"
      },
      "execution_count": null,
      "outputs": []
    },
    {
      "cell_type": "markdown",
      "source": [
        "10. create a 7*5 Dataframe in Pandas using a series generated from 35 random integers between 1 to 6?\n"
      ],
      "metadata": {
        "id": "TBRCMaubioEB"
      }
    },
    {
      "cell_type": "code",
      "source": [
        "import pandas as pd\n",
        "import numpy as np\n",
        "\n",
        "# Generate a series of 35 random integers between 1 and 6\n",
        "random_integers = np.random.randint(1, 7, 35)\n",
        "\n",
        "# Reshape the series into a 7x5 DataFrame\n",
        "df = pd.DataFrame(random_integers.reshape(7, 5), columns=['A', 'B', 'C', 'D', 'E'])\n",
        "\n",
        "# Display the DataFrame\n",
        "print(df)\n"
      ],
      "metadata": {
        "id": "jWLlFmILiH0w"
      },
      "execution_count": null,
      "outputs": []
    },
    {
      "cell_type": "markdown",
      "source": [
        "11.Create two different Series, each of length 50, with the following criteria:\n",
        "\n",
        "a) The first Series should contain random numbers ranging from 10 to 50.\n",
        "\n",
        "b) The second Series should contain random numbers ranging from 100 to 1000.\n",
        "\n",
        "c) Create a DataFrame by joining these Series by column, and, change the names of the columns to 'col1', 'col2',etc"
      ],
      "metadata": {
        "id": "Gyte2opOjN__"
      }
    },
    {
      "cell_type": "code",
      "source": [
        "import pandas as pd\n",
        "import numpy as np\n",
        "\n",
        "# Create the first Series with random numbers ranging from 10 to 50\n",
        "series1 = pd.Series(np.random.randint(10, 51, 50))\n",
        "\n",
        "# Create the second Series with random numbers ranging from 100 to 1000\n",
        "series2 = pd.Series(np.random.randint(100, 1001, 50))\n",
        "\n",
        "# Create a DataFrame by joining these Series by column\n",
        "df = pd.DataFrame({'col1': series1, 'col2': series2})\n",
        "\n",
        "# Display the DataFrame\n",
        "print(df)\n"
      ],
      "metadata": {
        "id": "XsB2AivwjKmt"
      },
      "execution_count": null,
      "outputs": []
    },
    {
      "cell_type": "markdown",
      "source": [
        "12. Perform the following operations using people data set:\n",
        "a) Delete the 'Email', 'Phone', and 'Date of birth' columns from the dataset.\n",
        "\n",
        "b) Delete the rows containing any missing values.\n",
        "\n",
        "d) Print the final output also"
      ],
      "metadata": {
        "id": "D8bvVz8tkI4c"
      }
    },
    {
      "cell_type": "markdown",
      "source": [
        "Step 1: Delete the 'Email', 'Phone', and 'Date of birth' columns"
      ],
      "metadata": {
        "id": "stN_zILulF5g"
      }
    },
    {
      "cell_type": "code",
      "source": [
        "import pandas as pd\n",
        "\n",
        "# Assuming df is your DataFrame\n",
        "\n",
        "# List of columns you want to drop\n",
        "columns_to_drop = ['Email', 'Phone', 'Date of birth']\n",
        "\n",
        "# Get the existing columns in your DataFrame\n",
        "existing_columns = df.columns\n",
        "\n",
        "# Filter the columns to drop, keeping only those that exist in the DataFrame\n",
        "valid_columns_to_drop = [col for col in columns_to_drop if col in existing_columns]\n",
        "\n",
        "# Drop the valid columns\n",
        "if valid_columns_to_drop:  # Only drop if there are valid columns to drop\n",
        "    df.drop(columns=valid_columns_to_drop, inplace=True)\n",
        "\n",
        "# Display the updated DataFrame\n",
        "print(df)"
      ],
      "metadata": {
        "id": "XT0Mm41Nl6ay"
      },
      "execution_count": null,
      "outputs": []
    },
    {
      "cell_type": "markdown",
      "source": [
        "Step 2: Delete rows containing any missing values"
      ],
      "metadata": {
        "id": "12AwG2g8lOtV"
      }
    },
    {
      "cell_type": "code",
      "source": [
        "# Deleting rows with any missing values\n",
        "df.dropna(inplace=True)\n"
      ],
      "metadata": {
        "id": "CAIKNuCplIXm"
      },
      "execution_count": null,
      "outputs": []
    },
    {
      "cell_type": "markdown",
      "source": [
        "step 3: Print the final output"
      ],
      "metadata": {
        "id": "U6oXU_aOlUve"
      }
    },
    {
      "cell_type": "code",
      "source": [
        "# Display the final DataFrame\n",
        "print(\"Final DataFrame:\\n\", df)\n"
      ],
      "metadata": {
        "id": "gKE3ACaSlRt7"
      },
      "execution_count": null,
      "outputs": []
    },
    {
      "cell_type": "code",
      "source": [
        "import pandas as pd\n",
        "\n",
        "# Sample DataFrame creation for demonstration (You should load your dataset)\n",
        "# df = pd.read_csv('path_to_your_dataset.csv')\n",
        "\n",
        "# Get existing columns in the DataFrame\n",
        "existing_columns = df.columns\n",
        "\n",
        "# Columns to drop\n",
        "columns_to_drop = ['Email', 'Phone', 'Date of birth']\n",
        "\n",
        "# Filter columns to drop based on existing columns\n",
        "columns_to_drop = [col for col in columns_to_drop if col in existing_columns]\n",
        "\n",
        "# Deleting the specified columns (if"
      ],
      "metadata": {
        "id": "f3i7tXHtliKk"
      },
      "execution_count": null,
      "outputs": []
    },
    {
      "cell_type": "markdown",
      "source": [
        "13. Create two NumPy arrays, x and y, each containing 100 random float values between 0 and 1. Perform the\n",
        "following tasks using Matplotlib and NumPy:\n",
        "\n",
        "a) Create a scatter plot using x and y, setting the color of the points to red and the marker style to 'o'.\n",
        "\n",
        "b) Add a horizontal line at y = 0.5 using a dashed line style and label it as 'y = 0.5'.\n",
        "\n",
        "c) Add a vertical line at x = 0.5 using a dotted line style and label it as 'x = 0.5'.\n",
        "\n",
        "d) Label the x-axis as 'X-axis' and the y-axis as 'Y-axis'.\n",
        "\n",
        "e) Set the title of the plot as 'Advanced Scatter Plot of Random Values'.\n",
        "\n",
        "f) Display a legend for the scatter plot, the horizontal line, and the vertical line."
      ],
      "metadata": {
        "id": "p286950VmkcJ"
      }
    },
    {
      "cell_type": "code",
      "source": [
        "import numpy as np\n",
        "import matplotlib.pyplot as plt\n",
        "\n",
        "# Create two NumPy arrays, x and y, each containing 100 random float values between 0 and 1\n",
        "x = np.random.rand(100)\n",
        "y = np.random.rand(100)\n",
        "\n",
        "# Create a scatter plot using x and y, setting the color of the points to red and the marker style to 'o'\n",
        "plt.scatter(x, y, color='red', marker='o', label='Data Points')\n",
        "\n",
        "# Add a horizontal line at y = 0.5 using a dashed line style and label it as 'y = 0.5'\n",
        "plt.axhline(y=0.5, color='blue', linestyle='--', label='y = 0.5')\n",
        "\n",
        "# Add a vertical line at x = 0.5 using a dotted line style and label it as 'x = 0.5'\n",
        "plt.axvline(x=0.5, color='green', linestyle=':', label='x = 0.5')\n",
        "\n",
        "# Label the x-axis as 'X-axis' and the y-axis as 'Y-axis'\n",
        "plt.xlabel('X-axis')\n",
        "plt.ylabel('Y-axis')\n",
        "\n",
        "# Set the title of the plot as 'Advanced Scatter Plot of Random Values'\n",
        "plt.title('Advanced Scatter Plot of Random Values')\n",
        "\n",
        "# Display a legend for the scatter plot, the horizontal line, and the vertical line\n",
        "plt.legend()\n",
        "\n",
        "# Show the plot\n",
        "plt.show()\n"
      ],
      "metadata": {
        "id": "2vBCJkN6mZQQ"
      },
      "execution_count": null,
      "outputs": []
    },
    {
      "cell_type": "markdown",
      "source": [
        "This code performs the following tasks:\n",
        "\n",
        "Creates two NumPy arrays x and y, each containing 100 random float values between 0 and 1.\n",
        "\n",
        "Creates a scatter plot with red 'o' markers.\n",
        "Adds a horizontal dashed line at y = 0.5.\n",
        "\n",
        "Adds a vertical dotted line at x = 0.5.\n",
        "\n",
        "Labels the x-axis and y-axis.\n",
        "\n",
        "Sets the title of the plot.\n",
        "\n",
        "Displays a legend.\n"
      ],
      "metadata": {
        "id": "EGvHJKjZoFfW"
      }
    },
    {
      "cell_type": "markdown",
      "source": [
        "14. Create a time-series dataset in a Pandas DataFrame with columns: 'Date', 'Temperature', 'Humidity' and\n",
        "Perform the following tasks using Matplotlib:\n",
        "\n",
        "a) Plot the 'Temperature' and 'Humidity' on the same plot with different y-axes (left y-axis for 'Temperature' and\n",
        "right y-axis for 'Humidity').\n",
        "\n",
        "b) Label the x-axis as 'Date'.\n",
        "\n",
        "c) Set the title of the plot as 'Temperature and Humidity Over Time'."
      ],
      "metadata": {
        "id": "gqddU2amoUyB"
      }
    },
    {
      "cell_type": "code",
      "source": [
        "import pandas as pd\n",
        "import numpy as np\n",
        "import matplotlib.pyplot as plt\n",
        "\n",
        "# Create a date range\n",
        "date_rng = pd.date_range(start='2023-01-01', end='2023-01-10', freq='D')\n",
        "\n",
        "# Create a sample DataFrame\n",
        "data = {\n",
        "    'Date': date_rng,\n",
        "    'Temperature': np.random.uniform(20, 30, size=(len(date_rng))),\n",
        "    'Humidity': np.random.uniform(40, 70, size=(len(date_rng)))\n",
        "}\n",
        "df = pd.DataFrame(data)\n",
        "\n",
        "# Plot Temperature and Humidity on the same plot with different y-axes\n",
        "fig, ax1 = plt.subplots()\n",
        "\n",
        "color = 'tab:red'\n",
        "ax1.set_xlabel('Date')\n",
        "ax1.set_ylabel('Temperature (°C)', color=color)\n",
        "ax1.plot(df['Date'], df['Temperature'], color=color, label='Temperature')\n",
        "ax1.tick_params(axis='y', labelcolor=color)\n",
        "\n",
        "ax2 = ax1.twinx()  # instantiate a second axes that shares the same x-axis\n",
        "color = 'tab:blue'\n",
        "ax2.set_ylabel('Humidity (%)', color=color)\n",
        "ax2.plot(df['Date'], df['Humidity'], color=color, label='Humidity')\n",
        "ax2.tick_params(axis='y', labelcolor=color)\n",
        "\n",
        "fig.tight_layout()  # to avoid the overlap of y-axis labels\n",
        "plt.title('Temperature and Humidity Over Time')\n",
        "\n",
        "fig.legend(loc=\"upper left\", bbox_to_anchor=(0.1,0.9))\n",
        "plt.show()\n"
      ],
      "metadata": {
        "id": "ot4AlW90n9Z7"
      },
      "execution_count": null,
      "outputs": []
    },
    {
      "cell_type": "markdown",
      "source": [
        "\n",
        "This code performs the following tasks:\n",
        "\n",
        "Creates a time-series dataset with columns 'Date', 'Temperature', and 'Humidity'.\n",
        "\n",
        "Plots 'Temperature' and 'Humidity' on the same plot with different y-axes.\n",
        "\n",
        "Labels the x-axis as 'Date'.\n",
        "\n",
        "Sets the title of the plot as 'Temperature and Humidity Over Time'.\n",
        "\n",
        "Displays a legend for both 'Temperature' and 'Humidity' data series."
      ],
      "metadata": {
        "id": "6kOwItg8pNYV"
      }
    },
    {
      "cell_type": "markdown",
      "source": [
        "15. Create a NumPy array data containing 1000 samples from a normal distribution. Perform the following\n",
        "tasks using Matplotlib:\n",
        "\n",
        "a) Plot a histogram of the data with 30 bins.\n",
        "b) Overlay a line plot representing the normal distribution's probability density function (PDF).\n",
        "c) Label the x-axis as 'Value' and the y-axis as 'Frequency/Probability'.\n",
        "d) Set the title of the plot as 'Histogram with PDF Overlay'.\n"
      ],
      "metadata": {
        "id": "aOWWnj7zp62s"
      }
    },
    {
      "cell_type": "code",
      "source": [
        "import numpy as np\n",
        "import matplotlib.pyplot as plt\n",
        "from scipy.stats import norm\n",
        "\n",
        "# Create a NumPy array data containing 1000 samples from a normal distribution\n",
        "data = np.random.normal(loc=0, scale=1, size=1000)\n",
        "\n",
        "# Plot a histogram of the data with 30 bins\n",
        "plt.hist(data, bins=30, density=True, alpha=0.6, color='g')\n",
        "\n",
        "# Overlay a line plot representing the normal distribution's probability density function (PDF)\n",
        "xmin, xmax = plt.xlim()\n",
        "x = np.linspace(xmin, xmax, 100)\n",
        "p = norm.pdf(x, 0, 1)\n",
        "plt.plot(x, p, 'k', linewidth=2)\n",
        "\n",
        "# Label the x-axis and y-axis\n",
        "plt.xlabel('Value')\n",
        "plt.ylabel('Frequency/Probability')\n",
        "\n",
        "# Set the title of the plot\n",
        "plt.title('Histogram with PDF Overlay')\n",
        "\n",
        "# Show the plot\n",
        "plt.show()\n"
      ],
      "metadata": {
        "id": "_BwR0jnYpDdk"
      },
      "execution_count": null,
      "outputs": []
    },
    {
      "cell_type": "markdown",
      "source": [
        "This code performs the following tasks:\n",
        "\n",
        "Creates a NumPy array data with 1000 samples from a normal distribution.\n",
        "\n",
        "Plots a histogram of the data with 30 bins.\n",
        "\n",
        "Overlays a line plot representing normal distribution's probability density function (PDF).\n",
        "\n",
        "Labels the x-axis as 'Value' and the y-axis as 'Frequency/Probability'.\n",
        "\n",
        "Sets the title of the plot as 'Histogram with PDF Overlay'."
      ],
      "metadata": {
        "id": "sa68CN66qoa0"
      }
    },
    {
      "cell_type": "markdown",
      "source": [
        "16.Set the title of the plot as 'Histogram with PDF Overlay'"
      ],
      "metadata": {
        "id": "0yzarhePq8W4"
      }
    },
    {
      "cell_type": "code",
      "source": [
        "import numpy as np\n",
        "import matplotlib.pyplot as plt\n",
        "from scipy.stats import norm\n",
        "\n",
        "# Create a NumPy array data containing 1000 samples from a normal distribution\n",
        "data = np.random.normal(loc=0, scale=1, size=1000)\n",
        "\n",
        "# Plot a histogram of the data with 30 bins\n",
        "plt.hist(data, bins=30, density=True, alpha=0.6, color='g')\n",
        "\n",
        "# Overlay a line plot representing the normal distribution's probability density function (PDF)\n",
        "xmin, xmax = plt.xlim()\n",
        "x = np.linspace(xmin, xmax, 100)\n",
        "p = norm.pdf(x, 0, 1)\n",
        "plt.plot(x, p, 'k', linewidth=2)\n",
        "\n",
        "# Label the x-axis and y-axis\n",
        "plt.xlabel('Value')\n",
        "plt.ylabel('Frequency/Probability')\n",
        "\n",
        "# Set the title of the plot\n",
        "plt.title('Histogram with PDF Overlay')\n",
        "\n",
        "# Show the plot\n",
        "plt.show()\n"
      ],
      "metadata": {
        "id": "_FUt18FoqZ2A"
      },
      "execution_count": null,
      "outputs": []
    },
    {
      "cell_type": "markdown",
      "source": [
        "This code will:\n",
        "\n",
        "Create a NumPy array with 1000 samples from a normal distribution.\n",
        "\n",
        "Plot a histogram of the data with 30 bins.\n",
        "\n",
        "Overlay a line plot representing the normal distribution's probability density function (PDF).\n",
        "\n",
        "Label the x-axis as 'Value' and the y-axis as 'Frequency/Probability'.\n",
        "\n"
      ],
      "metadata": {
        "id": "xoLtetU3ri5_"
      }
    },
    {
      "cell_type": "markdown",
      "source": [
        "Set the title of the plot as 'Histogram with PDF Overlay'."
      ],
      "metadata": {
        "id": "qia-JxKzrpvT"
      }
    },
    {
      "cell_type": "markdown",
      "source": [
        "17. Create a Seaborn scatter plot of two random arrays, color points based on their position relative to the\n",
        "origin (quadrants), add a legend, label the axes, and set the title as 'Quadrant-wise Scatter Plot'"
      ],
      "metadata": {
        "id": "7-0W_L35rrrS"
      }
    },
    {
      "cell_type": "code",
      "source": [
        "import seaborn as sns\n",
        "import numpy as np\n",
        "import pandas as pd\n",
        "import matplotlib.pyplot as plt\n",
        "\n",
        "# Generate two random arrays\n",
        "np.random.seed(42)\n",
        "x = np.random.randn(100)\n",
        "y = np.random.randn(100)\n",
        "\n",
        "# Determine the quadrant and assign colors\n",
        "def get_quadrant(x, y):\n",
        "    if x > 0 and y > 0:\n",
        "        return 'Quadrant 1'\n",
        "    elif x < 0 and y > 0:\n",
        "        return 'Quadrant 2'\n",
        "    elif x < 0 and y < 0:\n",
        "        return 'Quadrant 3'\n",
        "    else:\n",
        "        return 'Quadrant 4'\n",
        "\n",
        "# Create DataFrame\n",
        "df = pd.DataFrame({'x': x, 'y': y})\n",
        "df['quadrant'] = df.apply(lambda row: get_quadrant(row['x'], row['y']), axis=1)\n",
        "\n",
        "# Plot using Seaborn\n",
        "plt.figure(figsize=(10, 6))\n",
        "scatter_plot = sns.scatterplot(x='x', y='y', hue='quadrant', palette='Set1', data=df)\n",
        "\n",
        "# Add legend, labels, and title\n",
        "plt.legend(title='Quadrants')\n",
        "plt.xlabel('X-axis')\n",
        "plt.ylabel('Y-axis')\n",
        "plt.title('Quadrant-wise Scatter Plot')\n",
        "\n",
        "# Show the plot\n",
        "plt.show()\n"
      ],
      "metadata": {
        "id": "xxFcxokvre26"
      },
      "execution_count": null,
      "outputs": []
    },
    {
      "cell_type": "markdown",
      "source": [
        "This code does the following:\n",
        "\n",
        "Generates two random arrays x and y.\n",
        "\n",
        "Determines the quadrant for each point and assigns a corresponding color.\n",
        "\n",
        "Creates a DataFrame and adds a column for the quadrant.\n",
        "\n"
      ],
      "metadata": {
        "id": "KzyR4s41sGHr"
      }
    },
    {
      "cell_type": "markdown",
      "source": [
        "Uses Seaborn to create a scatter plot with points colored based on their quadrant.\n",
        "\n",
        "Adds a legend, labels the axes, and sets the plot title."
      ],
      "metadata": {
        "id": "1qk3jC9ssLX3"
      }
    },
    {
      "cell_type": "markdown",
      "source": [
        "18. With Bokeh, plot a line chart of a sine wave function, add grid lines, label the axes, and set the title as 'Sine Wave Function'"
      ],
      "metadata": {
        "id": "nIdCbw3XtGqF"
      }
    },
    {
      "cell_type": "code",
      "source": [
        "from bokeh.plotting import figure, show\n",
        "from bokeh.io import output_notebook\n",
        "import numpy as np\n",
        "\n",
        "output_notebook()\n",
        "\n",
        "# Generate data for the sine wave\n",
        "x = np.linspace(0, 4 * np.pi, 100)\n",
        "y = np.sin(x)\n",
        "\n",
        "# Create a Bokeh figure\n",
        "p = figure(title=\"Sine Wave Function\", x_axis_label='X-axis', y_axis_label='Y-axis')\n",
        "\n",
        "# Add the sine wave line to the figure\n",
        "p.line(x, y, legend_label=\"Sine Wave\", line_width=2)\n",
        "\n",
        "# Add grid lines\n",
        "p.xgrid.grid_line_color = 'gray'\n",
        "p.ygrid.grid_line_color = 'gray'\n",
        "\n",
        "# Show the plot\n",
        "show(p)\n"
      ],
      "metadata": {
        "id": "EJ5D6BXlr9BO"
      },
      "execution_count": null,
      "outputs": []
    },
    {
      "cell_type": "markdown",
      "source": [
        "19. Using Bokeh, generate a bar chart of randomly generated categorical data, color bars based on their values, add hover tooltips to display exact values, label the axes, and set the title as 'Random Categorical Bar Chart'."
      ],
      "metadata": {
        "id": "hXut1yTctXQe"
      }
    },
    {
      "cell_type": "code",
      "source": [
        "from bokeh.plotting import figure, show\n",
        "from bokeh.io import output_notebook\n",
        "from bokeh.models import ColumnDataSource, HoverTool\n",
        "import numpy as np\n",
        "import pandas as pd\n",
        "\n",
        "output_notebook()\n",
        "\n",
        "# Generate random categorical data\n",
        "categories = ['A', 'B', 'C', 'D', 'E']\n",
        "values = np.random.randint(1, 101, size=len(categories))\n",
        "\n",
        "# Create a DataFrame\n",
        "df = pd.DataFrame({'categories': categories, 'values': values})\n",
        "\n",
        "# Create a ColumnDataSource\n",
        "source = ColumnDataSource(data=df)\n",
        "\n",
        "# Create a Bokeh figure\n",
        "p = figure(x_range=categories, title=\"Random Categorical Bar Chart\",\n",
        "           x_axis_label='Categories', y_axis_label='Values')\n",
        "\n",
        "# Add bars to the figure\n",
        "p.vbar(x='categories', top='values', width=0.9, source=source,\n",
        "       fill_color='navy', line_color='white')\n",
        "\n",
        "# Add hover tooltips\n",
        "hover = HoverTool()\n",
        "hover.tooltips = [(\"Category\", \"@categories\"), (\"Value\", \"@values\")]\n",
        "p.add_tools(hover)\n",
        "\n",
        "# Show the plot\n",
        "show(p)\n"
      ],
      "metadata": {
        "id": "-85XmgultYjF"
      },
      "execution_count": null,
      "outputs": []
    },
    {
      "cell_type": "markdown",
      "source": [
        "20.20. Using Plotly, create a basic line plot of a randomly generated dataset, label the axes, and set the title as 'Simple Line Plot'."
      ],
      "metadata": {
        "id": "xtwqouzAtgBu"
      }
    },
    {
      "cell_type": "code",
      "source": [
        "import plotly.express as px\n",
        "import numpy as np\n",
        "\n",
        "# Generate a randomly generated dataset\n",
        "x = np.linspace(0, 10, 100)\n",
        "y = np.random.rand(100)\n",
        "\n",
        "# Create a Plotly line plot\n",
        "fig = px.line(x=x, y=y, title='Simple Line Plot', labels={'x': 'X-axis', 'y': 'Y-axis'})\n",
        "\n",
        "# Show the plot\n",
        "fig.show()\n"
      ],
      "metadata": {
        "id": "CzQk1pEctb-b"
      },
      "execution_count": null,
      "outputs": []
    },
    {
      "cell_type": "markdown",
      "source": [
        "21.Using Plotly, create an interactive pie chart of randomly generated data, add labels and percentages, set the title as 'Interactive Pie Chart"
      ],
      "metadata": {
        "id": "_0y5V8-7tu02"
      }
    },
    {
      "cell_type": "code",
      "source": [
        "import plotly.express as px\n",
        "import numpy as np\n",
        "\n",
        "# Generate randomly generated data for the pie chart\n",
        "labels = ['Category A', 'Category B', 'Category C', 'Category D']\n",
        "sizes = np.random.randint(10, 50, size=4)\n",
        "\n",
        "# Create a Plotly pie chart\n",
        "fig = px.pie(values=sizes, names=labels, title='Interactive Pie Chart', labels={'label': 'Category'})\n",
        "\n",
        "# Add labels and percentages\n",
        "fig.update_traces(textinfo='label+percent', insidetextorientation='radial')\n",
        "\n",
        "# Show the plot\n",
        "fig.show()\n"
      ],
      "metadata": {
        "id": "jG4SaQnTtkMT"
      },
      "execution_count": null,
      "outputs": []
    },
    {
      "cell_type": "code",
      "source": [],
      "metadata": {
        "id": "xkpo2680tyF3"
      },
      "execution_count": null,
      "outputs": []
    }
  ]
}