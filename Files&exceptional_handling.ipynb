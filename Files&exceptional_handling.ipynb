{
  "nbformat": 4,
  "nbformat_minor": 0,
  "metadata": {
    "colab": {
      "private_outputs": true,
      "provenance": []
    },
    "kernelspec": {
      "name": "python3",
      "display_name": "Python 3"
    },
    "language_info": {
      "name": "python"
    }
  },
  "cells": [
    {
      "cell_type": "markdown",
      "source": [
        "##Files & Exceptional Handling\n",
        "**##Assignment**\n"
      ],
      "metadata": {
        "id": "qgKsI565zAd-"
      }
    },
    {
      "cell_type": "markdown",
      "source": [
        "1.Discuss the scenarios where multithreading is preferable to multiprocessing and scenarios where multiprocessing is a better choice."
      ],
      "metadata": {
        "id": "rsh98xPqzg6G"
      }
    },
    {
      "cell_type": "markdown",
      "source": [
        "1. Multithreading vs. Multiprocessing\n",
        "Multithreading:\n",
        "\n",
        "Preferable for I/O-bound tasks (e.g., file I/O, network I/O) because threads can share memory space and switch contexts quickly.\n",
        "\n",
        "Useful when tasks involve waiting (e.g., for user input, for a file to download).\n",
        "\n",
        "Less overhead in creating and managing threads compared to processes.\n",
        "\n",
        "Example: A web server handling multiple client requests simultaneously.\n",
        "Multiprocessing:\n",
        "\n",
        "Preferable for CPU-bound tasks (e.g., complex calculations, data processing) because it can bypass the Global Interpreter Lock (GIL) in Python, allowing true parallel execution.\n",
        "\n",
        "Each process runs in its own memory space, reducing contention.\n",
        "\n",
        "Better for tasks that require heavy computation.\n",
        "Example: Processing large datasets, performing machine learning training."
      ],
      "metadata": {
        "id": "RCZg1rxv1K3z"
      }
    },
    {
      "cell_type": "markdown",
      "source": [
        "2.Describe what a process pool is and how it helps in managing multiple processes efficiently."
      ],
      "metadata": {
        "id": "JDgML4FO1a6e"
      }
    },
    {
      "cell_type": "markdown",
      "source": [
        "A Process Pool is a collection of worker processes that can be reused to execute multiple tasks concurrently. It is part of the multiprocessing module in Python and helps in managing multiple processes efficiently by:\n",
        "\n",
        "Reducing the overhead of creating and destroying processes.\n",
        "\n",
        "Balancing the load among multiple worker processes.\n",
        "\n",
        "Simplifying the management of a pool of processes with built-in methods like apply, map, and starmap."
      ],
      "metadata": {
        "id": "xFru6W2V1nMc"
      }
    },
    {
      "cell_type": "markdown",
      "source": [
        "3.Explain what multiprocessing is and why it is used in Python programs."
      ],
      "metadata": {
        "id": "dKWZeXuc1r2A"
      }
    },
    {
      "cell_type": "markdown",
      "source": [
        "Multiprocessing refers to the ability of a system to run multiple processes simultaneously.\n",
        "\n",
        "In Python, the multiprocessing module allows the creation of multiple processes, each with its own Python interpreter and memory space.\n",
        "\n",
        "It is used to achieve parallelism, bypassing the GIL, making it suitable for CPU-bound tasks.\n",
        "\n",
        "Benefits include improved performance and better resource utilization, especially on multi-core systems."
      ],
      "metadata": {
        "id": "2FKYlQjD10yd"
      }
    },
    {
      "cell_type": "markdown",
      "source": [
        "4.Write a Python program using multithreading where one thread adds numbers to a list, and another thread removes numbers from the list. Implement a mechanism to avoid race conditions using threading.Lock."
      ],
      "metadata": {
        "id": "Q72W-W0815uB"
      }
    },
    {
      "cell_type": "code",
      "execution_count": null,
      "metadata": {
        "id": "FOQju7pLypO_"
      },
      "outputs": [],
      "source": [
        "import threading\n",
        "\n",
        "# Shared resource\n",
        "shared_list = []\n",
        "\n",
        "# Lock for avoiding race conditions\n",
        "lock = threading.Lock()\n",
        "\n",
        "def add_to_list():\n",
        "    for i in range(100):\n",
        "        with lock:\n",
        "            shared_list.append(i)\n",
        "            print(f\"Added: {i}\")\n",
        "\n",
        "def remove_from_list():\n",
        "    for i in range(100):\n",
        "        with lock:\n",
        "            if shared_list:\n",
        "                removed = shared_list.pop(0)\n",
        "                print(f\"Removed: {removed}\")\n",
        "\n",
        "# Create threads\n",
        "thread1 = threading.Thread(target=add_to_list)\n",
        "thread2 = threading.Thread(target=remove_from_list)\n",
        "\n",
        "# Start threads\n",
        "thread1.start()\n",
        "thread2.start()\n",
        "\n",
        "# Wait for threads to complete\n",
        "thread1.join()\n",
        "thread2.join()\n",
        "\n",
        "print(\"Final list:\", shared_list)\n"
      ]
    },
    {
      "cell_type": "markdown",
      "source": [
        "5. Describe the methods and tools available in Python for safely sharing data between threads and processes"
      ],
      "metadata": {
        "id": "f_pvaDUVy-Zh"
      }
    },
    {
      "cell_type": "markdown",
      "source": [
        "Safely Sharing Data Between Threads and Processes\n",
        "Threads:\n",
        "\n",
        "threading.Lock: Ensures that only one thread can access a shared resource at a time.\n",
        "\n",
        "threading.RLock: A re-entrant lock for more complex locking needs.\n",
        "\n",
        "threading.Event: Used for signaling between threads.\n",
        "\n",
        "queue.Queue: A thread-safe FIFO queue for data sharing.\n",
        "\n",
        "Processes:\n",
        "\n",
        "multiprocessing.Queue: A thread-safe FIFO queue for inter-process communication.\n",
        "\n",
        "multiprocessing.Pipe: A two-way communication channel.\n",
        "\n",
        "multiprocessing.Manager: Manages shared objects like lists, dictionaries, and values across processes.\n",
        "\n",
        "multiprocessing.Value and multiprocessing.Array: Share data in memory efficiently."
      ],
      "metadata": {
        "id": "pkgOtxbc2TNJ"
      }
    },
    {
      "cell_type": "markdown",
      "source": [
        "6. Discuss why it's crucial to handle exceptions in concurrent programs and the techniques available for doing so."
      ],
      "metadata": {
        "id": "s7RMmyzN2joj"
      }
    },
    {
      "cell_type": "markdown",
      "source": [
        "Handling Exceptions in Concurrent Programs\n",
        "Importance:\n",
        "\n",
        "Ensures that the program does not crash unexpectedly.\n",
        "\n",
        "Allows graceful handling of errors, resource cleanup, and logging.\n",
        "\n",
        "Techniques:\n",
        "\n",
        "Using try-except blocks within threads or processes.\n",
        "\n",
        "Capturing exceptions in a main thread or process from worker threads or processes.\n",
        "\n",
        "Using tools like concurrent.futures to handle exceptions in thread or process pools."
      ],
      "metadata": {
        "id": "i64AHVUo265Z"
      }
    },
    {
      "cell_type": "markdown",
      "source": [
        "7.Create a program that uses a thread pool to calculate the factorial of numbers from 1 to 10 concurrently. Use concurrent.futures.ThreadPoolExecutor to manage the threads"
      ],
      "metadata": {
        "id": "QDtEafIj3CLB"
      }
    },
    {
      "cell_type": "code",
      "source": [
        "from concurrent.futures import ThreadPoolExecutor\n",
        "import math\n",
        "\n",
        "def factorial(n):\n",
        "    return math.factorial(n)\n",
        "\n",
        "# Create a thread pool\n",
        "with ThreadPoolExecutor(max_workers=5) as executor:\n",
        "    # Submit tasks\n",
        "    futures = [executor.submit(factorial, i) for i in range(1, 11)]\n",
        "\n",
        "    # Collect results\n",
        "    for future in futures:\n",
        "        print(future.result())\n"
      ],
      "metadata": {
        "id": "TKyX-UXi2NGf"
      },
      "execution_count": null,
      "outputs": []
    },
    {
      "cell_type": "markdown",
      "source": [
        "8.Create a Python program that uses multiprocessing.Pool to compute the square of numbers from 1 to 10 in parallel. Measure the time taken to perform this computation using a pool of different sizes (e.g., 2, 4, 8 processes)."
      ],
      "metadata": {
        "id": "_Ve4rAp33KLB"
      }
    },
    {
      "cell_type": "code",
      "source": [
        "from multiprocessing import Pool\n",
        "import time\n",
        "\n",
        "def square(n):\n",
        "    return n * n\n",
        "\n",
        "# Measure time taken with different pool sizes\n",
        "for pool_size in [2, 4, 8]:\n",
        "    start_time = time.time()\n",
        "    with Pool(pool_size) as pool:\n",
        "        results = pool.map(square, range(1, 11))\n",
        "    end_time = time.time()\n",
        "    print(f\"Pool size {pool_size}: {results}, Time taken: {end_time - start_time:.4f} seconds\")\n"
      ],
      "metadata": {
        "id": "N3DEznpi3Fpi"
      },
      "execution_count": null,
      "outputs": []
    },
    {
      "cell_type": "code",
      "source": [],
      "metadata": {
        "id": "tOJl_ZrE3N2p"
      },
      "execution_count": null,
      "outputs": []
    }
  ]
}