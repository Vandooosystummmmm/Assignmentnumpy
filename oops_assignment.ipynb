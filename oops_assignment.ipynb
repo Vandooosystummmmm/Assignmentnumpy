{
  "nbformat": 4,
  "nbformat_minor": 0,
  "metadata": {
    "colab": {
      "private_outputs": true,
      "provenance": []
    },
    "kernelspec": {
      "name": "python3",
      "display_name": "Python 3"
    },
    "language_info": {
      "name": "python"
    }
  },
  "cells": [
    {
      "cell_type": "markdown",
      "source": [
        "##OOPSASSIGNMENT"
      ],
      "metadata": {
        "id": "poOnQqCE9lOI"
      }
    },
    {
      "cell_type": "markdown",
      "source": [
        "1. What are the five key concepts of Object-Oriented Programming (OOP)?\n",
        "Key Concepts of Object-Oriented Programming (OOP):\n",
        "\n",
        "Encapsulation: Bundling data and methods that operate on that data within a single unit, typically a class.\n",
        "\n",
        "Abstraction: Hiding the complex implementation details and showing only the essential features of the object.\n",
        "\n",
        "Inheritance: Mechanism by which one class can inherit the properties and methods of another class.\n",
        "\n",
        "Polymorphism: Ability to present the same interface for different underlying forms (data types).\n",
        "\n",
        "Classes and Objects: Classes are blueprints for creating objects (instances)."
      ],
      "metadata": {
        "id": "5RNXRxaR5qwo"
      }
    },
    {
      "cell_type": "markdown",
      "source": [
        "2. Write a Python class for a `Car` with attributes for `make`, `model`, and `year`. Include a method to display the car's information."
      ],
      "metadata": {
        "id": "ZFDB-xbx57zk"
      }
    },
    {
      "cell_type": "code",
      "source": [
        "class Car:\n",
        "    def __init__(self, make, model, year):\n",
        "        self.make = make\n",
        "        self.model = model\n",
        "        self.year = year\n",
        "\n",
        "    def display_info(self):\n",
        "        print(f\"{self.year} {self.make} {self.model}\")\n",
        "\n",
        "# Example usage\n",
        "my_car = Car(\"Toyota\", \"Corolla\", 2020)\n",
        "my_car.display_info()  # Output: 2020 Toyota Corolla\n"
      ],
      "metadata": {
        "id": "Y7uV1MxE6DwI"
      },
      "execution_count": null,
      "outputs": []
    },
    {
      "cell_type": "markdown",
      "source": [
        "3. Explain the difference between instance methods and class methods. Provide an example of each.\n",
        "Instance Methods vs. Class Methods:\n",
        "\n",
        "Instance Methods: Operate on an instance of the class using self. They can access and modify object state.\n",
        "\n",
        "Class Methods: Operate on the class itself using cls. They can modify class state that applies across all instances"
      ],
      "metadata": {
        "id": "p1jQ3YO16PAe"
      }
    },
    {
      "cell_type": "code",
      "source": [
        "class MyClass:\n",
        "    def instance_method(self):\n",
        "        print(\"Instance method called\")\n",
        "\n",
        "    @classmethod\n",
        "    def class_method(cls):\n",
        "        print(\"Class method called\")\n",
        "\n",
        "obj = MyClass()\n",
        "obj.instance_method()  # Instance method called\n",
        "MyClass.class_method()  # Class method called\n"
      ],
      "metadata": {
        "id": "_vmyiD_J6IIV"
      },
      "execution_count": null,
      "outputs": []
    },
    {
      "cell_type": "markdown",
      "source": [
        "4. How does Python implement method overloading? Give an example.\n",
        "Ans4:- Method Overloading in Python: Python does not support traditional method overloading. Instead, you can use default parameters or *args and **kwargs to achieve similar functionality.\n"
      ],
      "metadata": {
        "id": "_SgZFniT6mkj"
      }
    },
    {
      "cell_type": "code",
      "source": [
        "class MyClass:\n",
        "    def method(self, a, b=0):\n",
        "        print(a + b)\n",
        "\n",
        "obj = MyClass()\n",
        "obj.method(1)      # Output: 1\n",
        "obj.method(1, 2)   # Output: 3\n"
      ],
      "metadata": {
        "id": "3HG2VQt-7E5T"
      },
      "execution_count": null,
      "outputs": []
    },
    {
      "cell_type": "markdown",
      "source": [
        "5. What are the three types of access modifiers in Python? How are they denoted?\n",
        "\n",
        " Answer 5:-   \n",
        "\n",
        " Access Modifiers in Python:\n",
        "\n",
        "Public: Accessible from anywhere (self.attribute).\n",
        "\n",
        "Protected: Meant to be used within the class and its subclasses (self._attribute).\n",
        "\n",
        "Private: Meant to be used within the class itself (self.__attribute).\n",
        "\n"
      ],
      "metadata": {
        "id": "JPOMb3yI7MY5"
      }
    },
    {
      "cell_type": "markdown",
      "source": [
        "6. Describe the five types of inheritance in Python. Provide a simple example of multiple inheritance.\n",
        "\n",
        "\n",
        "\n",
        "answer6:- Types of Inheritance in Python:\n",
        "\n",
        "Single Inheritance: A class inherits from one parent class.\n",
        "\n",
        "Multiple Inheritance: A class inherits from more than one parent class.\n",
        "\n",
        "Multilevel Inheritance: A class inherits from a class that inherits from another class.\n",
        "\n",
        "Hierarchical Inheritance: Multiple classes inherit from the same parent class.\n",
        "\n",
        "Hybrid Inheritance: A combination of two or more types of inheritance."
      ],
      "metadata": {
        "id": "IM4TjQQx7qA5"
      }
    },
    {
      "cell_type": "code",
      "source": [
        "class Base1:\n",
        "    pass\n",
        "\n",
        "class Base2:\n",
        "    pass\n",
        "\n",
        "class Derived(Base1, Base2):\n",
        "    pass\n"
      ],
      "metadata": {
        "id": "vstpzmjE7KDb"
      },
      "execution_count": null,
      "outputs": []
    },
    {
      "cell_type": "markdown",
      "source": [
        "7:-. What is the Method Resolution Order (MRO) in Python? How can you retrieve it programmatically?\n",
        "\n",
        "answer7:-Method Resolution Order (MRO): Determines the order in which base classes are searched when executing a method. You can retrieve it using the __mro__ attribute or the mro() method\n"
      ],
      "metadata": {
        "id": "3VuERwUu8Qqr"
      }
    },
    {
      "cell_type": "code",
      "source": [
        "class Base1:\n",
        "    pass\n",
        "\n",
        "class Base2:\n",
        "    pass\n",
        "\n",
        "class Derived(Base1, Base2):\n",
        "    pass\n",
        "\n",
        "print(Derived.__mro__)  # Output: (<class '__main__.Derived'>, <class '__main__.Base1'>, <class '__main__.Base2'>, <class 'object'>)\n"
      ],
      "metadata": {
        "id": "epQJMew98APr"
      },
      "execution_count": null,
      "outputs": []
    },
    {
      "cell_type": "markdown",
      "source": [
        "8:-\n",
        "Create an abstract base class `Shape` with an abstract method `area()`. Then create two subclasses `Circle` and `Rectangle` that implement the `area()`\n",
        "method.\n",
        "\n",
        "answer8:-\n",
        "Abstract Base Class Shape with Subclasses Circle and Rectangle:"
      ],
      "metadata": {
        "id": "S-_P6K8k8gsC"
      }
    },
    {
      "cell_type": "code",
      "source": [
        "from abc import ABC, abstractmethod\n",
        "\n",
        "class Shape(ABC):\n",
        "    @abstractmethod\n",
        "    def area(self):\n",
        "        pass\n",
        "\n",
        "class Circle(Shape):\n",
        "    def __init__(self, radius):\n",
        "        self.radius = radius\n",
        "\n",
        "    def area(self):\n",
        "        return 3.14 * self.radius ** 2\n",
        "\n",
        "class Rectangle(Shape):\n",
        "    def __init__(self, width, height):\n",
        "        self.width = width\n",
        "        self.height = height\n",
        "\n",
        "    def area(self):\n",
        "        return self.width * self.height\n"
      ],
      "metadata": {
        "id": "96Yh9lKz8ffk"
      },
      "execution_count": null,
      "outputs": []
    },
    {
      "cell_type": "markdown",
      "source": [
        "9:_Demonstrate polymorphism by creating a function that can work with different shape objects to calculate and print their areas."
      ],
      "metadata": {
        "id": "jUIO_ctc88OZ"
      }
    },
    {
      "cell_type": "code",
      "source": [
        "def print_area(shape):\n",
        "    print(f\"The area is {shape.area()}\")\n",
        "\n",
        "shapes = [Circle(5), Rectangle(4, 6)]\n",
        "for shape in shapes:\n",
        "    print_area(shape)\n"
      ],
      "metadata": {
        "id": "spjTErz685-X"
      },
      "execution_count": null,
      "outputs": []
    },
    {
      "cell_type": "markdown",
      "source": [
        "10. Implement encapsulation in a `BankAccount` class with private attributes for `balance` and `account_number`. Include methods for deposit, withdrawal, and balance inquiry."
      ],
      "metadata": {
        "id": "j87iYALy9Lwy"
      }
    },
    {
      "cell_type": "code",
      "source": [
        "class BankAccount:\n",
        "    def __init__(self, account_number):\n",
        "        self.__balance = 0\n",
        "        self.__account_number = account_number\n",
        "\n",
        "    def deposit(self, amount):\n",
        "        self.__balance += amount\n",
        "\n",
        "    def withdraw(self, amount):\n",
        "        if amount <= self.__balance:\n",
        "            self.__balance -= amount\n",
        "\n",
        "    def get_balance(self):\n",
        "        return self.__balance\n"
      ],
      "metadata": {
        "id": "QHmdCCL19Ii0"
      },
      "execution_count": null,
      "outputs": []
    },
    {
      "cell_type": "markdown",
      "source": [
        "11. Write a class that overrides the `__str__` and `__add__` magic methods. What will these methods allow you to do?\n",
        "answer11:-"
      ],
      "metadata": {
        "id": "Et6--Aj690Kx"
      }
    },
    {
      "cell_type": "code",
      "source": [
        "class MyClass:\n",
        "    def __init__(self, value):\n",
        "        self.value = value\n",
        "\n",
        "    def __str__(self):\n",
        "        return f\"MyClass with value: {self.value}\"\n",
        "\n",
        "    def __add__(self, other):\n",
        "        return MyClass(self.value + other.value)\n",
        "\n",
        "obj1 = MyClass(10)\n",
        "obj2 = MyClass(20)\n",
        "obj3 = obj1 + obj2\n",
        "print(obj3)  # Output: MyClass with value: 30\n"
      ],
      "metadata": {
        "id": "DXTy7T_S-KgS"
      },
      "execution_count": null,
      "outputs": []
    },
    {
      "cell_type": "markdown",
      "source": [
        "12.create a decorator that measures and prints the execution time of a function."
      ],
      "metadata": {
        "id": "-haeN_vi-NoP"
      }
    },
    {
      "cell_type": "code",
      "source": [
        "import time\n",
        "\n",
        "def execution_time(func):\n",
        "    def wrapper(*args, **kwargs):\n",
        "        start_time = time.time()\n",
        "        result = func(*args, **kwargs)\n",
        "        end_time = time.time()\n",
        "        print(f\"Execution time: {end_time - start_time} seconds\")\n",
        "        return result\n",
        "    return wrapper\n",
        "\n",
        "@execution_time\n",
        "def example_function():\n",
        "    time.sleep(2)\n",
        "\n",
        "example_function()  # Output: Execution time: 2.0 seconds\n"
      ],
      "metadata": {
        "id": "izj58yLm-MiQ"
      },
      "execution_count": null,
      "outputs": []
    },
    {
      "cell_type": "markdown",
      "source": [
        "13.Explain the concept of the Diamond Problem in multiple inheritance. How does Python resolve it?\n",
        "\n",
        "answer13:- Diamond Problem in Multiple Inheritance: Occurs when a class inherits from two classes that both inherit from a common superclass. Python resolves it using the C3 linearization algorithm.\n"
      ],
      "metadata": {
        "id": "7TjmnUwm-lm3"
      }
    },
    {
      "cell_type": "code",
      "source": [
        "class A:\n",
        "    def method(self):\n",
        "        print(\"A\")\n",
        "\n",
        "class B(A):\n",
        "    def method(self):\n",
        "        print(\"B\")\n",
        "\n",
        "class C(A):\n",
        "    def method(self):\n",
        "        print(\"C\")\n",
        "\n",
        "class D(B, C):\n",
        "    pass\n",
        "\n",
        "obj = D()\n",
        "obj.method()  # Output: B (following MRO)\n"
      ],
      "metadata": {
        "id": "SdpifVlc-eD2"
      },
      "execution_count": null,
      "outputs": []
    },
    {
      "cell_type": "markdown",
      "source": [
        "14. Write a class method that keeps track of the number of instances created from a class."
      ],
      "metadata": {
        "id": "t7ZeOtx2-8bJ"
      }
    },
    {
      "cell_type": "code",
      "source": [
        "class MyClass:\n",
        "    instance_count = 0\n",
        "\n",
        "    def __init__(self):\n",
        "        MyClass.instance_count += 1\n",
        "\n",
        "    @classmethod\n",
        "    def get_instance_count(cls):\n",
        "        return cls.instance_count\n",
        "\n",
        "obj1 = MyClass()\n",
        "obj2 = MyClass()\n",
        "print(MyClass.get_instance_count())  # Output: 2\n"
      ],
      "metadata": {
        "id": "Ilj9_Too-0uH"
      },
      "execution_count": null,
      "outputs": []
    },
    {
      "cell_type": "markdown",
      "source": [
        "15. Implement a static method in a class that checks if a given year is a leap year"
      ],
      "metadata": {
        "id": "uH2L7keb_PXT"
      }
    },
    {
      "cell_type": "code",
      "source": [
        "class Year:\n",
        "    @staticmethod\n",
        "    def is_leap_year(year):\n",
        "        return year % 4 == 0 and (year % 100 != 0 or year % 400 == 0)\n",
        "\n",
        "print(Year.is_leap_year(2020))  # Output: True\n",
        "print(Year.is_leap_year(2021))  # Output: False\n"
      ],
      "metadata": {
        "id": "7WL3tUaA_Eo8"
      },
      "execution_count": null,
      "outputs": []
    },
    {
      "cell_type": "code",
      "source": [],
      "metadata": {
        "id": "gx6R79FT_Wf6"
      },
      "execution_count": null,
      "outputs": []
    }
  ]
}