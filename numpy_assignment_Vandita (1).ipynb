{
  "nbformat": 4,
  "nbformat_minor": 0,
  "metadata": {
    "colab": {
      "private_outputs": true,
      "provenance": []
    },
    "kernelspec": {
      "name": "python3",
      "display_name": "Python 3"
    },
    "language_info": {
      "name": "python"
    }
  },
  "cells": [
    {
      "cell_type": "markdown",
      "source": [],
      "metadata": {
        "id": "ntLV_Hpebnci"
      }
    },
    {
      "cell_type": "markdown",
      "source": [
        "Create a 3x3 NumPy array with random integers between 1 and 100. Then, interchange its rows and columns"
      ],
      "metadata": {
        "id": "mv5pK6d6bs8n"
      }
    },
    {
      "cell_type": "code",
      "source": [
        "import numpy as np\n",
        "\n",
        "# Create a 3x3 array with random integers between 1 and 100\n",
        "array_3x3 = np.random.randint(1, 101, size=(3, 3))\n",
        "print(\"Original array:\\n\", array_3x3)\n",
        "\n",
        "# Interchange rows and columns\n",
        "transposed_array = array_3x3.T\n",
        "print(\"Transposed array:\\n\", transposed_array)\n"
      ],
      "metadata": {
        "id": "jbHW_XqVcVmb"
      },
      "execution_count": null,
      "outputs": []
    },
    {
      "cell_type": "markdown",
      "source": [
        "2. Generate a 1D NumPy array with 10 elements. Reshape it into a 2x5 array, then into a 5x2 array:"
      ],
      "metadata": {
        "id": "Lp7QF-IecjzS"
      }
    },
    {
      "cell_type": "code",
      "source": [
        "# Generate a 1D array with 10 elements\n",
        "array_1d = np.arange(10)\n",
        "print(\"1D array:\\n\", array_1d)\n",
        "\n",
        "# Reshape into a 2x5 array\n",
        "array_2x5 = array_1d.reshape(2, 5)\n",
        "print(\"2x5 array:\\n\", array_2x5)\n",
        "\n",
        "# Reshape into a 5x2 array\n",
        "array_5x2 = array_2x5.reshape(5, 2)\n",
        "print(\"5x2 array:\\n\", array_5x2)\n"
      ],
      "metadata": {
        "id": "h-4FbkRpcyZJ"
      },
      "execution_count": null,
      "outputs": []
    },
    {
      "cell_type": "code",
      "source": [],
      "metadata": {
        "id": "8oTyJk8XdC0G"
      },
      "execution_count": null,
      "outputs": []
    },
    {
      "cell_type": "markdown",
      "source": [
        "3. Create a 4x4 NumPy array with random float values. Add a border of zeros around it, resulting in a 6x6 array."
      ],
      "metadata": {
        "id": "WXCf3XSYdGL4"
      }
    },
    {
      "cell_type": "code",
      "source": [
        "# Create a 4x4 array with random float values\n",
        "array_4x4 = np.random.rand(4, 4)\n",
        "print(\"Original 4x4 array:\\n\", array_4x4)\n",
        "\n",
        "# Add a border of zeros\n",
        "array_6x6 = np.pad(array_4x4, pad_width=1, mode='constant', constant_values=0)\n",
        "print(\"6x6 array with border:\\n\", array_6x6)\n"
      ],
      "metadata": {
        "id": "GByV_ewXdc6r"
      },
      "execution_count": null,
      "outputs": []
    },
    {
      "cell_type": "code",
      "source": [],
      "metadata": {
        "id": "HHBmYE_udfwu"
      },
      "execution_count": null,
      "outputs": []
    },
    {
      "cell_type": "markdown",
      "source": [
        "4. Using NumPy, create an array of integers from 10 to 60 with a step of 5:"
      ],
      "metadata": {
        "id": "wb-RGVFOdoYl"
      }
    },
    {
      "cell_type": "code",
      "source": [
        "# Create an array of integers from 10 to 60 with a step of 5\n",
        "array_step = np.arange(10, 61, 5)\n",
        "print(\"Array with step of 5:\\n\", array_step)\n"
      ],
      "metadata": {
        "id": "VV2oYkyOdybE"
      },
      "execution_count": null,
      "outputs": []
    },
    {
      "cell_type": "code",
      "source": [],
      "metadata": {
        "id": "4rGgxrSUd3GD"
      },
      "execution_count": null,
      "outputs": []
    },
    {
      "cell_type": "markdown",
      "source": [
        "5.Create a NumPy array of strings ['python', 'numpy', 'pandas']. Apply different case transformations\n",
        "(uppercase, lowercase, title case, etc.) to each element."
      ],
      "metadata": {
        "id": "a56eWEOqd4QP"
      }
    },
    {
      "cell_type": "code",
      "source": [
        "# Create an array of strings\n",
        "array_strings = np.array(['python', 'numpy', 'pandas'])\n",
        "\n",
        "# Apply different case transformations\n",
        "uppercase = np.char.upper(array_strings)\n",
        "lowercase = np.char.lower(array_strings)\n",
        "titlecase = np.char.title(array_strings)\n",
        "\n",
        "print(\"Uppercase:\\n\", uppercase)\n",
        "print(\"Lowercase:\\n\", lowercase)\n",
        "print(\"Title case:\\n\", titlecase)\n"
      ],
      "metadata": {
        "id": "qyT_Ku2SeSbc"
      },
      "execution_count": null,
      "outputs": []
    },
    {
      "cell_type": "markdown",
      "source": [
        "6. Generate a NumPy array of words. Insert a space between each character of every word in the array:"
      ],
      "metadata": {
        "id": "bDs41cpyeiug"
      }
    },
    {
      "cell_type": "code",
      "source": [
        "# Create an array of words\n",
        "words_array = np.array(['hello', 'world'])\n",
        "\n",
        "# Insert a space between each character\n",
        "spaced_words = np.char.join(' ', words_array)\n",
        "print(\"Spaced words:\\n\", spaced_words)\n"
      ],
      "metadata": {
        "id": "FTpsp6XpeXQv"
      },
      "execution_count": null,
      "outputs": []
    },
    {
      "cell_type": "code",
      "source": [],
      "metadata": {
        "id": "S4bgrAkFepEH"
      },
      "execution_count": null,
      "outputs": []
    },
    {
      "cell_type": "markdown",
      "source": [
        "7. Create two 2D NumPy arrays and perform element-wise addition, subtraction, multiplication, and division:"
      ],
      "metadata": {
        "id": "kDyTW_zGeudh"
      }
    },
    {
      "cell_type": "code",
      "source": [
        "# Create two 2D arrays\n",
        "array1 = np.array([[1, 2], [3, 4]])\n",
        "array2 = np.array([[5, 6], [7, 8]])\n",
        "\n",
        "# Perform element-wise operations\n",
        "addition = np.add(array1, array2)\n",
        "subtraction = np.subtract(array1, array2)\n",
        "multiplication = np.multiply(array1, array2)\n",
        "division = np.divide(array1, array2)\n",
        "\n",
        "print(\"Addition:\\n\", addition)\n",
        "print(\"Subtraction:\\n\", subtraction)\n",
        "print(\"Multiplication:\\n\", multiplication)\n",
        "print(\"Division:\\n\", division)\n"
      ],
      "metadata": {
        "id": "fBxR69SVe1Ls"
      },
      "execution_count": null,
      "outputs": []
    },
    {
      "cell_type": "code",
      "source": [],
      "metadata": {
        "id": "jpPafoxTe42T"
      },
      "execution_count": null,
      "outputs": []
    },
    {
      "cell_type": "markdown",
      "source": [
        "8. Use NumPy to create a 5x5 identity matrix, then extract its diagonal elements:"
      ],
      "metadata": {
        "id": "Hfb6FZfHe7dK"
      }
    },
    {
      "cell_type": "code",
      "source": [
        "# Create a 5x5 identity matrix\n",
        "identity_matrix = np.eye(5)\n",
        "print(\"Identity matrix:\\n\", identity_matrix)\n",
        "\n",
        "# Extract diagonal elements\n",
        "diagonal_elements = np.diag(identity_matrix)\n",
        "print(\"Diagonal elements:\\n\", diagonal_elements)\n"
      ],
      "metadata": {
        "id": "EsX_lbABfDml"
      },
      "execution_count": null,
      "outputs": []
    },
    {
      "cell_type": "markdown",
      "source": [
        "9. Generate a NumPy array of 100 random integers between 0 and 1000. Find and display all prime numbers in this array:"
      ],
      "metadata": {
        "id": "VHu4RexhfKfc"
      }
    },
    {
      "cell_type": "code",
      "source": [
        "# Generate an array of 100 random integers between 0 and 1000\n",
        "random_integers = np.random.randint(0, 1001, size=100)\n",
        "\n",
        "# Function to check for prime numbers\n",
        "def is_prime(n):\n",
        "    if n <= 1:\n",
        "        return False\n",
        "    for i in range(2, int(np.sqrt(n)) + 1):\n",
        "        if n % i == 0:\n",
        "            return False\n",
        "    return True\n",
        "\n",
        "# Find all prime numbers in the array\n",
        "prime_numbers = np.array([num for num in random_integers if is_prime(num)])\n",
        "print(\"Prime numbers:\\n\", prime_numbers)\n"
      ],
      "metadata": {
        "id": "uUqrPXizfU5C"
      },
      "execution_count": null,
      "outputs": []
    },
    {
      "cell_type": "markdown",
      "source": [
        "10. Create a NumPy array representing daily temperatures for a month. Calculate and display the weekly\n",
        "averages."
      ],
      "metadata": {
        "id": "qL2ttAZIj-rp"
      }
    },
    {
      "cell_type": "code",
      "source": [
        "import numpy as np\n",
        "\n",
        "# Create an array representing daily temperatures for a month (30 days)\n",
        "daily_temperatures = np.random.randint(15, 35, size=30)\n",
        "print(\"Daily temperatures:\\n\", daily_temperatures)\n",
        "\n",
        "# Reshape the array to represent 4 weeks with 7 days each and calculate weekly averages\n",
        "weekly_averages = np.mean(daily_temperatures.reshape(-1, 7), axis=1)\n",
        "print(\"\\nWeekly average temperatures:\\n\", weekly_averages)\n"
      ],
      "metadata": {
        "id": "_xqUXfUkjCh5"
      },
      "execution_count": null,
      "outputs": []
    },
    {
      "cell_type": "code",
      "source": [
        "import numpy as np\n",
        "\n",
        "# Create an array representing daily temperatures for a month (30 days)\n",
        "daily_temperatures = np.random.randint(15, 35, size=30)\n",
        "print(\"Daily temperatures:\\n\", daily_temperatures)\n",
        "\n",
        "# Reshape the array to represent 4 weeks with 7 days each and calculate weekly averages\n",
        "weekly_averages = np.mean(daily_temperatures.reshape(-1, 7), axis=1)\n",
        "print(\"\\nWeekly average temperatures:\\n\", weekly_averages)\n"
      ],
      "metadata": {
        "id": "eAbsFMNXkOko"
      },
      "execution_count": null,
      "outputs": []
    }
  ]
}