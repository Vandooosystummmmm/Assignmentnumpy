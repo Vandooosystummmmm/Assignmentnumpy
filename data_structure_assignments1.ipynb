{
  "nbformat": 4,
  "nbformat_minor": 0,
  "metadata": {
    "colab": {
      "private_outputs": true,
      "provenance": []
    },
    "kernelspec": {
      "name": "python3",
      "display_name": "Python 3"
    },
    "language_info": {
      "name": "python"
    }
  },
  "cells": [
    {
      "cell_type": "markdown",
      "source": [
        "**Data Structure assignments**"
      ],
      "metadata": {
        "id": "_XDxnbdxTDK1"
      }
    },
    {
      "cell_type": "markdown",
      "source": [
        "1. Write a code to reverse a string.\n"
      ],
      "metadata": {
        "id": "-QfVCdu9RBX7"
      }
    },
    {
      "cell_type": "code",
      "source": [
        "def reverse_string(s):\n",
        "    return s[::-1]\n",
        "\n",
        "# Example usage\n",
        "s = \"hello\"\n",
        "print(reverse_string(s))  # Output: \"olleh\"\n"
      ],
      "metadata": {
        "id": "bCpWsrk3RJjh"
      },
      "execution_count": null,
      "outputs": []
    },
    {
      "cell_type": "markdown",
      "source": [
        "2. Write a code to count the number of vowels in a string"
      ],
      "metadata": {
        "id": "TgZJxi22Rqn5"
      }
    },
    {
      "cell_type": "code",
      "source": [
        "def count_vowels(s):\n",
        "    vowels = \"aeiouAEIOU\"\n",
        "    count = 0\n",
        "    for char in s:\n",
        "        if char in vowels:\n",
        "            count += 1\n",
        "    return count\n",
        "\n",
        "# Example usage\n",
        "s = \"hello world\"\n",
        "print(count_vowels(s))  # Output: 3\n"
      ],
      "metadata": {
        "id": "YXhC0nsrROMV"
      },
      "execution_count": null,
      "outputs": []
    },
    {
      "cell_type": "markdown",
      "source": [
        "3.  Write a code to check if a given string is a palindrome or not?\n"
      ],
      "metadata": {
        "id": "OQEm-7pZR8Sk"
      }
    },
    {
      "cell_type": "code",
      "source": [
        "def is_palindrome(s):\n",
        "    return s == s[::-1]\n",
        "\n",
        "# Example usage\n",
        "s = \"madam\"\n",
        "print(is_palindrome(s))  # Output: True\n",
        "\n",
        "s = \"hello\"\n",
        "print(is_palindrome(s))  # Output: False\n"
      ],
      "metadata": {
        "id": "Q_VMdig5R236"
      },
      "execution_count": null,
      "outputs": []
    },
    {
      "cell_type": "markdown",
      "source": [
        "4. Write a code to check if two given strings are anagrams of each other"
      ],
      "metadata": {
        "id": "9kmh7892SO2a"
      }
    },
    {
      "cell_type": "code",
      "source": [
        "def are_anagrams(s1, s2):\n",
        "    return sorted(s1) == sorted(s2)\n",
        "\n",
        "# Example usage\n",
        "s1 = \"listen\"\n",
        "s2 = \"silent\"\n",
        "print(are_anagrams(s1, s2))  # Output: True\n",
        "\n",
        "s1 = \"hello\"\n",
        "s2 = \"world\"\n",
        "print(are_anagrams(s1, s2))  # Output: False\n"
      ],
      "metadata": {
        "id": "IVhxjdabSRV4"
      },
      "execution_count": null,
      "outputs": []
    },
    {
      "cell_type": "markdown",
      "source": [
        "5. \tWrite a code to find all occurrences of a given substring within another string??\n"
      ],
      "metadata": {
        "id": "DMLkjSz8TVL4"
      }
    },
    {
      "cell_type": "code",
      "source": [
        "def find_substring_occurrences(s, sub):\n",
        "    occurrences = []\n",
        "    start = 0\n",
        "    while True:\n",
        "        start = s.find(sub, start)\n",
        "        if start == -1:\n",
        "            break\n",
        "        occurrences.append(start)\n",
        "        start += 1\n",
        "    return occurrences\n",
        "\n",
        "# Example usage\n",
        "s = \"hello hello hello\"\n",
        "sub = \"lo\"\n",
        "print(find_substring_occurrences(s, sub))  # Output: [3, 9, 15]\n"
      ],
      "metadata": {
        "id": "H92IVqNTSUKM"
      },
      "execution_count": null,
      "outputs": []
    },
    {
      "cell_type": "markdown",
      "source": [
        "6.Write a code to perform basic string compression using the counts of repeated characters?"
      ],
      "metadata": {
        "id": "44uAK6qyT5wC"
      }
    },
    {
      "cell_type": "code",
      "source": [
        "def compress_string(s):\n",
        "    compressed = []\n",
        "    count = 1\n",
        "    for i in range(1, len(s)):\n",
        "        if s[i] == s[i - 1]:\n",
        "            count += 1\n",
        "        else:\n",
        "            compressed.append(s[i - 1] + str(count))\n",
        "            count = 1\n",
        "    compressed.append(s[-1] + str(count))\n",
        "    return ''.join(compressed)\n",
        "\n",
        "# Example usage\n",
        "s = \"aabcccccaaa\"\n",
        "print(compress_string(s))  # Output: \"a2b1c5a3\"\n"
      ],
      "metadata": {
        "id": "Z4dpojutUHqk"
      },
      "execution_count": null,
      "outputs": []
    },
    {
      "cell_type": "markdown",
      "source": [
        " 7. Write a code to determine if a string has all unique characters"
      ],
      "metadata": {
        "id": "VSyWpyRgUPI-"
      }
    },
    {
      "cell_type": "code",
      "source": [
        "def has_unique_chars(s):\n",
        "    return len(set(s)) == len(s)\n",
        "\n",
        "# Example usage\n",
        "s = \"abcdef\"\n",
        "print(has_unique_chars(s))  # Output: True\n",
        "\n",
        "s = \"hello\"\n",
        "print(has_unique_chars(s))  # Output: False\n"
      ],
      "metadata": {
        "id": "XIZmo7mVULWL"
      },
      "execution_count": null,
      "outputs": []
    },
    {
      "cell_type": "markdown",
      "source": [
        "8.Write a code to convert a given string to uppercase or lowercase"
      ],
      "metadata": {
        "id": "8qA3Qz6UUoS-"
      }
    },
    {
      "cell_type": "code",
      "source": [
        "def to_uppercase(s):\n",
        "    return s.upper()\n",
        "\n",
        "def to_lowercase(s):\n",
        "    return s.lower()\n",
        "\n",
        "# Example usage\n",
        "s = \"Hello World\"\n",
        "print(to_uppercase(s))  # Output: \"HELLO WORLD\"\n",
        "print(to_lowercase(s))  # Output: \"hello world\"\n"
      ],
      "metadata": {
        "id": "BpBZn410Umav"
      },
      "execution_count": null,
      "outputs": []
    },
    {
      "cell_type": "markdown",
      "source": [
        "9.Write a code to count the number of words in a string.\n"
      ],
      "metadata": {
        "id": "YuwtCkXmU3nR"
      }
    },
    {
      "cell_type": "code",
      "source": [
        "def count_words(s):\n",
        "    return len(s.split())\n",
        "\n",
        "# Example usage\n",
        "s = \"Hello world, this is a test.\"\n",
        "print(count_words(s))  # Output: 6\n"
      ],
      "metadata": {
        "id": "bwu6-Cj6U03Z"
      },
      "execution_count": null,
      "outputs": []
    },
    {
      "cell_type": "markdown",
      "source": [
        "10.\n",
        "Write a code to concatenate two strings without using the + operator"
      ],
      "metadata": {
        "id": "A2FmjbweVTXR"
      }
    },
    {
      "cell_type": "code",
      "source": [
        "def concatenate_strings(s1, s2):\n",
        "    return \"{}{}\".format(s1, s2)\n",
        "\n",
        "# Example usage\n",
        "s1 = \"Hello\"\n",
        "s2 = \"World\"\n",
        "print(concatenate_strings(s1, s2))  # Output: \"HelloWorld\"\n"
      ],
      "metadata": {
        "id": "rBynJZAFVIxV"
      },
      "execution_count": null,
      "outputs": []
    },
    {
      "cell_type": "markdown",
      "source": [
        "11. Write a code to remove all occurrences of a specific element from a list?\n"
      ],
      "metadata": {
        "id": "1QmbmpZpVnHC"
      }
    },
    {
      "cell_type": "code",
      "source": [
        "def remove_element(lst, element):\n",
        "    return [x for x in lst if x != element]\n",
        "\n",
        "# Example usage\n",
        "lst = [1, 2, 3, 4, 2, 2, 5]\n",
        "element = 2\n",
        "print(remove_element(lst, element))  # Output: [1, 3, 4, 5]\n"
      ],
      "metadata": {
        "id": "K7qxVszTVZZg"
      },
      "execution_count": null,
      "outputs": []
    },
    {
      "cell_type": "markdown",
      "source": [
        "12. Implement a code to find the second largest number in a given list of integers?"
      ],
      "metadata": {
        "id": "eirWC93vWOKj"
      }
    },
    {
      "cell_type": "code",
      "source": [
        "def find_second_largest(lst):\n",
        "    unique_sorted_list = sorted(set(lst), reverse=True)\n",
        "    return unique_sorted_list[1] if len(unique_sorted_list) > 1 else None\n",
        "\n",
        "# Example usage\n",
        "lst = [10, 20, 4, 45, 99, 99]\n",
        "print(find_second_largest(lst))  # Output: 45\n"
      ],
      "metadata": {
        "id": "uKaeHtobWCqQ"
      },
      "execution_count": null,
      "outputs": []
    },
    {
      "cell_type": "markdown",
      "source": [
        "13. Create a code to count the occurrences of each element in a list and return a dictionary with elements as\n",
        "keys and their counts as values"
      ],
      "metadata": {
        "id": "DmCjdlKlWYZP"
      }
    },
    {
      "cell_type": "code",
      "source": [
        "def count_occurrences(lst):\n",
        "    counts = {}\n",
        "    for item in lst:\n",
        "        counts[item] = counts.get(item, 0) + 1\n",
        "    return counts\n",
        "\n",
        "# Example usage\n",
        "lst = [1, 2, 2, 3, 3, 3, 4]\n",
        "print(count_occurrences(lst))  # Output: {1: 1, 2: 2, 3: 3, 4: 1}\n"
      ],
      "metadata": {
        "id": "-qQGflkHWWEh"
      },
      "execution_count": null,
      "outputs": []
    },
    {
      "cell_type": "markdown",
      "source": [
        "14.Write a code to reverse a list in-place without using any built-in reverse functions?"
      ],
      "metadata": {
        "id": "6c3J-2NwWoyG"
      }
    },
    {
      "cell_type": "code",
      "source": [
        "def reverse_list(lst):\n",
        "    left, right = 0, len(lst) - 1\n",
        "    while left < right:\n",
        "        lst[left], lst[right] = lst[right], lst[left]\n",
        "        left += 1\n",
        "        right -= 1\n",
        "    return lst\n",
        "\n",
        "# Example usage\n",
        "lst = [1, 2, 3, 4, 5]\n",
        "print(reverse_list(lst))  # Output: [5, 4, 3, 2, 1]\n"
      ],
      "metadata": {
        "id": "aip4HSv7WmMT"
      },
      "execution_count": null,
      "outputs": []
    },
    {
      "cell_type": "markdown",
      "source": [
        "15. Implement a code to find and remove duplicates from a list while preserving the original order of elements.\n"
      ],
      "metadata": {
        "id": "b3OeIIiNX270"
      }
    },
    {
      "cell_type": "code",
      "source": [
        "def remove_duplicates(lst):\n",
        "    seen = set()\n",
        "    result = []\n",
        "    for item in lst:\n",
        "        if item not in seen:\n",
        "            seen.add(item)\n",
        "            result.append(item)\n",
        "    return result\n",
        "\n",
        "# Example usage\n",
        "lst = [1, 2, 3, 1, 2, 4, 5]\n",
        "print(remove_duplicates(lst))  # Output: [1, 2, 3, 4, 5]\n"
      ],
      "metadata": {
        "id": "jfNu4PPFX0qm"
      },
      "execution_count": null,
      "outputs": []
    },
    {
      "cell_type": "markdown",
      "source": [
        "16.Create a code to check if a given list is sorted (either in ascending or descending order) or not."
      ],
      "metadata": {
        "id": "agGLT7GzaeTg"
      }
    },
    {
      "cell_type": "code",
      "source": [
        "def is_sorted(lst):\n",
        "    return lst == sorted(lst) or lst == sorted(lst, reverse=True)\n",
        "\n",
        "# Example usage\n",
        "lst = [1, 2, 3, 4, 5]\n",
        "print(is_sorted(lst))  # Output: True\n",
        "\n",
        "lst = [5, 4, 3, 2, 1]\n",
        "print(is_sorted(lst))  # Output: True\n",
        "\n",
        "lst = [1, 3, 2, 4, 5]\n",
        "print(is_sorted(lst))  # Output: False\n"
      ],
      "metadata": {
        "id": "W4ERf_99YXTj"
      },
      "execution_count": null,
      "outputs": []
    },
    {
      "cell_type": "markdown",
      "source": [
        "17.Write a code to merge two sorted lists into a single sorted list?"
      ],
      "metadata": {
        "id": "l57kCYPWbxqc"
      }
    },
    {
      "cell_type": "code",
      "source": [
        "def merge_sorted_lists(list1, list2):\n",
        "    merged_list = []\n",
        "    i, j = 0, 0\n",
        "\n",
        "    # Traverse both lists and merge them in sorted order\n",
        "    while i < len(list1) and j < len(list2):\n",
        "        if list1[i] < list2[j]:\n",
        "            merged_list.append(list1[i])\n",
        "            i += 1\n",
        "        else:\n",
        "            merged_list.append(list2[j])\n",
        "            j += 1\n",
        "\n",
        "    # Append any remaining elements from list1\n",
        "    while i < len(list1):\n",
        "        merged_list.append(list1[i])\n",
        "        i += 1\n",
        "\n",
        "    # Append any remaining elements from list2\n",
        "    while j < len(list2):\n",
        "        merged_list.append(list2[j])\n",
        "        j += 1\n",
        "\n",
        "    return merged_list\n",
        "\n",
        "# Example usage\n",
        "list1 = [1, 3, 5, 7]\n",
        "list2 = [2, 4, 6, 8]\n",
        "result = merge_sorted_lists(list1, list2)\n",
        "print(\"Merged List:\", result)\n"
      ],
      "metadata": {
        "id": "yjzHGpmbbv3j"
      },
      "execution_count": null,
      "outputs": []
    },
    {
      "cell_type": "markdown",
      "source": [
        "18.implement a code to find the intersection of two given lists?"
      ],
      "metadata": {
        "id": "9ziw2HUFeBiF"
      }
    },
    {
      "cell_type": "code",
      "source": [
        "def intersection(list1, list2):\n",
        "    return list(set(list1) & set(list2))\n",
        "\n",
        "list1 = [1, 2, 3, 4, 5]\n",
        "list2 = [4, 5, 6, 7, 8]\n",
        "print(intersection(list1, list2))  # Output: [4, 5]\n"
      ],
      "metadata": {
        "id": "RZ76rmpBeATE"
      },
      "execution_count": null,
      "outputs": []
    },
    {
      "cell_type": "markdown",
      "source": [
        "19.Create a code to find the union of two lists without duplicate"
      ],
      "metadata": {
        "id": "1UYf-6rAeWXM"
      }
    },
    {
      "cell_type": "code",
      "source": [
        "def union(list1, list2):\n",
        "    return list(set(list1) | set(list2))\n",
        "\n",
        "list1 = [1, 2, 3, 4, 5]\n",
        "list2 = [4, 5, 6, 7, 8]\n",
        "print(union(list1, list2))  # Output: [1, 2, 3, 4, 5, 6, 7, 8]\n"
      ],
      "metadata": {
        "id": "rlHj5SyZeUXd"
      },
      "execution_count": null,
      "outputs": []
    },
    {
      "cell_type": "markdown",
      "source": [
        "20. Write a code to shuffle a given list randomly without using any built-in shuffle function?"
      ],
      "metadata": {
        "id": "WILyzxc2etbK"
      }
    },
    {
      "cell_type": "code",
      "source": [
        "import random\n",
        "\n",
        "def shuffle_list(my_list):\n",
        "    shuffled = my_list[:]\n",
        "    for i in range(len(shuffled) - 1, 0, -1):\n",
        "        j = random.randint(0, i)\n",
        "        shuffled[i], shuffled[j] = shuffled[j, shuffled[i]]\n",
        "    return shuffled\n",
        "\n",
        "my_list = [1, 2, 3, 4, 5]\n",
        "print(shuffle_list(my_list))\n"
      ],
      "metadata": {
        "id": "3GHbJOOaejSS"
      },
      "execution_count": null,
      "outputs": []
    },
    {
      "cell_type": "markdown",
      "source": [
        "21.Write a code that takes two tuples as input and returns a new tuple containing elements that are\n",
        "common to both input tuples."
      ],
      "metadata": {
        "id": "k9ZSHJmNe6vD"
      }
    },
    {
      "cell_type": "code",
      "source": [
        "def common_elements(tuple1, tuple2):\n",
        "    return tuple(set(tuple1) & set(tuple2))\n",
        "\n",
        "tuple1 = (1, 2, 3, 4, 5)\n",
        "tuple2 = (4, 5, 6, 7, 8)\n",
        "print(common_elements(tuple1, tuple2))  # Output: (4, 5)\n"
      ],
      "metadata": {
        "id": "fhpo1I0Pe4v6"
      },
      "execution_count": null,
      "outputs": []
    },
    {
      "cell_type": "markdown",
      "source": [
        "22.Create a code that prompts the user to enter two sets of integers separated by commas. Then, print the\n",
        "intersection of these two sets\n"
      ],
      "metadata": {
        "id": "tERhI7csfNVI"
      }
    },
    {
      "cell_type": "code",
      "source": [
        "def get_set_from_input():\n",
        "    return set(map(int, input(\"Enter integers separated by commas: \").split(',')))\n",
        "\n",
        "set1 = get_set_from_input()\n",
        "set2 = get_set_from_input()\n",
        "\n",
        "print('Intersection:', set1 & set2)\n"
      ],
      "metadata": {
        "id": "KGzPzdzBfLT6"
      },
      "execution_count": null,
      "outputs": []
    },
    {
      "cell_type": "markdown",
      "source": [
        "23. Write a code to concatenate two tuples. The function should take two tuples as input and return a new\n",
        "tuple containing elements from both input tuples."
      ],
      "metadata": {
        "id": "Tag0feRrfs4O"
      }
    },
    {
      "cell_type": "code",
      "source": [
        "def concatenate_tuples(tuple1, tuple2):\n",
        "    return tuple1 + tuple2\n",
        "\n",
        "tuple1 = (1, 2, 3, 4, 5)\n",
        "tuple2 = (6, 7, 8, 9, 10)\n",
        "print(concatenate_tuples(tuple1, tuple2))  # Output: (1, 2, 3, 4, 5, 6, 7, 8, 9, 10)\n"
      ],
      "metadata": {
        "id": "kOgKbobofqgP"
      },
      "execution_count": null,
      "outputs": []
    },
    {
      "cell_type": "markdown",
      "source": [
        "24.develop a code that prompts the user to input two sets of strings. Then, print the elements that are\n",
        "present in the first set but not in the second set"
      ],
      "metadata": {
        "id": "8L6tgMcJhWYy"
      }
    },
    {
      "cell_type": "code",
      "source": [
        "def difference_of_sets():\n",
        "    set1 = set(input(\"Enter the first set of strings, separated by commas: \").split(\",\"))\n",
        "    set2 = set(input(\"Enter the second set of strings, separated by commas: \").split(\",\"))\n",
        "    print(\"Elements in the first set but not in the second:\", set1 - set2)\n",
        "\n",
        "difference_of_sets()\n"
      ],
      "metadata": {
        "id": "-ctNOpplfz1g"
      },
      "execution_count": null,
      "outputs": []
    },
    {
      "cell_type": "markdown",
      "source": [
        "25.Create a code that takes a tuple and two integers as input. The function should return a new tuple\n",
        "containing elements from the original tuple within the specified range of indices"
      ],
      "metadata": {
        "id": "S0wjCQNth_6J"
      }
    },
    {
      "cell_type": "code",
      "source": [
        "def subtuple_by_range(input_tuple, start_index, end_index):\n",
        "    return input_tuple[start_index:end_index+1]\n",
        "\n",
        "input_tuple = (1, 2, 3, 4, 5, 6, 7, 8)\n",
        "start_index = 2\n",
        "end_index = 5\n",
        "print(subtuple_by_range(input_tuple, start_index, end_index))  # Output: (3, 4, 5, 6)\n"
      ],
      "metadata": {
        "id": "fn8bLnKmh0N3"
      },
      "execution_count": null,
      "outputs": []
    },
    {
      "cell_type": "markdown",
      "source": [
        "26. Write a code that prompts the user to input two sets of characters. Then, print the union of these two sets"
      ],
      "metadata": {
        "id": "-FxXVKqRiYQA"
      }
    },
    {
      "cell_type": "code",
      "source": [
        "def union_of_char_sets():\n",
        "    set1 = set(input(\"Enter the first set of characters, separated by commas: \").split(\",\"))\n",
        "    set2 = set(input(\"Enter the second set of characters, separated by commas: \").split(\",\"))\n",
        "    print(\"Union of the two sets:\", set1 | set2)\n",
        "\n",
        "union_of_char_sets()\n"
      ],
      "metadata": {
        "id": "Ad4iTFAsiTC1"
      },
      "execution_count": null,
      "outputs": []
    },
    {
      "cell_type": "markdown",
      "source": [
        "27.Write Develop a code that takes a tuple of integers as input. The function should return the maximum and\n",
        "minimum values from the tuple using tuple unpacking."
      ],
      "metadata": {
        "id": "Dlizst1yimWd"
      }
    },
    {
      "cell_type": "code",
      "source": [
        "def max_min_from_tuple(input_tuple):\n",
        "    return max(input_tuple), min(input_tuple)\n",
        "\n",
        "input_tuple = (1, 2, 3, 4, 5, 6, 7, 8)\n",
        "max_value, min_value = max_min_from_tuple(input_tuple)\n",
        "print(\"Maximum value:\", max_value)  # Output: 8\n",
        "print(\"Minimum value:\", min_value)  # Output: 1\n"
      ],
      "metadata": {
        "id": "TRf_DhlEidvL"
      },
      "execution_count": null,
      "outputs": []
    },
    {
      "cell_type": "markdown",
      "source": [
        "28. Create a code that defines two sets of integers. Then, print the union, intersection, and difference of these\n",
        "two sets"
      ],
      "metadata": {
        "id": "g2CcooGzi7yP"
      }
    },
    {
      "cell_type": "code",
      "source": [
        "def set_operations():\n",
        "    set1 = {1, 2, 3, 4, 5}\n",
        "    set2 = {4, 5, 6, 7, 8}\n",
        "    print(\"Union:\", set1 | set2)         # Output: {1, 2, 3, 4, 5, 6, 7, 8}\n",
        "    print(\"Intersection:\", set1 & set2)  # Output: {4, 5}\n",
        "    print(\"Difference:\", set1 - set2)    # Output: {1, 2, 3}\n",
        "\n",
        "set_operations()\n"
      ],
      "metadata": {
        "id": "i4mXVXM3ivnY"
      },
      "execution_count": null,
      "outputs": []
    },
    {
      "cell_type": "markdown",
      "source": [
        "29.Write a code that takes a tuple and an element as input. The function should return the count of occuranace of the given elements in the tuple?\n"
      ],
      "metadata": {
        "id": "WNSm2GbxjItL"
      }
    },
    {
      "cell_type": "code",
      "source": [
        "def count_element_in_tuple(input_tuple, element):\n",
        "    return input_tuple.count(element)\n",
        "\n",
        "input_tuple = (1, 2, 3, 4, 5, 3, 2, 3)\n",
        "element = 3\n",
        "print(\"Count of element:\", count_element_in_tuple(input_tuple, element))  # Output: 3\n"
      ],
      "metadata": {
        "id": "WuY4PZqIjDiD"
      },
      "execution_count": null,
      "outputs": []
    },
    {
      "cell_type": "markdown",
      "source": [
        "30.Develop a code that prompts the user to input two sets of strings. Then, print the symmetric difference of\n",
        "these two sets"
      ],
      "metadata": {
        "id": "CREnXZJXjcE4"
      }
    },
    {
      "cell_type": "code",
      "source": [
        "def symmetric_difference_of_sets():\n",
        "    set1 = set(input(\"Enter the first set of strings, separated by commas: \").split(\",\"))\n",
        "    set2 = set(input(\"Enter the second set of strings, separated by commas: \").split(\",\"))\n",
        "    print(\"Symmetric difference:\", set1 ^ set2)\n",
        "\n",
        "symmetric_difference_of_sets()\n"
      ],
      "metadata": {
        "id": "RBYVFy8BjUp5"
      },
      "execution_count": null,
      "outputs": []
    },
    {
      "cell_type": "markdown",
      "source": [
        "31.Write a code that takes a list of words as input and returns a dictionary where the keys are unique words\n",
        "and the values are the frequencies of those words in the input list?"
      ],
      "metadata": {
        "id": "_G69BcArjoy0"
      }
    },
    {
      "cell_type": "code",
      "source": [
        "def word_frequency(word_list):\n",
        "    frequency = {}\n",
        "    for word in word_list:\n",
        "        if word in frequency:\n",
        "            frequency[word] += 1\n",
        "        else:\n",
        "            frequency[word] = 1\n",
        "    return frequency\n",
        "\n",
        "word_list = [\"apple\", \"banana\", \"apple\", \"orange\", \"banana\", \"apple\"]\n",
        "print(word_frequency(word_list))  # Output: {'apple': 3, 'banana': 2, 'orange': 1}\n"
      ],
      "metadata": {
        "id": "IWl4pPyYjjRu"
      },
      "execution_count": null,
      "outputs": []
    },
    {
      "cell_type": "markdown",
      "source": [
        "32.'& Write a code that takes two dictionaries as input and merges them into a single dictionary. If there are\n",
        "common keys, the values should be added together."
      ],
      "metadata": {
        "id": "rx4lkDhNj2f3"
      }
    },
    {
      "cell_type": "code",
      "source": [
        "def merge_dictionaries(dict1, dict2):\n",
        "    merged = {**dict1}\n",
        "    for key, value in dict2.items():\n",
        "        if key in merged:\n",
        "            merged[key] += value\n",
        "        else:\n",
        "            merged[key] = value\n",
        "    return merged\n",
        "\n",
        "dict1 = {'a': 1, 'b': 2}\n",
        "dict2 = {'b': 3, 'c': 4}\n",
        "print(merge_dictionaries(dict1, dict2))  # Output: {'a': 1, 'b': 5, 'c': 4}\n"
      ],
      "metadata": {
        "id": "3mFubmUSj1c1"
      },
      "execution_count": null,
      "outputs": []
    },
    {
      "cell_type": "markdown",
      "source": [
        "33.write a code to access a value in a nested dictionary. The function should take the dictionary and a list of\n",
        "keys as input, and return the corresponding value. If any of the keys do not exist in the dictionary, the\n",
        "function should return None"
      ],
      "metadata": {
        "id": "KwZwtsSCkInb"
      }
    },
    {
      "cell_type": "code",
      "source": [
        "code to access a value in a nested dictionary. The function should take the dictionary and a list of\n",
        "keys as input, and return the corresponding value. If any of the keys do not exist in the dictionary, the\n",
        "function should return None"
      ],
      "metadata": {
        "id": "CP9jMLIwkF6m"
      },
      "execution_count": null,
      "outputs": []
    },
    {
      "cell_type": "markdown",
      "source": [
        "34.Write a code that takes a dictionary as input and returns a sorted version of it based on the values. You\n",
        "can choose whether to sort in ascending or descending order."
      ],
      "metadata": {
        "id": "00xJmcDwkWIg"
      }
    },
    {
      "cell_type": "code",
      "source": [
        "def sort_dict_by_values(input_dict, ascending=True):\n",
        "    return dict(sorted(input_dict.items(), key=lambda item: item[1], reverse=not ascending))\n",
        "\n",
        "input_dict = {'a': 3, 'b': 1, 'c': 2}\n",
        "print(sort_dict_by_values(input_dict, ascending=True))  # Output: {'b': 1, 'c': 2, 'a': 3}\n"
      ],
      "metadata": {
        "id": "14I42fGekVY0"
      },
      "execution_count": null,
      "outputs": []
    },
    {
      "cell_type": "markdown",
      "source": [
        "35.Write a code that inverts a dictionary, swapping keys and values. Ensure that the inverted dictionary\n",
        "correctly handles cases where multiple keys have the same value by storing the keys as a list in the\n",
        "inverted dictionary."
      ],
      "metadata": {
        "id": "4ErGdg1OkhpM"
      }
    },
    {
      "cell_type": "code",
      "source": [
        "def invert_dictionary(input_dict):\n",
        "    inverted = {}\n",
        "    for key, value in input_dict.items():\n",
        "        if value in inverted:\n",
        "            inverted[value].append(key)\n",
        "        else:\n",
        "            inverted[value] = [key]\n",
        "    return inverted\n",
        "\n",
        "input_dict = {'a': 1, 'b': 2, 'c': 1}\n",
        "print(invert_dictionary(input_dict))  # Output: {1: ['a', 'c'], 2: ['b']}\n"
      ],
      "metadata": {
        "id": "2ayvsNZVkgeK"
      },
      "execution_count": null,
      "outputs": []
    },
    {
      "cell_type": "code",
      "source": [],
      "metadata": {
        "id": "qQQ8ybsxkzcI"
      },
      "execution_count": null,
      "outputs": []
    }
  ]
}