{
  "nbformat": 4,
  "nbformat_minor": 0,
  "metadata": {
    "colab": {
      "private_outputs": true,
      "provenance": []
    },
    "kernelspec": {
      "name": "python3",
      "display_name": "Python 3"
    },
    "language_info": {
      "name": "python"
    }
  },
  "cells": [
    {
      "cell_type": "markdown",
      "source": [
        "##ASSIGNMENT STATISTICS\n"
      ],
      "metadata": {
        "id": "Obp53wtMn2XU"
      }
    },
    {
      "cell_type": "markdown",
      "source": [
        "1. Explain the different types of data (qualitative and quantitative) and provide examples of each. Discuss\n",
        "nominal, ordinal, interval, and ratio scales."
      ],
      "metadata": {
        "id": "bUwbmjdBoBw9"
      }
    },
    {
      "cell_type": "markdown",
      "source": [
        "Ans- Types of Data\n",
        "Qualitative Data (Categorical):\n",
        "\n",
        "Nominal Scale: Categories without a specific order. Example: Types of fruits (apple, banana, cherry).\n",
        "\n",
        "Ordinal Scale: Categories with a specific order. Example: Customer satisfaction levels (low, medium, high).\n",
        "\n",
        "Quantitative Data (Numerical):\n",
        "\n",
        "Interval Scale: Numeric values with equal intervals, but no true zero point. Example: Temperature in Celsius or Fahrenheit.\n",
        "\n",
        "Ratio Scale: Numeric values with equal intervals and a true zero point. Example: Weight, height, income."
      ],
      "metadata": {
        "id": "PpElKWi4oQZ7"
      }
    },
    {
      "cell_type": "markdown",
      "source": [
        "2. What are the measures of central tendency, and when should you use each? Discuss the mean, median,\n",
        "and mode with examples and situations where each is appropriate."
      ],
      "metadata": {
        "id": "8EbruULdoam0"
      }
    },
    {
      "cell_type": "markdown",
      "source": [
        "ans 2 - Measures of Central Tendency\n",
        "Mean: The arithmetic average. Use when data is symmetrically distributed without outliers. Example: Average test score.\n",
        "\n",
        "Median: The middle value. Use when data is skewed or has outliers. Example: Median house price.\n",
        "\n",
        "Mode: The most frequently occurring value. Use with categorical data. Example: Most common favorite color in a survey"
      ],
      "metadata": {
        "id": "lcIK9iA-oueS"
      }
    },
    {
      "cell_type": "markdown",
      "source": [
        "3. Explain the concept of concept of dispersion. How do variance and standard deviation measure the spread of data?"
      ],
      "metadata": {
        "id": "SABYLVu0pA1y"
      }
    },
    {
      "cell_type": "markdown",
      "source": [
        "ANS 3 -Concept of Dispersion\n",
        "Variance: Measures how far data points are from the mean. High variance means data points are spread out.\n",
        "\n",
        "Standard Deviation: The square root of variance. It indicates the average distance from the mean. Both help understand the spread of data."
      ],
      "metadata": {
        "id": "DT23kx2xpOS0"
      }
    },
    {
      "cell_type": "markdown",
      "source": [
        "4. What is a box plot, and what can it tell you about the distribution of data?"
      ],
      "metadata": {
        "id": "chomdkxhpXoR"
      }
    },
    {
      "cell_type": "markdown",
      "source": [
        "ANs 4 - A box plot displays the distribution of data based on a five-number summary: minimum, first quartile (Q1), median, third quartile (Q3), and maximum. It shows the spread and skewness, and identifies potential outliers."
      ],
      "metadata": {
        "id": "OJd8221gpr8_"
      }
    },
    {
      "cell_type": "markdown",
      "source": [
        "5. Discuss the role of random sampling in making inferences about populations."
      ],
      "metadata": {
        "id": "4H1zpfaqqErS"
      }
    },
    {
      "cell_type": "markdown",
      "source": [
        "Random sampling ensures that every individual in the population has an equal chance of being selected. It helps in making inferences about the population from the sample, reducing bias and increasing generalizability."
      ],
      "metadata": {
        "id": "BxOubGqbqMjn"
      }
    },
    {
      "cell_type": "markdown",
      "source": [
        "6. 6. Explain the concept of skewness and its types. How does skewness affect the interpretation of data?"
      ],
      "metadata": {
        "id": "wG38NZOLqY5J"
      }
    },
    {
      "cell_type": "markdown",
      "source": [
        "ans 6 Skewness measures the asymmetry of the data distribution:\n",
        "\n",
        "Positive Skewness: Tail on the right side is longer. Example: Income distribution.\n",
        "\n",
        "Negative Skewness: Tail on the left side is longer. Example: Age at retirement. Skewness affects the interpretation of central tendency and variability"
      ],
      "metadata": {
        "id": "PMKvyuebqblH"
      }
    },
    {
      "cell_type": "markdown",
      "source": [
        "7.What is the interquartile range (IQR), and how is it used to detect outliers?"
      ],
      "metadata": {
        "id": "lLLJKwCrqla7"
      }
    },
    {
      "cell_type": "markdown",
      "source": [
        "ANS 7- Interquartile Range (IQR)\n",
        "IQR is the range between the first quartile (Q1) and third quartile (Q3). It measures the middle 50% of the data and helps detect outliers:\n",
        "\n",
        "Outliers are typically below Q1 - 1.5IQR or above Q3 + 1.5IQR.\n"
      ],
      "metadata": {
        "id": "v2Mzhd6hq4x-"
      }
    },
    {
      "cell_type": "markdown",
      "source": [
        "8, 8. Discuss the conditions under which the binomial distribution is used."
      ],
      "metadata": {
        "id": "Y2jAznkrq-ZT"
      }
    },
    {
      "cell_type": "markdown",
      "source": [
        "ANS 8 Binomial Distribution\n",
        "Conditions:\n",
        "\n",
        "Fixed number of trials.\n",
        "\n",
        "Each trial has two possible outcomes (success or failure).\n",
        "\n",
        "Trials are independent.\n",
        "\n",
        "Probability of success is constant."
      ],
      "metadata": {
        "id": "OjWTBptyrMNU"
      }
    },
    {
      "cell_type": "markdown",
      "source": [
        "9. Explain the properties of the normal distribution and the empirical rule (68-95-99.7 rule)."
      ],
      "metadata": {
        "id": "PEZeN37DrWnR"
      }
    },
    {
      "cell_type": "markdown",
      "source": [
        "ANS9 Normal Distribution and Empirical Rule\n",
        "Properties:\n",
        "\n",
        "Symmetrical, bell-shaped curve.\n",
        "\n",
        "Mean, median, and mode are equal.\n",
        "\n",
        "Defined by mean and standard deviation.\n",
        "\n",
        "Empirical Rule:\n",
        "\n",
        "68% of data within 1 standard deviation from the mean.\n",
        "\n",
        "95% within 2 standard deviations.\n",
        "\n",
        "99.7% within 3 standard deviations.\n",
        "\n"
      ],
      "metadata": {
        "id": "9t6CihbgrYxh"
      }
    },
    {
      "cell_type": "markdown",
      "source": [
        "10.Provide a real-life example of a Poisson process and calculate the probability for a specific event."
      ],
      "metadata": {
        "id": "_ZylzQ1Ur0fj"
      }
    },
    {
      "cell_type": "markdown",
      "source": [
        "ANS10 -Poisson Process Example\n",
        "Real-life example: Number of customer arrivals at a bank per hour.\n",
        "\n",
        "To calculate the probability of a specific even"
      ],
      "metadata": {
        "id": "8x4X6P4UsEvd"
      }
    },
    {
      "cell_type": "code",
      "source": [
        "import scipy.stats as stats\n",
        "\n",
        "# Mean number of arrivals (λ)\n",
        "mean_arrivals = 5\n",
        "\n",
        "# Probability of exactly 3 arrivals\n",
        "prob = stats.poisson.pmf(3, mean_arrivals)\n",
        "print(f\"Probability of exactly 3 arrivals: {prob:.4f}\")\n"
      ],
      "metadata": {
        "id": "oLuEa4JzsWBV"
      },
      "execution_count": null,
      "outputs": []
    },
    {
      "cell_type": "markdown",
      "source": [
        "11. Explain what a random variable is and differentiate between discrete and continuous random variables.\n"
      ],
      "metadata": {
        "id": "Qdi3IT-wse-5"
      }
    },
    {
      "cell_type": "markdown",
      "source": [
        "ANS11- Random Variables\n",
        "Discrete Random Variables: Take on specific values. Example: Number of students in a class.\n",
        "\n",
        "Continuous Random Variables: Take on any value within a range. Example: Height of students."
      ],
      "metadata": {
        "id": "eOtXyrj6siOs"
      }
    },
    {
      "cell_type": "markdown",
      "source": [
        "12. Provide an example dataset, calculate both covariance and correlation, and interpret the results."
      ],
      "metadata": {
        "id": "PDUHS_o4s3FZ"
      }
    },
    {
      "cell_type": "code",
      "source": [
        "import numpy as np\n",
        "\n",
        "data = np.array([[1, 2], [3, 4], [5, 6], [7, 8]])\n",
        "x = data[:, 0]\n",
        "y = data[:, 1]\n",
        "\n",
        "# Calculate covariance\n",
        "covariance = np.cov(x, y)[0, 1]\n",
        "print(f\"Covariance: {covariance}\")\n",
        "\n",
        "# Calculate correlation\n",
        "correlation = np.corrcoef(x, y)[0, 1]\n",
        "print(f\"Correlation: {correlation}\")\n"
      ],
      "metadata": {
        "id": "OB5hVCRhs-Iw"
      },
      "execution_count": null,
      "outputs": []
    },
    {
      "cell_type": "code",
      "execution_count": null,
      "metadata": {
        "id": "j-hHxY3CnmjB"
      },
      "outputs": [],
      "source": []
    }
  ]
}