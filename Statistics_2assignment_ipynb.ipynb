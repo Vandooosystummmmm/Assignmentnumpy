{
  "nbformat": 4,
  "nbformat_minor": 0,
  "metadata": {
    "colab": {
      "private_outputs": true,
      "provenance": []
    },
    "kernelspec": {
      "name": "python3",
      "display_name": "Python 3"
    },
    "language_info": {
      "name": "python"
    }
  },
  "cells": [
    {
      "cell_type": "markdown",
      "source": [
        "##Statistics Assignment 2 advance\n"
      ],
      "metadata": {
        "id": "rHnqDNaOo9LW"
      }
    },
    {
      "cell_type": "markdown",
      "source": [
        "1. generate a list of 100 integers containing values between 90 to 130 and store it in the variable `int_list`. After generating the list, find the following:\n",
        " (i) Write a Python function to calculate the mean of a given list of numbers. Create a function to find the median of a list of numbers.\n",
        "  (ii) Develop a program to compute the mode of a list of integers.\n",
        "   (iii) Implement a function to calculate the weighted mean of a list of values and their corresponding weights.\n",
        "iv) Write a Python function to find the geometric mean of a list of positive numbers.\n",
        " (v) Create a program to calculate the harmonic mean of a list of values.\n",
        "(vi) Build a function to determine the midrange of a list of numbers (average of the minimum and maximum).\n",
        " (vii) Implement a Python program to find the trimmed mean of a list, excluding a certain percentage of outliers."
      ],
      "metadata": {
        "id": "lJmXykxHpb6I"
      }
    },
    {
      "cell_type": "markdown",
      "source": [
        "ans1 -Part 1: List of 100 integers between 90 and 130"
      ],
      "metadata": {
        "id": "UuTj9aIrqMC1"
      }
    },
    {
      "cell_type": "code",
      "source": [
        "import random\n",
        "\n",
        "int_list = [random.randint(90, 130) for _ in range(100)]\n",
        "print(\"Generated list:\", int_list)\n"
      ],
      "metadata": {
        "id": "yDoDoQT7qVee"
      },
      "execution_count": null,
      "outputs": []
    },
    {
      "cell_type": "markdown",
      "source": [
        "(i). Mean and Median Function to calculate mean:"
      ],
      "metadata": {
        "id": "cUSaQsAhqear"
      }
    },
    {
      "cell_type": "code",
      "source": [
        "def calculate_mean(numbers):\n",
        "    return sum(numbers) / len(numbers)\n",
        "\n",
        "print(\"Mean:\", calculate_mean(int_list))\n"
      ],
      "metadata": {
        "id": "27L3t_e_qwvb"
      },
      "execution_count": null,
      "outputs": []
    },
    {
      "cell_type": "markdown",
      "source": [
        "fuction to calculate median :"
      ],
      "metadata": {
        "id": "nvbhLL_jq3wz"
      }
    },
    {
      "cell_type": "code",
      "source": [
        "def calculate_median(numbers):\n",
        "    sorted_numbers = sorted(numbers)\n",
        "    n = len(sorted_numbers)\n",
        "    middle = n // 2\n",
        "    if n % 2 == 0:\n",
        "        return (sorted_numbers[middle - 1] + sorted_numbers[middle]) / 2\n",
        "    else:\n",
        "        return sorted_numbers[middle]\n",
        "\n",
        "print(\"Median:\", calculate_median(int_list))\n"
      ],
      "metadata": {
        "id": "LIcXr66dq9_s"
      },
      "execution_count": null,
      "outputs": []
    },
    {
      "cell_type": "markdown",
      "source": [
        "MODE\n",
        "Fuction to calculate weighted mean"
      ],
      "metadata": {
        "id": "PmjwJbDwrHzV"
      }
    },
    {
      "cell_type": "code",
      "execution_count": null,
      "metadata": {
        "id": "k-k5PHPEo3Qe"
      },
      "outputs": [],
      "source": [
        "from collections import Counter\n",
        "\n",
        "def calculate_mode(numbers):\n",
        "    counter = Counter(numbers)\n",
        "    mode = counter.most_common(1)\n",
        "    return mode[0][0]\n",
        "\n",
        "print(\"Mode:\", calculate_mode(int_list))\n"
      ]
    },
    {
      "cell_type": "markdown",
      "source": [
        "(iii) Weighted Mean ,Fuction to calculate weighted mean :"
      ],
      "metadata": {
        "id": "SJ8Ifm1CrWS0"
      }
    },
    {
      "cell_type": "code",
      "source": [
        "def calculate_weighted_mean(values, weights):\n",
        "    weighted_sum = sum(v * w for v, w in zip(values, weights))\n",
        "    total_weight = sum(weights)\n",
        "    return weighted_sum / total_weight\n",
        "\n",
        "values = int_list[:10]  # example values\n",
        "weights = [1, 2, 3, 4, 5, 6, 7, 8, 9, 10]  # example weights\n",
        "print(\"Weighted Mean:\", calculate_weighted_mean(values, weights))\n"
      ],
      "metadata": {
        "id": "4GqnkP7LriMT"
      },
      "execution_count": null,
      "outputs": []
    },
    {
      "cell_type": "markdown",
      "source": [
        "(iv) Geometric Mean\n",
        "fuction to calculate geometric mean:"
      ],
      "metadata": {
        "id": "aHYcyCYGroPu"
      }
    },
    {
      "cell_type": "code",
      "source": [
        "import math\n",
        "\n",
        "def calculate_geometric_mean(numbers):\n",
        "    product = math.prod(numbers)\n",
        "    return product ** (1 / len(numbers))\n",
        "\n",
        "positive_numbers = [num for num in int_list if num > 0]\n",
        "print(\"Geometric Mean:\", calculate_geometric_mean(positive_numbers))\n"
      ],
      "metadata": {
        "id": "oh_waY-4r18E"
      },
      "execution_count": null,
      "outputs": []
    },
    {
      "cell_type": "markdown",
      "source": [
        "(v) Harmonic mean\n",
        "Fuction to calculate harmonic mean :"
      ],
      "metadata": {
        "id": "jS3M8wGmr-4P"
      }
    },
    {
      "cell_type": "code",
      "source": [
        "def calculate_harmonic_mean(numbers):\n",
        "    return len(numbers) / sum(1 / x for x in numbers)\n",
        "\n",
        "print(\"Harmonic Mean:\", calculate_harmonic_mean(int_list))\n"
      ],
      "metadata": {
        "id": "GcCU3hjTsMMr"
      },
      "execution_count": null,
      "outputs": []
    },
    {
      "cell_type": "markdown",
      "source": [
        "(vi) Midrange\n",
        "Function to calculate midrange :"
      ],
      "metadata": {
        "id": "fYDBmg_bsUmC"
      }
    },
    {
      "cell_type": "code",
      "source": [
        "def calculate_midrange(numbers):\n",
        "    return (min(numbers) + max(numbers)) / 2\n",
        "\n",
        "print(\"Midrange:\", calculate_midrange(int_list))\n"
      ],
      "metadata": {
        "id": "UyGcf0ceshpM"
      },
      "execution_count": null,
      "outputs": []
    },
    {
      "cell_type": "markdown",
      "source": [
        "(Vii) Trimmed Mean\n",
        "Function to calculate trimmed mean :"
      ],
      "metadata": {
        "id": "GybC6NECskCc"
      }
    },
    {
      "cell_type": "code",
      "source": [
        "from scipy.stats import trim_mean\n",
        "\n",
        "def calculate_trimmed_mean(numbers, proportion_to_cut):\n",
        "    return trim_mean(numbers, proportion_to_cut)\n",
        "\n",
        "print(\"Trimmed Mean:\", calculate_trimmed_mean(int_list, 0.1))\n"
      ],
      "metadata": {
        "id": "8JN7zzz_sv9M"
      },
      "execution_count": null,
      "outputs": []
    },
    {
      "cell_type": "markdown",
      "source": [
        "##2 Generate a list of 500 integers containing values between 200 to 300 and store it in the variable `int_list2`. After generating the list, find the following:\n",
        "(i) Compare the given list of visualization for the given data:\n",
        "1. Frequency & Gaussian distribution\n",
        "2. Frequency smoothened KDE plot\n",
        "3. Gaussian distribution & smoothened KDE plot.\n",
        "Write a Python function to calculate the range of a given list of numbers.\n",
        "(iii) Create a program to find the variance and standard deviation of a list of numbers.\n",
        " (iv) Implement a function to compute the interquartile range (IQR) of a list of values.\n",
        " (v) Build a program to calculate the coefficient of variation for a dataset. (vi) Write a Python function to find the mean absolute deviation (MAD) of a list of numbers.\n",
        " (vii) Create a program to calculate the quartile deviation of a list of values.Implement a function to find the range-based coefficient of dispersion for a dataset."
      ],
      "metadata": {
        "id": "N9O2RoDxs8ft"
      }
    },
    {
      "cell_type": "markdown",
      "source": [
        "Ans 2- List of 500 integers between 200 and 300"
      ],
      "metadata": {
        "id": "ZcASzRByt4AN"
      }
    },
    {
      "cell_type": "code",
      "source": [
        "int_list2 = [random.randint(200, 300) for _ in range(500)]\n",
        "print(\"Generated list:\", int_list2)\n"
      ],
      "metadata": {
        "id": "367-xYaguCbf"
      },
      "execution_count": null,
      "outputs": []
    },
    {
      "cell_type": "markdown",
      "source": [
        "(i) Compare Visualization\n",
        "Let's create the visualizations:\n",
        "\n",
        "Frequency & Gaussian distribution\n"
      ],
      "metadata": {
        "id": "NiaDnoAwuHFq"
      }
    },
    {
      "cell_type": "code",
      "source": [
        "import matplotlib.pyplot as plt\n",
        "import numpy as np\n",
        "import seaborn as sns\n",
        "\n",
        "# Frequency distribution\n",
        "plt.hist(int_list2, bins=30, density=True, alpha=0.6, color='g')\n",
        "\n",
        "# Gaussian distribution\n",
        "mean, std = np.mean(int_list2), np.std(int_list2)\n",
        "x = np.linspace(min(int_list2), max(int_list2), 100)\n",
        "p = 1/(std * np.sqrt(2 * np.pi)) * np.exp(-0.5 * ((x - mean) / std) ** 2)\n",
        "plt.plot(x, p, 'k', linewidth=2)\n",
        "\n",
        "plt.title('Frequency & Gaussian Distribution')\n",
        "plt.show()\n"
      ],
      "metadata": {
        "id": "PjOAwBkRuL4v"
      },
      "execution_count": null,
      "outputs": []
    },
    {
      "cell_type": "markdown",
      "source": [
        "Frequency smoothened KDE plot:\n",
        "\n",
        "python"
      ],
      "metadata": {
        "id": "XNEOZ6zquTEm"
      }
    },
    {
      "cell_type": "code",
      "source": [
        "sns.histplot(int_list2, kde=True)\n",
        "plt.title('Frequency smoothened KDE Plot')\n",
        "plt.show()\n"
      ],
      "metadata": {
        "id": "WZqTd_nmuanK"
      },
      "execution_count": null,
      "outputs": []
    },
    {
      "cell_type": "markdown",
      "source": [
        "Gaussian distribution & smoothened KDE plot:"
      ],
      "metadata": {
        "id": "6BVUHUFXumhy"
      }
    },
    {
      "cell_type": "code",
      "source": [
        "sns.kdeplot(int_list2, label='KDE')\n",
        "plt.plot(x, p, 'k', linewidth=2, label='Gaussian')\n",
        "plt.title('Gaussian Distribution & Smoothened KDE Plot')\n",
        "plt.legend()\n",
        "plt.show()\n",
        "\n"
      ],
      "metadata": {
        "id": "QP21ngZeuqut"
      },
      "execution_count": null,
      "outputs": []
    },
    {
      "cell_type": "markdown",
      "source": [
        "ii) Calculate Range\n",
        "Function to calculate range:\n",
        "\n",
        "python"
      ],
      "metadata": {
        "id": "h3cWQm4CwEjE"
      }
    },
    {
      "cell_type": "code",
      "source": [
        "def calculate_range(numbers):\n",
        "    return max(numbers) - min(numbers)\n",
        "\n",
        "print(\"Range:\", calculate_range(int_list2))\n"
      ],
      "metadata": {
        "id": "rpAgkGzcwJT2"
      },
      "execution_count": null,
      "outputs": []
    },
    {
      "cell_type": "markdown",
      "source": [
        "iii) Variance and Standard Deviation\n",
        "Function to calculate variance and standard deviation:\n",
        "\n",
        "python"
      ],
      "metadata": {
        "id": "rE4f_YvYwOYp"
      }
    },
    {
      "cell_type": "code",
      "source": [
        "def calculate_variance(numbers):\n",
        "    mean = sum(numbers) / len(numbers)\n",
        "    return sum((x - mean) ** 2 for x in numbers) / len(numbers)\n",
        "\n",
        "def calculate_standard_deviation(numbers):\n",
        "    return math.sqrt(calculate_variance(numbers))\n",
        "\n",
        "print(\"Variance:\", calculate_variance(int_list2))\n",
        "print(\"Standard Deviation:\", calculate_standard_deviation(int_list2))\n"
      ],
      "metadata": {
        "id": "o-tcmHVLwR-S"
      },
      "execution_count": null,
      "outputs": []
    },
    {
      "cell_type": "markdown",
      "source": [
        "iv) Interquartile Range (IQR)\n",
        "Function to calculate IQR:"
      ],
      "metadata": {
        "id": "MPQEmGRTxTKl"
      }
    },
    {
      "cell_type": "code",
      "source": [
        "def calculate_iqr(numbers):\n",
        "    q75, q25 = np.percentile(numbers, [75, 25])\n",
        "    return q75 - q25\n",
        "\n",
        "print(\"Interquartile Range (IQR):\", calculate_iqr(int_list2))\n"
      ],
      "metadata": {
        "id": "muktiRcYxVl6"
      },
      "execution_count": null,
      "outputs": []
    },
    {
      "cell_type": "markdown",
      "source": [
        "v) Coefficient of Variation\n",
        "Function to calculate coefficient of variation:"
      ],
      "metadata": {
        "id": "4j5sxvcyxcOS"
      }
    },
    {
      "cell_type": "code",
      "source": [
        "def calculate_coefficient_of_variation(numbers):\n",
        "    mean = calculate_mean(numbers)\n",
        "    std_dev = calculate_standard_deviation(numbers)\n",
        "    return (std_dev / mean) * 100\n",
        "\n",
        "print(\"Coefficient of Variation:\", calculate_coefficient_of_variation(int_list2))\n"
      ],
      "metadata": {
        "id": "jGGu5MfVxiN2"
      },
      "execution_count": null,
      "outputs": []
    },
    {
      "cell_type": "markdown",
      "source": [
        "vi) Mean Absolute Deviation (MAD)\n",
        "Function to calculate MAD:"
      ],
      "metadata": {
        "id": "4HQjV13gxnsc"
      }
    },
    {
      "cell_type": "code",
      "source": [
        "def calculate_mad(numbers):\n",
        "    mean = calculate_mean(numbers)\n",
        "    return sum(abs(x - mean) for x in numbers) / len(numbers)\n",
        "\n",
        "print(\"Mean Absolute Deviation (MAD):\", calculate_mad(int_list2))\n"
      ],
      "metadata": {
        "id": "3NummpJpxqHQ"
      },
      "execution_count": null,
      "outputs": []
    },
    {
      "cell_type": "markdown",
      "source": [
        "vii) Quartile Deviation\n",
        "Function to calculate quartile deviation:"
      ],
      "metadata": {
        "id": "8PioAkDgxuTN"
      }
    },
    {
      "cell_type": "code",
      "source": [
        "def calculate_quartile_deviation(numbers):\n",
        "    q75, q25 = np.percentile(numbers, [75, 25])\n",
        "    return (q75 - q25) / 2\n",
        "\n",
        "print(\"Quartile Deviation:\", calculate_quartile_deviation(int_list2))\n"
      ],
      "metadata": {
        "id": "FkrSWlr-xzEh"
      },
      "execution_count": null,
      "outputs": []
    },
    {
      "cell_type": "markdown",
      "source": [
        "viii) Range-based Coefficient of Dispersion\n",
        "Function to calculate range-based coefficient of dispersion:\n"
      ],
      "metadata": {
        "id": "wKlcnzQKx3R4"
      }
    },
    {
      "cell_type": "code",
      "source": [
        "def calculate_range_based_coefficient_of_dispersion(numbers):\n",
        "    range_ = calculate_range(numbers)\n",
        "    mean = calculate_mean(numbers)\n",
        "    return (range_ / mean) * 100\n",
        "\n",
        "print(\"Range-based Coefficient of Dispersion:\", calculate_range_based_coefficient_of_dispersion(int_list2))\n"
      ],
      "metadata": {
        "id": "q5R55cpQx7l-"
      },
      "execution_count": null,
      "outputs": []
    },
    {
      "cell_type": "markdown",
      "source": [
        "##3 Write a Python class representing a discrete random variable with metheds to caleulate its expected value and variance,"
      ],
      "metadata": {
        "id": "yCwCHFa_x_eZ"
      }
    },
    {
      "cell_type": "code",
      "source": [
        "class DiscreteRandomVariable:\n",
        "    def __init__(self, values, probabilities):\n",
        "        self.values = values\n",
        "        self.probabilities = probabilities\n",
        "\n",
        "    def expected_value(self):\n",
        "        return sum(v * p for v, p in zip(self.values, self.probabilities))\n",
        "\n",
        "    def variance(self):\n",
        "        mean = self.expected_value()\n",
        "        return sum(p * (v - mean) ** 2 for v, p in zip(self.values, self.probabilities))\n",
        "\n",
        "# Example usage\n",
        "values = [1, 2, 3, 4, 5, 6]\n",
        "probabilities = [1/6] * 6\n",
        "drv = DiscreteRandomVariable(values, probabilities)\n",
        "print(\"Expected Value:\", drv.expected_value())\n",
        "print(\"Variance:\", drv.variance())\n"
      ],
      "metadata": {
        "id": "rcelVSneygJa"
      },
      "execution_count": null,
      "outputs": []
    },
    {
      "cell_type": "markdown",
      "source": [
        "##4 4. Implement a program to simulate the rolling of a fair six-sided die and calculate the expeeted value and variance of the outcomes"
      ],
      "metadata": {
        "id": "bD__WW2IymdA"
      }
    },
    {
      "cell_type": "code",
      "source": [
        "import random\n",
        "\n",
        "def roll_die():\n",
        "    return random.randint(1, 6)\n",
        "\n",
        "# Simulate rolling the die 1000 times\n",
        "outcomes = [roll_die() for _ in range(1000)]\n",
        "\n",
        "def calculate_expected_value(outcomes):\n",
        "    return sum(outcomes) / len(outcomes)\n",
        "\n",
        "def calculate_variance(outcomes):\n",
        "    mean = calculate_expected_value(outcomes)\n",
        "    return sum((x - mean) ** 2 for x in outcomes) / len(outcomes)\n",
        "\n",
        "print(\"Expected Value:\", calculate_expected_value(outcomes))\n",
        "print(\"Variance:\", calculate_variance(outcomes))\n"
      ],
      "metadata": {
        "id": "QA1tkJgSyq7g"
      },
      "execution_count": null,
      "outputs": []
    },
    {
      "cell_type": "markdown",
      "source": [
        "##5 5. Create a Python function to generate random samples from a given probability distribution (e.g., binomial, Poisson) and ealeulate their mean and variance."
      ],
      "metadata": {
        "id": "NeXlP3JHyxtR"
      }
    },
    {
      "cell_type": "code",
      "source": [
        "import numpy as np\n",
        "\n",
        "def generate_binomial_samples(n, p, size):\n",
        "    samples = np.random.binomial(n, p, size)\n",
        "    return samples\n",
        "\n",
        "samples = generate_binomial_samples(10, 0.5, 1000)\n",
        "print(\"Mean:\", np.mean(samples))\n",
        "print(\"Variance:\", np.var(samples))\n"
      ],
      "metadata": {
        "id": "4u8tfEKHyz2t"
      },
      "execution_count": null,
      "outputs": []
    },
    {
      "cell_type": "code",
      "source": [
        "def generate_poisson_samples(lam, size):\n",
        "    samples = np.random.poisson(lam, size)\n",
        "    return samples\n",
        "\n",
        "samples = generate_poisson_samples(3, 1000)\n",
        "print(\"Mean:\", np.mean(samples))\n",
        "print(\"Variance:\", np.var(samples))\n"
      ],
      "metadata": {
        "id": "SK6wVEKHy_Pq"
      },
      "execution_count": null,
      "outputs": []
    },
    {
      "cell_type": "markdown",
      "source": [
        "##6 6. Write a Python seript to generate random numbers from a Gaussian (normal) distribution and compute the mean, variance, and standard deviation of the samples."
      ],
      "metadata": {
        "id": "4p-mtrutzJ_0"
      }
    },
    {
      "cell_type": "code",
      "source": [
        "import numpy as np\n",
        "\n",
        "def generate_normal_samples(mean, std_dev, size):\n",
        "    samples = np.random.normal(mean, std_dev, size)\n",
        "    return samples\n",
        "\n",
        "samples = generate_normal_samples(0, 1, 1000)\n",
        "print(\"Mean:\", np.mean(samples))\n",
        "print(\"Variance:\", np.var(samples))\n",
        "print(\"Standard Deviation:\", np.std(samples))\n"
      ],
      "metadata": {
        "id": "udu9zQWCzQ8U"
      },
      "execution_count": null,
      "outputs": []
    },
    {
      "cell_type": "markdown",
      "source": [
        "##7\n",
        "Use seaborn library to load 'tips' dataset. Find the following from the dataset for the columns 'total_bill' and'tip': () Write a Python function that caloulates their skewnass. (ii) Create a program that datermines whether the columns axhibit pasitiva skewnass, negative skawness, or is appraximately symmatria. (IIi) Write a function that calculatas the covariance between two columns. (iv) Implament a Python program that calculates the Pearsan correlatian coetticient between two columns. (v) rite a script to visualize the correlation between two spacific columns in a Pandas DataFrame using scatter plots."
      ],
      "metadata": {
        "id": "p86TM4hmzY6n"
      }
    },
    {
      "cell_type": "code",
      "source": [
        "import seaborn as sns\n",
        "import pandas as pd\n",
        "\n",
        "# Load the tips dataset\n",
        "tips = sns.load_dataset('tips')\n",
        "\n",
        "# (i) Calculate Skewness\n",
        "def calculate_skewness(column):\n",
        "    return column.skew()\n",
        "\n",
        "print(\"Skewness of total_bill:\", calculate_skewness(tips['total_bill']))\n",
        "print(\"Skewness of tip:\", calculate_skewness(tips['tip']))\n",
        "\n",
        "# (ii) Determine Skewness Type\n",
        "def determine_skewness_type(column):\n",
        "    skewness = column.skew()\n",
        "    if skewness > 0:\n",
        "        return \"Positive Skewness\"\n",
        "    elif skewness < 0:\n",
        "        return \"Negative Skewness\"\n",
        "    else:\n",
        "        return \"Approximately Symmetric\"\n",
        "\n",
        "print(\"Skewness type of total_bill:\", determine_skewness_type(tips['total_bill']))\n",
        "print(\"Skewness type of tip:\", determine_skewness_type(tips['tip']))\n",
        "\n",
        "# (iii) Calculate Covariance\n",
        "def calculate_covariance(column1, column2):\n",
        "    return column1.cov(column2)\n",
        "\n",
        "print(\"Covariance between total_bill and tip:\", calculate_covariance(tips['total_bill'], tips['tip']))\n",
        "\n",
        "# (iv) Calculate Pearson Correlation Coefficient\n",
        "def calculate_pearson_correlation(column1, column2):\n",
        "    return column1.corr(column2)\n",
        "\n",
        "print(\"Pearson correlation between total_bill and tip:\", calculate_pearson_correlation(tips['total_bill'], tips['tip']))\n",
        "\n",
        "# (v) Visualize Correlation using Scatter Plot\n",
        "sns.scatterplot(x='total_bill', y='tip', data=tips)\n",
        "plt.title('Correlation between Total Bill and Tip')\n",
        "plt.show()\n"
      ],
      "metadata": {
        "id": "eXTt331zzjJ8"
      },
      "execution_count": null,
      "outputs": []
    },
    {
      "cell_type": "markdown",
      "source": [
        "##8 Write a Python funetion to caleulate the probability density function (PDF) of a continuous random variable for a given normal distribution."
      ],
      "metadata": {
        "id": "fObKllJfzv09"
      }
    },
    {
      "cell_type": "code",
      "source": [
        "from scipy.stats import norm\n",
        "\n",
        "def calculate_pdf(x, mean, std_dev):\n",
        "    return norm.pdf(x, mean, std_dev)\n",
        "\n",
        "x = np.linspace(-3, 3, 100)\n",
        "pdf_values = calculate_pdf(x, 0, 1)\n",
        "plt.plot(x, pdf_values)\n",
        "plt.title('PDF of a Normal Distribution')\n",
        "plt.show()\n"
      ],
      "metadata": {
        "id": "c9wnrlYBz22X"
      },
      "execution_count": null,
      "outputs": []
    },
    {
      "cell_type": "markdown",
      "source": [
        "##9 . Create a program to calculate the cumulative distribution function (CDF) of exponential distribution."
      ],
      "metadata": {
        "id": "HXTGCKCkz-1F"
      }
    },
    {
      "cell_type": "code",
      "source": [
        "from scipy.stats import expon\n",
        "\n",
        "def calculate_cdf(x, scale):\n",
        "    return expon.cdf(x, scale=scale)\n",
        "\n",
        "x = np.linspace(0, 10, 100)\n",
        "cdf_values = calculate_cdf(x, 1)\n",
        "plt.plot(x, cdf_values)\n",
        "plt.title('CDF of Exponential Distribution')\n",
        "plt.show()\n"
      ],
      "metadata": {
        "id": "nrjEHPMs0Ebl"
      },
      "execution_count": null,
      "outputs": []
    },
    {
      "cell_type": "markdown",
      "source": [
        "##10 10. Write a Python function to calculate the probability mass function (PMF) of Poisson distribution."
      ],
      "metadata": {
        "id": "2q7iySJf0LNa"
      }
    },
    {
      "cell_type": "code",
      "source": [
        "from scipy.stats import poisson\n",
        "\n",
        "def calculate_pmf(k, lam):\n",
        "    return poisson.pmf(k, lam)\n",
        "\n",
        "k = np.arange(0, 15)\n",
        "pmf_values = calculate_pmf(k, 3)\n",
        "plt.stem(k, pmf_values)\n",
        "plt.title('PMF of Poisson Distribution')\n",
        "plt.show()\n"
      ],
      "metadata": {
        "id": "gs32k2VszfZS"
      },
      "execution_count": null,
      "outputs": []
    },
    {
      "cell_type": "markdown",
      "source": [
        "##11 I1. A company wants to test if a new website layout leads to a higher conversion rate (percentage of visitors who make a purchase). They colleet data from the old and new layouts to compare. To generate the data use the following command: python import numpy os np # 50 purchases out of 1000 visitors ok_layout = np.array([1] * 50 + [o] * 950) # 70 purchases out of 1000 visitors new_layout = nparray([1] . 70 + [0] * 930) - Apply z-test to find which layout is successtul."
      ],
      "metadata": {
        "id": "VnnUVPp70XY3"
      }
    },
    {
      "cell_type": "code",
      "source": [
        "import numpy as np\n",
        "\n",
        "# 50 purchases out of 1000 visitors for old layout\n",
        "old_layout = np.array([1] * 50 + [0] * 950)\n",
        "\n",
        "# 70 purchases out of 1000 visitors for new layout\n",
        "new_layout = np.array([1] * 70 + [0] * 930)\n"
      ],
      "metadata": {
        "id": "GmSpOAJB0kek"
      },
      "execution_count": null,
      "outputs": []
    },
    {
      "cell_type": "code",
      "source": [
        "from statsmodels.stats.proportion import proportions_ztest\n",
        "\n",
        "# Calculate the number of successes and number of trials\n",
        "successes = np.array([sum(old_layout), sum(new_layout)])\n",
        "trials = np.array([len(old_layout), len(new_layout)])\n",
        "\n",
        "# Perform z-test\n",
        "z_stat, p_value = proportions_ztest(successes, trials)\n",
        "print(f\"Z-statistic: {z_stat:.4f}\")\n",
        "print(f\"P-value: {p_value:.4f}\")\n"
      ],
      "metadata": {
        "id": "_xHPzo4S0hud"
      },
      "execution_count": null,
      "outputs": []
    },
    {
      "cell_type": "markdown",
      "source": [
        "##12 A tutoring service elaims that its program improves students' exam scores. A sample of students who partieipated in the program was taken, and their scores before and after the program were recorded. rraysof marts: Use the below code to generate samples of respective arrays of marks: \"Python betore_program = np.array((75, 80, 85, 70, 90, 78, 90, 88, 82, 87]) after_program = np.array([80, 85, 90, 80, 92, 80, 95, 90, 85,8B]) Use z-test to find if the claims made by tutor are true or"
      ],
      "metadata": {
        "id": "cHOSeqM_1jxz"
      }
    },
    {
      "cell_type": "markdown",
      "source": [
        "Scenario 2: Tutoring Service Exam Scores\n",
        "First, let's generate the data:\n"
      ],
      "metadata": {
        "id": "DZGB7zVp0t7w"
      }
    },
    {
      "cell_type": "code",
      "source": [
        "before_program = np.array([75, 80, 85, 70, 90, 78, 90, 88, 82, 87])\n",
        "after_program = np.array([80, 85, 90, 80, 92, 80, 95, 90, 85, 88])\n"
      ],
      "metadata": {
        "id": "5JO0hNXl00tE"
      },
      "execution_count": null,
      "outputs": []
    },
    {
      "cell_type": "markdown",
      "source": [
        "Next, we'll perform a paired z-test to compare the exam scores before and after the program:"
      ],
      "metadata": {
        "id": "Tzmdn90h00W7"
      }
    },
    {
      "cell_type": "code",
      "source": [
        "from scipy import stats\n",
        "\n",
        "# Calculate the differences\n",
        "differences = after_program - before_program\n",
        "\n",
        "# Perform z-test\n",
        "mean_diff = np.mean(differences)\n",
        "std_diff = np.std(differences, ddof=1)\n",
        "n = len(differences)\n",
        "z_stat = mean_diff / (std_diff / np.sqrt(n))\n",
        "p_value = 2 * (1 - stats.norm.cdf(abs(z_stat)))\n",
        "\n",
        "print(f\"Z-statistic: {z_stat:.4f}\")\n",
        "print(f\"P-value: {p_value:.4f}\")\n"
      ],
      "metadata": {
        "id": "o4abJmzn08Va"
      },
      "execution_count": null,
      "outputs": []
    },
    {
      "cell_type": "markdown",
      "source": [
        "##13 13. A pharmaceutical company wants te determine it a new drug is effective in reducing blood pressure. They conduct a study and record blood pressure measurements before and after administering the drug. Use the below code to generate samples of respective arrays of blood pressure: \"python before_drug = np.array((145,150,140,135,156,160,152,148,130,138]) after_drug = np.array((130, 140, 132, 128, 145, 148, 138, 135, 125, 130]) Implement z-test to find if the drug really works or not."
      ],
      "metadata": {
        "id": "Un8wd04t1anh"
      }
    },
    {
      "cell_type": "markdown",
      "source": [
        "Scenario 3: Blood Pressure Reduction with New Drug"
      ],
      "metadata": {
        "id": "W9s_40C71A_G"
      }
    },
    {
      "cell_type": "code",
      "source": [
        "before_drug = np.array([145, 150, 140, 135, 156, 160, 152, 148, 130, 138])\n",
        "after_drug = np.array([130, 140, 132, 128, 145, 148, 138, 135, 125, 130])\n"
      ],
      "metadata": {
        "id": "SBK1ylab1G2m"
      },
      "execution_count": null,
      "outputs": []
    },
    {
      "cell_type": "code",
      "source": [
        "# Calculate the differences\n",
        "differences = before_drug - after_drug\n",
        "\n",
        "# Perform z-test\n",
        "mean_diff = np.mean(differences)\n",
        "std_diff = np.std(differences, ddof=1)\n",
        "n = len(differences)\n",
        "z_stat = mean_diff / (std_diff / np.sqrt(n))\n",
        "p_value = 2 * (1 - stats.norm.cdf(abs(z_stat)))\n",
        "\n",
        "print(f\"Z-statistic: {z_stat:.4f}\")\n",
        "print(f\"P-value: {p_value:.4f}\")\n"
      ],
      "metadata": {
        "id": "bXtnfPg71KeX"
      },
      "execution_count": null,
      "outputs": []
    },
    {
      "cell_type": "markdown",
      "source": [
        "##14 14. A custamar servica dapartment cleima that their averaga reaponse tima l leas than 5 minutes. A somple af recen sustamar interaotions wos teken, and the respense times were reserded. implemen the below oode to generate the anpy of response time: python responee_times = np.anay(|4.3, 3.8, 5l, 4.R, 4.7,42, 5.2,45. 46,4.4]) implement z-test to find the clnims made by customer service department ara tru or false."
      ],
      "metadata": {
        "id": "w8PcKpOCFH_y"
      }
    },
    {
      "cell_type": "markdown",
      "source": [
        "Customer Service Response Time\n",
        "To test if the average response time is less than 5 minutes, we'll perform a one-sample z-test.\n",
        "\n",
        "First, let's generate the data:\n"
      ],
      "metadata": {
        "id": "8FCr2It_F_eY"
      }
    },
    {
      "cell_type": "code",
      "source": [
        "import numpy as np\n",
        "\n",
        "response_times = np.array([4.3, 3.8, 5.1, 4.8, 4.7, 4.2, 5.2, 4.5, 4.6, 4.4])\n"
      ],
      "metadata": {
        "id": "ePKlug8SGC1k"
      },
      "execution_count": null,
      "outputs": []
    },
    {
      "cell_type": "code",
      "source": [
        "from scipy import stats\n",
        "\n",
        "# Hypothesized mean\n",
        "mu = 5\n",
        "\n",
        "# Sample mean and standard deviation\n",
        "sample_mean = np.mean(response_times)\n",
        "sample_std = np.std(response_times, ddof=1)\n",
        "n = len(response_times)\n",
        "\n",
        "# Z-test calculation\n",
        "z_stat = (sample_mean - mu) / (sample_std / np.sqrt(n))\n",
        "p_value = stats.norm.cdf(z_stat)  # One-tailed test\n",
        "\n",
        "print(f\"Z-statistic: {z_stat:.4f}\")\n",
        "print(f\"P-value: {p_value:.4f}\")\n"
      ],
      "metadata": {
        "id": "oQOI-KCOGGaT"
      },
      "execution_count": null,
      "outputs": []
    },
    {
      "cell_type": "markdown",
      "source": [
        "##15 A company is testing two differant website layauts te see which ane leads te higher elick-threugh rates. Write a Pythan functian ta parfoem an A/D tast analysia, including calculating the t-stathtic, degrees of feeedem. and p-value. use the foilowing dlata: \"python loyout_b_clicks = (40, 41, 38, 42, 30, 44, 43, 41, 45, 47]"
      ],
      "metadata": {
        "id": "6ZlRLZpXGLpC"
      }
    },
    {
      "cell_type": "markdown",
      "source": [
        "A/B Test for Website Click-Through Rates\n",
        "We'll perform a two-sample t-test to compare click-through rates.\n"
      ],
      "metadata": {
        "id": "SeUMAQTLGgea"
      }
    },
    {
      "cell_type": "code",
      "source": [
        "import numpy as np\n",
        "from scipy import stats\n",
        "\n",
        "layout_a_clicks = [34, 35, 38, 39, 45, 46, 50, 44, 48, 45]\n",
        "layout_b_clicks = [40, 41, 38, 42, 30, 44, 43, 41, 45, 47]\n",
        "\n",
        "def ab_test_analysis(clicks_a, clicks_b):\n",
        "    t_stat, p_value = stats.ttest_ind(clicks_a, clicks_b, equal_var=False)\n",
        "    df = len(clicks_a) + len(clicks_b) - 2\n",
        "    return t_stat, df, p_value\n",
        "\n",
        "t_stat, df, p_value = ab_test_analysis(layout_a_clicks, layout_b_clicks)\n",
        "print(f\"T-statistic: {t_stat:.4f}\")\n",
        "print(f\"Degrees of Freedom: {df}\")\n",
        "print(f\"P-value: {p_value:.4f}\")\n"
      ],
      "metadata": {
        "id": "0hKCvxd1GkZo"
      },
      "execution_count": null,
      "outputs": []
    },
    {
      "cell_type": "markdown",
      "source": [
        "##16 16. A phermoceutical company wonts to determine if a new drug is more etlestive than an existing drug in reducing cholesterel levels. Creste a program to analyze the clinical trial data and calculote the t statistis and p-vstue far the treatment etlest. Use the foilowing data of cholestral levet \"python edging_drug_leveis = [190, 182, 176, 185, 178, 176, 172, 194, 179, 193) nm_đrug_levels - [070, 172, 185, 185, 175, 173, 170, 108, 172, 176] ILLS"
      ],
      "metadata": {
        "id": "mT5jQKLhGq3v"
      }
    },
    {
      "cell_type": "code",
      "source": [
        "existing_drug_levels = [190, 182, 176, 185, 178, 176, 172, 194, 179, 193]\n",
        "new_drug_levels = [170, 172, 185, 185, 175, 173, 170, 168, 172, 176]\n",
        "\n",
        "t_stat, p_value = stats.ttest_ind(existing_drug_levels, new_drug_levels, equal_var=False)\n",
        "print(f\"T-statistic: {t_stat:.4f}\")\n",
        "print(f\"P-value: {p_value:.4f}\")\n"
      ],
      "metadata": {
        "id": "Jo1wMc2JGzAU"
      },
      "execution_count": null,
      "outputs": []
    },
    {
      "cell_type": "markdown",
      "source": [
        "##17 17. A schoal eistrict intreduces an educational interventian pragram to imprave math scares. Write a Python funetian te analyce pre- and past-interventian test scores, colculating the t-statistie and p-value to debarmine if the intervention hod a significant impact. Use the failawing cata of tet ipate: pythan pre_intervenion_scoms = (80.86, 60, 75.88.82. 92, 78, 86, 87] poat_intarvention_acoras = [90,92, 04,92, 95, 91 06, 93, 89, D3]\n",
        "Let's address each scenario one by one."
      ],
      "metadata": {
        "id": "FUACKw4IG7L_"
      }
    },
    {
      "cell_type": "code",
      "source": [
        "pre_intervention_scores = [80, 86, 60, 75, 88, 82, 92, 78, 86, 87]\n",
        "post_intervention_scores = [90, 92, 84, 92, 95, 91, 96, 93, 89, 93]\n",
        "\n",
        "t_stat, p_value = stats.ttest_rel(pre_intervention_scores, post_intervention_scores)\n",
        "print(f\"T-statistic: {t_stat:.4f}\")\n",
        "print(f\"P-value: {p_value:.4f}\")\n"
      ],
      "metadata": {
        "id": "Gwi0ChJrHBlG"
      },
      "execution_count": null,
      "outputs": []
    },
    {
      "cell_type": "markdown",
      "source": [
        "##18 1B. An HR departmant wants te invastigate it thare's a gander bassd salory gap within the compony. Davelop e program te analyzs selary deta, salculate the 1-steristie, and determine il theee's a statistically zignificant ditlerence betwean the avarage salariss of mala and famala amplsyass. Lae the below code to genarota synthate duta: python t Ganerate synthetic salary cata dar male and female employees fomole_solorias = nprandommormol[loc=56000, 5oole=9000, ske20) -"
      ],
      "metadata": {
        "id": "4sGdae61HKnq"
      }
    },
    {
      "cell_type": "markdown",
      "source": [
        "18. Gender-Based Salary Gap\n",
        "To investigate the gender-based salary gap, we'll perform a two-sample t-test for independent samples.\n",
        "\n",
        "First, let's generate the data:"
      ],
      "metadata": {
        "id": "EgYgh9YcHXRn"
      }
    },
    {
      "cell_type": "code",
      "source": [
        "import numpy as np\n",
        "\n",
        "# Generate synthetic salary data for male and female employees\n",
        "np.random.seed(42)  # For reproducibility\n",
        "male_salaries = np.random.normal(loc=60000, scale=10000, size=30)\n",
        "female_salaries = np.random.normal(loc=56000, scale=9000, size=30)\n"
      ],
      "metadata": {
        "id": "Bf7OcdBsHeG5"
      },
      "execution_count": null,
      "outputs": []
    },
    {
      "cell_type": "code",
      "source": [
        "from scipy import stats\n",
        "\n",
        "def gender_salary_gap_analysis(male_salaries, female_salaries):\n",
        "    t_stat, p_value = stats.ttest_ind(male_salaries, female_salaries, equal_var=False)\n",
        "    return t_stat, p_value\n",
        "\n",
        "t_stat, p_value = gender_salary_gap_analysis(male_salaries, female_salaries)\n",
        "print(f\"T-statistic: {t_stat:.4f}\")\n",
        "print(f\"P-value: {p_value:.4f}\")\n",
        "\n",
        "if p_value < 0.05:\n",
        "    print(\"There is a statistically significant difference between the average salaries of male and female employees.\")\n",
        "else:\n",
        "    print(\"There is no statistically significant difference between the average salaries of male and female employees.\")\n"
      ],
      "metadata": {
        "id": "JFD9UvYdHicQ"
      },
      "execution_count": null,
      "outputs": []
    },
    {
      "cell_type": "markdown",
      "source": [
        "##19 19. A manulacturar producas tas differant versions of a preduct and wants te campars thelr quallty scares. Creote o Fython function to onlyze quality essesiment deta, ecleulate the t-statistie, and decide whathar thera's a significant difference in quailty between the two varsiens. Lae the falawing claic python vanion2_sicons = [s0, 78,81,8l 70,82, 76, BO, 7B, 8L, TT, 82, 80, 79, 62, 79, 8D, 81, 79, 82, 7), 78, 50, 61, 82)"
      ],
      "metadata": {
        "id": "GzOR_OlOHsmz"
      }
    },
    {
      "cell_type": "markdown",
      "source": [
        "19. Quality Scores of Product Versions\n",
        "To compare the quality scores of two product versions, we'll perform a two-sample t-test for independent samples.\n",
        "\n",
        "First, let's use the given data:"
      ],
      "metadata": {
        "id": "oxWPLocjHzW_"
      }
    },
    {
      "cell_type": "code",
      "source": [
        "version1_scores = [50, 78, 81, 81, 70, 82, 76, 80, 78, 81, 77, 82, 80, 79, 82, 79, 80, 81, 79, 82, 70, 78, 50, 81, 82]\n",
        "version2_scores = [48, 75, 79, 79, 68, 79, 74, 77, 75, 79, 75, 78, 77, 76, 78, 77, 78, 78, 76, 79, 68, 76, 48, 79, 80]\n"
      ],
      "metadata": {
        "id": "s0n2opb-H3Le"
      },
      "execution_count": null,
      "outputs": []
    },
    {
      "cell_type": "code",
      "source": [
        "def quality_score_analysis(version1, version2):\n",
        "    t_stat, p_value = stats.ttest_ind(version1, version2, equal_var=False)\n",
        "    return t_stat, p_value\n",
        "\n",
        "t_stat, p_value = quality_score_analysis(version1_scores, version2_scores)\n",
        "print(f\"T-statistic: {t_stat:.4f}\")\n",
        "print(f\"P-value: {p_value:.4f}\")\n",
        "\n",
        "if p_value < 0.05:\n",
        "    print(\"There is a significant difference in quality between the two product versions.\")\n",
        "else:\n",
        "    print(\"There is no significant difference in quality between the two product versions.\")\n"
      ],
      "metadata": {
        "id": "dZvicD9bH6Tf"
      },
      "execution_count": null,
      "outputs": []
    },
    {
      "cell_type": "markdown",
      "source": [
        "20. A restauront chain collects customer satistaction scores for twa d fferent branches. Write a pragrem to anolyze the scares, calculate the t-stathtic, ond determine it thare's a stathtically significant aitterence in sustamar satisfastian betwean the branches. Use the below dato of 6ooms: \"pythan bronch_0_s0ores = [4, 5,3, 4, 5,4,6,3,4,4,6, 4, 4,3, 4, 5, 5,4,3, 4, 5.4, 3, 5, 4, 4, 5, 8, 4, 5, 4] branch_b_scoraz = [2, 4,2, 2, 4, 2, 4, 2, 2, 1, 4, 2, 2, 2, 1, 4, 4, 1, 2, 1, 4, 2, 2, 4, 2, 2, 4, 2, 2, 4, 3]"
      ],
      "metadata": {
        "id": "IVxYw9E-IBNz"
      }
    },
    {
      "cell_type": "markdown",
      "source": [
        "Customer Satisfaction Scores for Branches\n",
        "To compare customer satisfaction scores between two branches, we'll perform a two-sample t-test for independent samples.\n",
        "\n",
        "First, let's use the given data:"
      ],
      "metadata": {
        "id": "1EKNXEGnIQuL"
      }
    },
    {
      "cell_type": "code",
      "source": [
        "branch_a_scores = [4, 5, 3, 4, 5, 4, 6, 3, 4, 4, 6, 4, 4, 3, 4, 5, 5, 4, 3, 4, 5, 4, 3, 5, 4, 4, 5, 5, 4, 5, 4]\n",
        "branch_b_scores = [2, 4, 2, 2, 4, 2, 4, 2, 2, 1, 4, 2, 2, 2, 1, 4, 4, 1, 2, 1, 4, 2, 2, 4, 2, 2, 4, 2, 2, 4, 3]\n"
      ],
      "metadata": {
        "id": "5joncq-0IUE-"
      },
      "execution_count": null,
      "outputs": []
    },
    {
      "cell_type": "code",
      "source": [
        "def customer_satisfaction_analysis(branch_a, branch_b):\n",
        "    t_stat, p_value = stats.ttest_ind(branch_a, branch_b, equal_var=False)\n",
        "    return t_stat, p_value\n",
        "\n",
        "t_stat, p_value = customer_satisfaction_analysis(branch_a_scores, branch_b_scores)\n",
        "print(f\"T-statistic: {t_stat:.4f}\")\n",
        "print(f\"P-value: {p_value:.4f}\")\n",
        "\n",
        "if p_value < 0.05:\n",
        "    print(\"There is a statistically significant difference in customer satisfaction between the branches.\")\n",
        "else:\n",
        "    print(\"There is no statistically significant difference in customer satisfaction between the branches.\")\n"
      ],
      "metadata": {
        "id": "HHZA9xZKIXTo"
      },
      "execution_count": null,
      "outputs": []
    },
    {
      "cell_type": "markdown",
      "source": [
        "21. A political analyat wants te determina it thera is a significant asseciation between age graups and voter prelarences (Condidete A er Candidate 8). They estieet dato from o sempie of 500 vaters endelassily them Inta differant ags greup and candidate prefarences. Perfarm a Chi-Square tast to detarmins I! theee is a significont essociation betweon oge grsups and voter prolarences. Use the belom codé lo genaroba dotu python voter_pratasenoas = nprandomchaice(| Candidate A, 'Candidate B1, ain=30]"
      ],
      "metadata": {
        "id": "-2yEe0QXIfv1"
      }
    },
    {
      "cell_type": "markdown",
      "source": [
        "21. Chi-Square Test for Age Groups and Voter Preferences\n",
        "To determine if there is a significant association between age groups and voter preferences, we'll perform a Chi-Square test.\n",
        "\n",
        "First, let's generate the data:\n",
        "\n",
        "python"
      ],
      "metadata": {
        "id": "WxE8Loq3Ilx1"
      }
    },
    {
      "cell_type": "code",
      "source": [
        "import numpy as np\n",
        "import pandas as pd\n",
        "\n",
        "np.random.seed(42)  # For reproducibility\n",
        "age_groups = np.random.choice(['18-29', '30-44', '45-59', '60+'], size=500)\n",
        "voter_preferences = np.random.choice(['Candidate A', 'Candidate B'], size=500)\n",
        "\n",
        "# Create a DataFrame\n",
        "data = pd.DataFrame({'Age Group': age_groups, 'Voter Preference': voter_preferences})\n",
        "\n",
        "# Create a contingency table\n",
        "contingency_table = pd.crosstab(data['Age Group'], data['Voter Preference'])\n",
        "print(contingency_table)\n"
      ],
      "metadata": {
        "id": "jUQMpqZZInwR"
      },
      "execution_count": null,
      "outputs": []
    },
    {
      "cell_type": "code",
      "source": [
        "from scipy.stats import chi2_contingency\n",
        "\n",
        "chi2_stat, p_value, dof, expected = chi2_contingency(contingency_table)\n",
        "print(f\"Chi-Square Statistic: {chi2_stat:.4f}\")\n",
        "print(f\"P-value: {p_value:.4f}\")\n",
        "\n",
        "if p_value < 0.05:\n",
        "    print(\"There is a significant association between age groups and voter preferences.\")\n",
        "else:\n",
        "    print(\"There is no significant association between age groups and voter preferences.\")\n"
      ],
      "metadata": {
        "id": "87XjSpWJIL6a"
      },
      "execution_count": null,
      "outputs": []
    },
    {
      "cell_type": "markdown",
      "source": [
        "##20 22. A campany conducted a custemer satistaction survey to detarmins if there is asignificant relatonship betweon produst satisfostien leveis (satistied, Meutsal, Dissoistiea) and the regian where sustomers are locobed (Eot, Wast, North, South). The survay dote is summarized in a centingancy toble. Cenduct a Chl- Square test te determine il theee is a sigaificont reletionship betwean produst satisfoctien leveis and custamar ragient Somple daba: \"python #Sample claic Product satiraction levais (rowe) ws. Customer raglons [columna) data = np orray( |50, 20, 40, 20) |30, 40, 80, 50 [20, 30, 40,"
      ],
      "metadata": {
        "id": "hqLVooaqIxe9"
      }
    },
    {
      "cell_type": "markdown",
      "source": [
        "Chi-Square Test for Product Satisfaction and Customer Region\n",
        "We'll perform a Chi-Square test to determine if there's a significant relationship between product satisfaction levels and customer regions.\n",
        "\n",
        "First, let's generate the data:\n",
        "\n",
        "python"
      ],
      "metadata": {
        "id": "Mh_2wiLZI9sM"
      }
    },
    {
      "cell_type": "code",
      "source": [
        "import numpy as np\n",
        "\n",
        "# Sample data: Product satisfaction levels (rows) vs. Customer regions (columns)\n",
        "data = np.array([[50, 20, 40, 20], [30, 40, 80, 50], [20, 30, 40, 30]])\n"
      ],
      "metadata": {
        "id": "h99qBwijJB-v"
      },
      "execution_count": null,
      "outputs": []
    },
    {
      "cell_type": "code",
      "source": [
        "from scipy.stats import chi2_contingency\n",
        "\n",
        "chi2_stat, p_value, dof, expected = chi2_contingency(data)\n",
        "print(f\"Chi-Square Statistic: {chi2_stat:.4f}\")\n",
        "print(f\"P-value: {p_value:.4f}\")\n",
        "\n",
        "if p_value < 0.05:\n",
        "    print(\"There is a significant relationship between product satisfaction levels and customer regions.\")\n",
        "else:\n",
        "    print(\"There is no significant relationship between product satisfaction levels and customer regions.\")\n"
      ],
      "metadata": {
        "id": "IbOwhaFbJFfX"
      },
      "execution_count": null,
      "outputs": []
    },
    {
      "cell_type": "markdown",
      "source": [
        "24. A compony produces three eitlarent varsians af a praduct: Standard, Pramium, and Daluse, Tha cempary wants to detarmine il there is a significant ditterence in custemer satisfaction scores omong the three produst versions. Thay conducted a survay and collected customer satistaction scares far sach version from a random sample af custemers. Ferlarm on ANOVA test te determine i there is a significant ditlerence in custamar satisfactian scores. Use the following dioa: pythan # Sample data Customer satistaction soores far each product version premium_soores = |e0, 82. 88, 82. 96, BL 98, 93. 09.93| deluoa_sccrea = |05, D0, 02, 07, 95, 94, 90, 07, 92, 99)"
      ],
      "metadata": {
        "id": "IWU5LZIAJIzf"
      }
    },
    {
      "cell_type": "markdown",
      "source": [
        "ans - 24. ANOVA Test for Customer Satisfaction Scores Among Product Versions\n",
        "We'll perform an ANOVA test to determine if there's a significant difference in customer satisfaction scores among the three product versions.\n",
        "\n",
        "First, let's use the given data:"
      ],
      "metadata": {
        "id": "dYccXIlqJYwI"
      }
    },
    {
      "cell_type": "code",
      "source": [
        "import numpy as np\n",
        "\n",
        "# Sample data: Customer satisfaction scores for each product version\n",
        "standard_scores = [80, 85, 88, 82, 91, 85, 89, 92, 90, 87]\n",
        "premium_scores = [90, 82, 88, 82, 96, 91, 98, 93, 99, 93]\n",
        "deluxe_scores = [95, 90, 92, 97, 95, 94, 90, 97, 92, 99]\n"
      ],
      "metadata": {
        "id": "PHZ6Pl2tJdTw"
      },
      "execution_count": null,
      "outputs": []
    },
    {
      "cell_type": "code",
      "source": [
        "from scipy import stats\n",
        "\n",
        "def anova_test(*args):\n",
        "    f_stat, p_value = stats.f_oneway(*args)\n",
        "    return f_stat, p_value\n",
        "\n",
        "f_stat, p_value = anova_test(standard_scores, premium_scores, deluxe_scores)\n",
        "print(f\"F-statistic: {f_stat:.4f}\")\n",
        "print(f\"P-value: {p_value:.4f}\")\n",
        "\n",
        "if p_value < 0.05:\n",
        "    print(\"There is a significant difference in customer satisfaction scores among the three product versions.\")\n",
        "else:\n",
        "    print(\"There is no significant difference in customer satisfaction scores among the three product versions.\")\n"
      ],
      "metadata": {
        "id": "L0_Aj2QXJgVZ"
      },
      "execution_count": null,
      "outputs": []
    },
    {
      "cell_type": "markdown",
      "source": [],
      "metadata": {
        "id": "9Uzrj5UxGj_P"
      }
    },
    {
      "cell_type": "markdown",
      "source": [],
      "metadata": {
        "id": "5GIqWwN5Ge5G"
      }
    },
    {
      "cell_type": "markdown",
      "source": [],
      "metadata": {
        "id": "Nu7UrSe1o7u5"
      }
    }
  ]
}